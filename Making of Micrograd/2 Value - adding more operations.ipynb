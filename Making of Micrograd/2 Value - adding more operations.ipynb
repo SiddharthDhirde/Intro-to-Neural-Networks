{
 "cells": [
  {
   "cell_type": "code",
   "execution_count": 1,
   "id": "9ee4e5ae",
   "metadata": {},
   "outputs": [],
   "source": [
    "import numpy as np\n",
    "import matplotlib.pyplot as plt\n",
    "import math\n",
    "import torch"
   ]
  },
  {
   "cell_type": "code",
   "execution_count": 2,
   "id": "f31c76f8",
   "metadata": {},
   "outputs": [],
   "source": [
    "from graphviz import Digraph\n",
    "\n",
    "def trace(root):\n",
    "    # builds a set of all nodes and edges in graph\n",
    "    nodes, edges = set(), set()\n",
    "    def build(v):\n",
    "        if v not in nodes:\n",
    "            nodes.add(v)\n",
    "            for child in v._prev:\n",
    "                edges.add((child, v))\n",
    "                build(child)\n",
    "    build(root)\n",
    "    return nodes, edges\n",
    "\n",
    "def draw_dot(root):\n",
    "    dot = Digraph(format='svg', graph_attr={'rankdir': 'LR'}) # LR = left to right, TB = Top to Bottom\n",
    "\n",
    "    nodes, edges = trace(root)\n",
    "    for n in nodes:\n",
    "        uid = str(id(n))\n",
    "        # for any value in the graph, create a rectangular ('record') node for it\n",
    "        dot.node(name = uid, label = \"{ %s | data %.4f | grad %.4f }\" % (n.label, n.data, n.grad ), shape='record')\n",
    "        if n._op:\n",
    "            # if this value is result of some operation , create an op node for it\n",
    "            dot.node(name = uid + n._op, label = n._op)\n",
    "            # and connect this node to it\n",
    "            dot.edge(uid + n._op, uid)\n",
    "            \n",
    "    for n1, n2 in edges:\n",
    "        # connect n1 node to op node of n2\n",
    "        dot.edge(str(id(n1)), str(id(n2)) + n2._op)\n",
    "    \n",
    "    return dot"
   ]
  },
  {
   "cell_type": "markdown",
   "id": "0f768659",
   "metadata": {},
   "source": [
    "### - Breaking up a `tanh` function\n",
    "### - Adding more operations"
   ]
  },
  {
   "cell_type": "code",
   "execution_count": 3,
   "id": "69653b74",
   "metadata": {},
   "outputs": [],
   "source": [
    "class Value:\n",
    "    \n",
    "    def __init__( self, data, _children=(), _operation='', label='' ):\n",
    "        self.data = data\n",
    "        self.grad = 0.0\n",
    "        self._prev = set(_children)\n",
    "        self._op = _operation\n",
    "        self._backward = lambda: None \n",
    "        self.label = label\n",
    "        \n",
    "    def __repr__(self):\n",
    "        return f\"Value(data={self.data})\"\n",
    "    \n",
    "    def __add__(self, otherObj):\n",
    "        # Ensure that `otherObj` is of type `Value`, \n",
    "        # if not, create a new `Value` object with `otherObj` as its value\n",
    "        otherObj = otherObj if isinstance(otherObj, Value) else Value(otherObj)\n",
    "        out = Value(self.data + otherObj.data, (self, otherObj), '+' )\n",
    "        def _backward():\n",
    "            self.grad += 1.0 * out.grad\n",
    "            otherObj.grad += 1.0 * out.grad\n",
    "        out._backward = _backward \n",
    "        return out\n",
    "    \n",
    "    def __mul__(self, otherObj):\n",
    "        # Ensure that `otherObj` is of type `Value`, \n",
    "        # if not, create a new `Value` object with `otherObj` as its value\n",
    "        otherObj = otherObj if isinstance(otherObj, Value) else Value(otherObj)\n",
    "        out = Value(self.data * otherObj.data, (self, otherObj), '*')\n",
    "        def _backward():\n",
    "            self.grad += otherObj.data * out.grad\n",
    "            otherObj.grad += self.data * out.grad\n",
    "        out._backward = _backward \n",
    "        return out\n",
    "        \n",
    "    def tanh(self):\n",
    "        x = self.data\n",
    "        t = (math.exp(2*x) - 1) / (math.exp(2*x) + 1)\n",
    "        out = Value(t, (self, ),'tanh')\n",
    "        def _backward():\n",
    "            self.grad += (1 - t**2) * out.grad\n",
    "        out._backward = _backward \n",
    "        return out\n",
    "    \n",
    "    def backward(self):\n",
    "        topo = []\n",
    "        visited = set()\n",
    "        def build_topo(v):\n",
    "            if v not in visited:\n",
    "                visited.add(v)\n",
    "                for child in v._prev:\n",
    "                    build_topo(child)\n",
    "                topo.append(v)\n",
    "        build_topo(self)\n",
    "        self.grad = 1.0 \n",
    "        for node in reversed(topo):\n",
    "            node._backward()"
   ]
  },
  {
   "cell_type": "code",
   "execution_count": 4,
   "id": "7a458fa1",
   "metadata": {},
   "outputs": [
    {
     "name": "stdout",
     "output_type": "stream",
     "text": [
      "Value(data=15)\n"
     ]
    }
   ],
   "source": [
    "a = Value(5)\n",
    "b = Value(10)\n",
    "print(a+b)"
   ]
  },
  {
   "cell_type": "code",
   "execution_count": 5,
   "id": "e331079d",
   "metadata": {},
   "outputs": [
    {
     "name": "stdout",
     "output_type": "stream",
     "text": [
      "Value(data=15)\n",
      "Value(data=4587)\n"
     ]
    }
   ],
   "source": [
    "print(a + 10)\n",
    "print(a + 4582)"
   ]
  },
  {
   "cell_type": "code",
   "execution_count": 6,
   "id": "1eb44fea",
   "metadata": {},
   "outputs": [
    {
     "data": {
      "image/svg+xml": [
       "<?xml version=\"1.0\" encoding=\"UTF-8\" standalone=\"no\"?>\n",
       "<!DOCTYPE svg PUBLIC \"-//W3C//DTD SVG 1.1//EN\"\n",
       " \"http://www.w3.org/Graphics/SVG/1.1/DTD/svg11.dtd\">\n",
       "<!-- Generated by graphviz version 10.0.1 (20240210.2158)\n",
       " -->\n",
       "<!-- Pages: 1 -->\n",
       "<svg width=\"512pt\" height=\"100pt\"\n",
       " viewBox=\"0.00 0.00 512.00 100.00\" xmlns=\"http://www.w3.org/2000/svg\" xmlns:xlink=\"http://www.w3.org/1999/xlink\">\n",
       "<g id=\"graph0\" class=\"graph\" transform=\"scale(1 1) rotate(0) translate(4 96)\">\n",
       "<polygon fill=\"white\" stroke=\"none\" points=\"-4,4 -4,-96 508,-96 508,4 -4,4\"/>\n",
       "<!-- 1721761503920 -->\n",
       "<g id=\"node1\" class=\"node\">\n",
       "<title>1721761503920</title>\n",
       "<polygon fill=\"none\" stroke=\"black\" points=\"315,-27.5 315,-63.5 504,-63.5 504,-27.5 315,-27.5\"/>\n",
       "<text text-anchor=\"middle\" x=\"324.88\" y=\"-40.2\" font-family=\"Times New Roman,serif\" font-size=\"14.00\"> </text>\n",
       "<polyline fill=\"none\" stroke=\"black\" points=\"334.75,-27.75 334.75,-63.5\"/>\n",
       "<text text-anchor=\"middle\" x=\"378.38\" y=\"-40.2\" font-family=\"Times New Roman,serif\" font-size=\"14.00\">data 15.0000</text>\n",
       "<polyline fill=\"none\" stroke=\"black\" points=\"422,-27.75 422,-63.5\"/>\n",
       "<text text-anchor=\"middle\" x=\"463\" y=\"-40.2\" font-family=\"Times New Roman,serif\" font-size=\"14.00\">grad 0.0000</text>\n",
       "</g>\n",
       "<!-- 1721761503920+ -->\n",
       "<g id=\"node2\" class=\"node\">\n",
       "<title>1721761503920+</title>\n",
       "<ellipse fill=\"none\" stroke=\"black\" cx=\"252\" cy=\"-45.5\" rx=\"27\" ry=\"18\"/>\n",
       "<text text-anchor=\"middle\" x=\"252\" y=\"-40.08\" font-family=\"Times New Roman,serif\" font-size=\"14.00\">+</text>\n",
       "</g>\n",
       "<!-- 1721761503920+&#45;&gt;1721761503920 -->\n",
       "<g id=\"edge1\" class=\"edge\">\n",
       "<title>1721761503920+&#45;&gt;1721761503920</title>\n",
       "<path fill=\"none\" stroke=\"black\" d=\"M279.38,-45.5C286.51,-45.5 294.68,-45.5 303.37,-45.5\"/>\n",
       "<polygon fill=\"black\" stroke=\"black\" points=\"303.11,-49 313.11,-45.5 303.11,-42 303.11,-49\"/>\n",
       "</g>\n",
       "<!-- 1721761499456 -->\n",
       "<g id=\"node3\" class=\"node\">\n",
       "<title>1721761499456</title>\n",
       "<polygon fill=\"none\" stroke=\"black\" points=\"0,-55.5 0,-91.5 189,-91.5 189,-55.5 0,-55.5\"/>\n",
       "<text text-anchor=\"middle\" x=\"9.88\" y=\"-68.2\" font-family=\"Times New Roman,serif\" font-size=\"14.00\"> </text>\n",
       "<polyline fill=\"none\" stroke=\"black\" points=\"19.75,-55.75 19.75,-91.5\"/>\n",
       "<text text-anchor=\"middle\" x=\"63.38\" y=\"-68.2\" font-family=\"Times New Roman,serif\" font-size=\"14.00\">data 10.0000</text>\n",
       "<polyline fill=\"none\" stroke=\"black\" points=\"107,-55.75 107,-91.5\"/>\n",
       "<text text-anchor=\"middle\" x=\"148\" y=\"-68.2\" font-family=\"Times New Roman,serif\" font-size=\"14.00\">grad 0.0000</text>\n",
       "</g>\n",
       "<!-- 1721761499456&#45;&gt;1721761503920+ -->\n",
       "<g id=\"edge2\" class=\"edge\">\n",
       "<title>1721761499456&#45;&gt;1721761503920+</title>\n",
       "<path fill=\"none\" stroke=\"black\" d=\"M189.1,-56.65C197.98,-55.05 206.58,-53.5 214.39,-52.09\"/>\n",
       "<polygon fill=\"black\" stroke=\"black\" points=\"214.88,-55.56 224.1,-50.34 213.64,-48.67 214.88,-55.56\"/>\n",
       "</g>\n",
       "<!-- 1721761512800 -->\n",
       "<g id=\"node4\" class=\"node\">\n",
       "<title>1721761512800</title>\n",
       "<polygon fill=\"none\" stroke=\"black\" points=\"3.38,-0.5 3.38,-36.5 185.62,-36.5 185.62,-0.5 3.38,-0.5\"/>\n",
       "<text text-anchor=\"middle\" x=\"13.25\" y=\"-13.2\" font-family=\"Times New Roman,serif\" font-size=\"14.00\"> </text>\n",
       "<polyline fill=\"none\" stroke=\"black\" points=\"23.12,-0.75 23.12,-36.5\"/>\n",
       "<text text-anchor=\"middle\" x=\"63.38\" y=\"-13.2\" font-family=\"Times New Roman,serif\" font-size=\"14.00\">data 5.0000</text>\n",
       "<polyline fill=\"none\" stroke=\"black\" points=\"103.62,-0.75 103.62,-36.5\"/>\n",
       "<text text-anchor=\"middle\" x=\"144.62\" y=\"-13.2\" font-family=\"Times New Roman,serif\" font-size=\"14.00\">grad 0.0000</text>\n",
       "</g>\n",
       "<!-- 1721761512800&#45;&gt;1721761503920+ -->\n",
       "<g id=\"edge3\" class=\"edge\">\n",
       "<title>1721761512800&#45;&gt;1721761503920+</title>\n",
       "<path fill=\"none\" stroke=\"black\" d=\"M185.95,-34.21C195.88,-35.93 205.52,-37.6 214.2,-39.11\"/>\n",
       "<polygon fill=\"black\" stroke=\"black\" points=\"213.45,-42.53 223.9,-40.79 214.64,-35.63 213.45,-42.53\"/>\n",
       "</g>\n",
       "</g>\n",
       "</svg>\n"
      ],
      "text/plain": [
       "<graphviz.graphs.Digraph at 0x190e0fb9a50>"
      ]
     },
     "execution_count": 6,
     "metadata": {},
     "output_type": "execute_result"
    }
   ],
   "source": [
    "draw_dot(a + b)"
   ]
  },
  {
   "cell_type": "code",
   "execution_count": 7,
   "id": "9f8d34ed",
   "metadata": {},
   "outputs": [
    {
     "data": {
      "image/svg+xml": [
       "<?xml version=\"1.0\" encoding=\"UTF-8\" standalone=\"no\"?>\n",
       "<!DOCTYPE svg PUBLIC \"-//W3C//DTD SVG 1.1//EN\"\n",
       " \"http://www.w3.org/Graphics/SVG/1.1/DTD/svg11.dtd\">\n",
       "<!-- Generated by graphviz version 10.0.1 (20240210.2158)\n",
       " -->\n",
       "<!-- Pages: 1 -->\n",
       "<svg width=\"539pt\" height=\"100pt\"\n",
       " viewBox=\"0.00 0.00 539.00 100.00\" xmlns=\"http://www.w3.org/2000/svg\" xmlns:xlink=\"http://www.w3.org/1999/xlink\">\n",
       "<g id=\"graph0\" class=\"graph\" transform=\"scale(1 1) rotate(0) translate(4 96)\">\n",
       "<polygon fill=\"white\" stroke=\"none\" points=\"-4,4 -4,-96 535,-96 535,4 -4,4\"/>\n",
       "<!-- 1721761502624 -->\n",
       "<g id=\"node1\" class=\"node\">\n",
       "<title>1721761502624</title>\n",
       "<polygon fill=\"none\" stroke=\"black\" points=\"328.5,-27.5 328.5,-63.5 531,-63.5 531,-27.5 328.5,-27.5\"/>\n",
       "<text text-anchor=\"middle\" x=\"338.38\" y=\"-40.2\" font-family=\"Times New Roman,serif\" font-size=\"14.00\"> </text>\n",
       "<polyline fill=\"none\" stroke=\"black\" points=\"348.25,-27.75 348.25,-63.5\"/>\n",
       "<text text-anchor=\"middle\" x=\"398.62\" y=\"-40.2\" font-family=\"Times New Roman,serif\" font-size=\"14.00\">data 4587.0000</text>\n",
       "<polyline fill=\"none\" stroke=\"black\" points=\"449,-27.75 449,-63.5\"/>\n",
       "<text text-anchor=\"middle\" x=\"490\" y=\"-40.2\" font-family=\"Times New Roman,serif\" font-size=\"14.00\">grad 0.0000</text>\n",
       "</g>\n",
       "<!-- 1721761502624+ -->\n",
       "<g id=\"node2\" class=\"node\">\n",
       "<title>1721761502624+</title>\n",
       "<ellipse fill=\"none\" stroke=\"black\" cx=\"265.5\" cy=\"-45.5\" rx=\"27\" ry=\"18\"/>\n",
       "<text text-anchor=\"middle\" x=\"265.5\" y=\"-40.08\" font-family=\"Times New Roman,serif\" font-size=\"14.00\">+</text>\n",
       "</g>\n",
       "<!-- 1721761502624+&#45;&gt;1721761502624 -->\n",
       "<g id=\"edge1\" class=\"edge\">\n",
       "<title>1721761502624+&#45;&gt;1721761502624</title>\n",
       "<path fill=\"none\" stroke=\"black\" d=\"M292.93,-45.5C300.06,-45.5 308.25,-45.5 317,-45.5\"/>\n",
       "<polygon fill=\"black\" stroke=\"black\" points=\"316.83,-49 326.83,-45.5 316.83,-42 316.83,-49\"/>\n",
       "</g>\n",
       "<!-- 1721761502672 -->\n",
       "<g id=\"node3\" class=\"node\">\n",
       "<title>1721761502672</title>\n",
       "<polygon fill=\"none\" stroke=\"black\" points=\"0,-55.5 0,-91.5 202.5,-91.5 202.5,-55.5 0,-55.5\"/>\n",
       "<text text-anchor=\"middle\" x=\"9.88\" y=\"-68.2\" font-family=\"Times New Roman,serif\" font-size=\"14.00\"> </text>\n",
       "<polyline fill=\"none\" stroke=\"black\" points=\"19.75,-55.75 19.75,-91.5\"/>\n",
       "<text text-anchor=\"middle\" x=\"70.12\" y=\"-68.2\" font-family=\"Times New Roman,serif\" font-size=\"14.00\">data 4582.0000</text>\n",
       "<polyline fill=\"none\" stroke=\"black\" points=\"120.5,-55.75 120.5,-91.5\"/>\n",
       "<text text-anchor=\"middle\" x=\"161.5\" y=\"-68.2\" font-family=\"Times New Roman,serif\" font-size=\"14.00\">grad 0.0000</text>\n",
       "</g>\n",
       "<!-- 1721761502672&#45;&gt;1721761502624+ -->\n",
       "<g id=\"edge2\" class=\"edge\">\n",
       "<title>1721761502672&#45;&gt;1721761502624+</title>\n",
       "<path fill=\"none\" stroke=\"black\" d=\"M202.7,-56.17C211.57,-54.64 220.11,-53.16 227.86,-51.82\"/>\n",
       "<polygon fill=\"black\" stroke=\"black\" points=\"228.22,-55.31 237.48,-50.16 227.03,-48.41 228.22,-55.31\"/>\n",
       "</g>\n",
       "<!-- 1721761512800 -->\n",
       "<g id=\"node4\" class=\"node\">\n",
       "<title>1721761512800</title>\n",
       "<polygon fill=\"none\" stroke=\"black\" points=\"10.12,-0.5 10.12,-36.5 192.38,-36.5 192.38,-0.5 10.12,-0.5\"/>\n",
       "<text text-anchor=\"middle\" x=\"20\" y=\"-13.2\" font-family=\"Times New Roman,serif\" font-size=\"14.00\"> </text>\n",
       "<polyline fill=\"none\" stroke=\"black\" points=\"29.88,-0.75 29.88,-36.5\"/>\n",
       "<text text-anchor=\"middle\" x=\"70.12\" y=\"-13.2\" font-family=\"Times New Roman,serif\" font-size=\"14.00\">data 5.0000</text>\n",
       "<polyline fill=\"none\" stroke=\"black\" points=\"110.38,-0.75 110.38,-36.5\"/>\n",
       "<text text-anchor=\"middle\" x=\"151.38\" y=\"-13.2\" font-family=\"Times New Roman,serif\" font-size=\"14.00\">grad 0.0000</text>\n",
       "</g>\n",
       "<!-- 1721761512800&#45;&gt;1721761502624+ -->\n",
       "<g id=\"edge3\" class=\"edge\">\n",
       "<title>1721761512800&#45;&gt;1721761502624+</title>\n",
       "<path fill=\"none\" stroke=\"black\" d=\"M192.86,-33.58C205.1,-35.61 217.04,-37.6 227.56,-39.35\"/>\n",
       "<polygon fill=\"black\" stroke=\"black\" points=\"226.84,-42.78 237.28,-40.97 227.99,-35.88 226.84,-42.78\"/>\n",
       "</g>\n",
       "</g>\n",
       "</svg>\n"
      ],
      "text/plain": [
       "<graphviz.graphs.Digraph at 0x190e0fb9630>"
      ]
     },
     "execution_count": 7,
     "metadata": {},
     "output_type": "execute_result"
    }
   ],
   "source": [
    "draw_dot(a + 4582 )"
   ]
  },
  {
   "cell_type": "code",
   "execution_count": null,
   "id": "5bf5785a",
   "metadata": {},
   "outputs": [],
   "source": []
  },
  {
   "cell_type": "code",
   "execution_count": 8,
   "id": "5fa024f7",
   "metadata": {},
   "outputs": [
    {
     "name": "stdout",
     "output_type": "stream",
     "text": [
      "Value(data=25)\n"
     ]
    },
    {
     "data": {
      "image/svg+xml": [
       "<?xml version=\"1.0\" encoding=\"UTF-8\" standalone=\"no\"?>\n",
       "<!DOCTYPE svg PUBLIC \"-//W3C//DTD SVG 1.1//EN\"\n",
       " \"http://www.w3.org/Graphics/SVG/1.1/DTD/svg11.dtd\">\n",
       "<!-- Generated by graphviz version 10.0.1 (20240210.2158)\n",
       " -->\n",
       "<!-- Pages: 1 -->\n",
       "<svg width=\"505pt\" height=\"100pt\"\n",
       " viewBox=\"0.00 0.00 505.25 100.00\" xmlns=\"http://www.w3.org/2000/svg\" xmlns:xlink=\"http://www.w3.org/1999/xlink\">\n",
       "<g id=\"graph0\" class=\"graph\" transform=\"scale(1 1) rotate(0) translate(4 96)\">\n",
       "<polygon fill=\"white\" stroke=\"none\" points=\"-4,4 -4,-96 501.25,-96 501.25,4 -4,4\"/>\n",
       "<!-- 1721761503872 -->\n",
       "<g id=\"node1\" class=\"node\">\n",
       "<title>1721761503872</title>\n",
       "<polygon fill=\"none\" stroke=\"black\" points=\"308.25,-27.5 308.25,-63.5 497.25,-63.5 497.25,-27.5 308.25,-27.5\"/>\n",
       "<text text-anchor=\"middle\" x=\"318.12\" y=\"-40.2\" font-family=\"Times New Roman,serif\" font-size=\"14.00\"> </text>\n",
       "<polyline fill=\"none\" stroke=\"black\" points=\"328,-27.75 328,-63.5\"/>\n",
       "<text text-anchor=\"middle\" x=\"371.62\" y=\"-40.2\" font-family=\"Times New Roman,serif\" font-size=\"14.00\">data 25.0000</text>\n",
       "<polyline fill=\"none\" stroke=\"black\" points=\"415.25,-27.75 415.25,-63.5\"/>\n",
       "<text text-anchor=\"middle\" x=\"456.25\" y=\"-40.2\" font-family=\"Times New Roman,serif\" font-size=\"14.00\">grad 0.0000</text>\n",
       "</g>\n",
       "<!-- 1721761503872* -->\n",
       "<g id=\"node2\" class=\"node\">\n",
       "<title>1721761503872*</title>\n",
       "<ellipse fill=\"none\" stroke=\"black\" cx=\"245.25\" cy=\"-45.5\" rx=\"27\" ry=\"18\"/>\n",
       "<text text-anchor=\"middle\" x=\"245.25\" y=\"-40.08\" font-family=\"Times New Roman,serif\" font-size=\"14.00\">*</text>\n",
       "</g>\n",
       "<!-- 1721761503872*&#45;&gt;1721761503872 -->\n",
       "<g id=\"edge1\" class=\"edge\">\n",
       "<title>1721761503872*&#45;&gt;1721761503872</title>\n",
       "<path fill=\"none\" stroke=\"black\" d=\"M272.63,-45.5C279.76,-45.5 287.93,-45.5 296.62,-45.5\"/>\n",
       "<polygon fill=\"black\" stroke=\"black\" points=\"296.36,-49 306.36,-45.5 296.36,-42 296.36,-49\"/>\n",
       "</g>\n",
       "<!-- 1721761501568 -->\n",
       "<g id=\"node3\" class=\"node\">\n",
       "<title>1721761501568</title>\n",
       "<polygon fill=\"none\" stroke=\"black\" points=\"0,-55.5 0,-91.5 182.25,-91.5 182.25,-55.5 0,-55.5\"/>\n",
       "<text text-anchor=\"middle\" x=\"9.88\" y=\"-68.2\" font-family=\"Times New Roman,serif\" font-size=\"14.00\"> </text>\n",
       "<polyline fill=\"none\" stroke=\"black\" points=\"19.75,-55.75 19.75,-91.5\"/>\n",
       "<text text-anchor=\"middle\" x=\"60\" y=\"-68.2\" font-family=\"Times New Roman,serif\" font-size=\"14.00\">data 5.0000</text>\n",
       "<polyline fill=\"none\" stroke=\"black\" points=\"100.25,-55.75 100.25,-91.5\"/>\n",
       "<text text-anchor=\"middle\" x=\"141.25\" y=\"-68.2\" font-family=\"Times New Roman,serif\" font-size=\"14.00\">grad 0.0000</text>\n",
       "</g>\n",
       "<!-- 1721761501568&#45;&gt;1721761503872* -->\n",
       "<g id=\"edge3\" class=\"edge\">\n",
       "<title>1721761501568&#45;&gt;1721761503872*</title>\n",
       "<path fill=\"none\" stroke=\"black\" d=\"M182.37,-56.89C191.21,-55.26 199.78,-53.68 207.59,-52.25\"/>\n",
       "<polygon fill=\"black\" stroke=\"black\" points=\"208.1,-55.71 217.3,-50.46 206.83,-48.83 208.1,-55.71\"/>\n",
       "</g>\n",
       "<!-- 1721761512800 -->\n",
       "<g id=\"node4\" class=\"node\">\n",
       "<title>1721761512800</title>\n",
       "<polygon fill=\"none\" stroke=\"black\" points=\"0,-0.5 0,-36.5 182.25,-36.5 182.25,-0.5 0,-0.5\"/>\n",
       "<text text-anchor=\"middle\" x=\"9.88\" y=\"-13.2\" font-family=\"Times New Roman,serif\" font-size=\"14.00\"> </text>\n",
       "<polyline fill=\"none\" stroke=\"black\" points=\"19.75,-0.75 19.75,-36.5\"/>\n",
       "<text text-anchor=\"middle\" x=\"60\" y=\"-13.2\" font-family=\"Times New Roman,serif\" font-size=\"14.00\">data 5.0000</text>\n",
       "<polyline fill=\"none\" stroke=\"black\" points=\"100.25,-0.75 100.25,-36.5\"/>\n",
       "<text text-anchor=\"middle\" x=\"141.25\" y=\"-13.2\" font-family=\"Times New Roman,serif\" font-size=\"14.00\">grad 0.0000</text>\n",
       "</g>\n",
       "<!-- 1721761512800&#45;&gt;1721761503872* -->\n",
       "<g id=\"edge2\" class=\"edge\">\n",
       "<title>1721761512800&#45;&gt;1721761503872*</title>\n",
       "<path fill=\"none\" stroke=\"black\" d=\"M182.37,-34.52C191.21,-36.09 199.78,-37.61 207.59,-38.99\"/>\n",
       "<polygon fill=\"black\" stroke=\"black\" points=\"206.84,-42.41 217.3,-40.72 208.06,-35.52 206.84,-42.41\"/>\n",
       "</g>\n",
       "</g>\n",
       "</svg>\n"
      ],
      "text/plain": [
       "<graphviz.graphs.Digraph at 0x190e0fbbc70>"
      ]
     },
     "execution_count": 8,
     "metadata": {},
     "output_type": "execute_result"
    }
   ],
   "source": [
    "print(a * 5)\n",
    "draw_dot(a*5)"
   ]
  },
  {
   "cell_type": "code",
   "execution_count": null,
   "id": "20c4ae8e",
   "metadata": {},
   "outputs": [],
   "source": []
  },
  {
   "cell_type": "code",
   "execution_count": 9,
   "id": "125e5d97",
   "metadata": {},
   "outputs": [],
   "source": [
    "# reverse doesn't work\n",
    "# 5 * a\n",
    "\n",
    "# TypeError: unsupported operand type(s) for *: 'int' and 'Value'"
   ]
  },
  {
   "cell_type": "markdown",
   "id": "8ffc7886",
   "metadata": {},
   "source": [
    "### Special Methods for Arithmetic Operations in Python\n",
    "\n",
    "Python provides special methods, often referred to as \"magic methods\" or \"dunder methods\" (short for \"double underscore\"), to define the behavior of built-in operators like addition (`+`), multiplication (`*`), etc., for user-defined objects. These methods enable custom objects to support arithmetic operations seamlessly.\n",
    "\n",
    "#### Right-Hand Arithmetic Operations:\n",
    "\n",
    "1. **`__radd__(self, other)`**: This method defines the behavior of the right-hand addition operation (`+`) when the left operand does not support the operation. It is called when the object appears on the right side of the `+` operator.\n",
    "   \n",
    "2. **`__rsub__(self, other)`**: Defines the behavior of the right-hand subtraction operation (`-`).\n",
    "\n",
    "3. **`__rmul__(self, other)`**: Defines the behavior of the right-hand multiplication operation (`*`).\n",
    "\n",
    "4. **`__rdiv__(self, other)`**: Defines the behavior of the right-hand division operation (`/`).\n",
    "\n",
    "5. **`__rmod__(self, other)`**: Defines the behavior of the right-hand modulo operation (`%`).\n",
    "\n",
    "#### Right-Hand Arithmetic Operations:\n",
    "\n",
    "1. **`__rmul__(self, otherObj)`**: This method defines the behavior of the right-hand multiplication operation (`*`). It is called when the object appears on the right side of the `*` operator, and the left operand does not support the operation.\n",
    "\n",
    "2. **`__mul__(self, otherObj)`**: This method defines the behavior of the left-hand multiplication operation (`*`). It is called when the object appears on the left side of the `*` operator, or when both operands support the operation.\n",
    "\n",
    "#### Usage Example:\n",
    "\n",
    "```python\n",
    "class Value:\n",
    "    def __init__(self, data):\n",
    "        self.data = data\n",
    "\n",
    "    def __rmul__(self, otherObj):\n",
    "        return Value(self.data * otherObj)\n",
    "\n",
    "    def __mul__(self, otherObj):\n",
    "        return Value(self.data * otherObj)\n",
    "\n",
    "a = Value(5)\n",
    "b = 3\n",
    "\n",
    "result1 = a * b  # Calls a.__mul__(b), returns a new instance of Value with data 15\n",
    "result2 = b * a  # Calls a.__rmul__(b), returns a new instance of Value with data 15\n",
    "\n",
    "print(result1.data)  # Output: 15\n",
    "print(result2.data)  # Output: 15\n",
    "```"
   ]
  },
  {
   "cell_type": "markdown",
   "id": "960de8e4",
   "metadata": {},
   "source": [
    "---"
   ]
  },
  {
   "cell_type": "code",
   "execution_count": 10,
   "id": "917d39b5",
   "metadata": {},
   "outputs": [],
   "source": [
    "class Value:\n",
    "    \n",
    "    def __init__( self, data, _children=(), _operation='', label='' ):\n",
    "        self.data = data\n",
    "        self.grad = 0.0\n",
    "        self._prev = set(_children)\n",
    "        self._op = _operation\n",
    "        self._backward = lambda: None \n",
    "        self.label = label\n",
    "        \n",
    "    def __repr__(self):\n",
    "        return f\"Value(data={self.data})\"\n",
    "    \n",
    "    def __add__(self, otherObj):\n",
    "        otherObj = otherObj if isinstance(otherObj, Value) else Value(otherObj)\n",
    "        out = Value(self.data + otherObj.data, (self, otherObj), '+' )\n",
    "        def _backward():\n",
    "            self.grad += 1.0 * out.grad\n",
    "            otherObj.grad += 1.0 * out.grad\n",
    "        out._backward = _backward \n",
    "        return out\n",
    "    \n",
    "    # Right-Hand Arithmetic Operation\n",
    "    def __radd__(self, otherObj):\n",
    "        return self+otherObj\n",
    "    \n",
    "    def __mul__(self, otherObj):\n",
    "        otherObj = otherObj if isinstance(otherObj, Value) else Value(otherObj)\n",
    "        out = Value(self.data * otherObj.data, (self, otherObj), '*')\n",
    "        def _backward():\n",
    "            self.grad += otherObj.data * out.grad\n",
    "            otherObj.grad += self.data * out.grad\n",
    "        out._backward = _backward \n",
    "        return out\n",
    "    \n",
    "    # Right-Hand Arithmetic Operation\n",
    "    def __rmul__(self, otherObj):\n",
    "        return self*otherObj\n",
    "    \n",
    "    def tanh(self):\n",
    "        x = self.data\n",
    "        t = (math.exp(2*x) - 1) / (math.exp(2*x) + 1)\n",
    "        out = Value(t, (self, ),'tanh')\n",
    "        def _backward():\n",
    "            self.grad += (1 - t**2) * out.grad\n",
    "        out._backward = _backward \n",
    "        return out\n",
    "    \n",
    "    def backward(self):\n",
    "        topo = []\n",
    "        visited = set()\n",
    "        def build_topo(v):\n",
    "            if v not in visited:\n",
    "                visited.add(v)\n",
    "                for child in v._prev:\n",
    "                    build_topo(child)\n",
    "                topo.append(v)\n",
    "        build_topo(self)\n",
    "        self.grad = 1.0 \n",
    "        for node in reversed(topo):\n",
    "            node._backward()"
   ]
  },
  {
   "cell_type": "code",
   "execution_count": 11,
   "id": "8c17369a",
   "metadata": {},
   "outputs": [
    {
     "name": "stdout",
     "output_type": "stream",
     "text": [
      "Value(data=4587)\n",
      "Value(data=4587)\n"
     ]
    }
   ],
   "source": [
    "a = Value(5)\n",
    "print(a + 4582)\n",
    "print(4582 + a)"
   ]
  },
  {
   "cell_type": "code",
   "execution_count": 12,
   "id": "aba93059",
   "metadata": {},
   "outputs": [
    {
     "name": "stdout",
     "output_type": "stream",
     "text": [
      "Value(data=50)\n",
      "Value(data=50)\n"
     ]
    }
   ],
   "source": [
    "a = Value(5)\n",
    "print(a * 10)\n",
    "print(10 * a)"
   ]
  },
  {
   "cell_type": "markdown",
   "id": "aa2a712a",
   "metadata": {},
   "source": [
    "---"
   ]
  },
  {
   "cell_type": "markdown",
   "id": "73433d14",
   "metadata": {},
   "source": [
    "### Understanding the Hyperbolic Tangent (tanh) Function\n",
    "\n",
    "The hyperbolic tangent function, often denoted as \\\\( \\text{tanh}(x) \\\\), is a fundamental component in machine learning, particularly in neural networks. It serves as an activation function, transforming input values into a bounded output range.\n",
    "\n",
    "#### Function Definition:\n",
    "The tanh function is defined mathematically as:\n",
    "\n",
    "\\\\[ \\text{tanh}(x) = \\frac{e^x - e^{-x}}{e^x + e^{-x}} = \\frac{e^{2x} - 1}{e^{2x} + 1}\\\\]\n"
   ]
  },
  {
   "cell_type": "markdown",
   "id": "fce559e8",
   "metadata": {},
   "source": [
    "---"
   ]
  },
  {
   "cell_type": "markdown",
   "id": "d86a25d4",
   "metadata": {},
   "source": [
    "### Updating Value: adding exponentiation using Euler's number e"
   ]
  },
  {
   "cell_type": "code",
   "execution_count": 13,
   "id": "39e0dd0e",
   "metadata": {},
   "outputs": [],
   "source": [
    "class Value:\n",
    "    \n",
    "    def __init__( self, data, _children=(), _operation='', label='' ):\n",
    "        self.data = data\n",
    "        self.grad = 0.0\n",
    "        self._prev = set(_children)\n",
    "        self._op = _operation\n",
    "        self._backward = lambda: None \n",
    "        self.label = label\n",
    "        \n",
    "    def __repr__(self):\n",
    "        return f\"Value(data={self.data})\"\n",
    "    \n",
    "    def __add__(self, otherObj):\n",
    "        otherObj = otherObj if isinstance(otherObj, Value) else Value(otherObj)\n",
    "        out = Value(self.data + otherObj.data, (self, otherObj), '+' )\n",
    "        def _backward():\n",
    "            self.grad += 1.0 * out.grad\n",
    "            otherObj.grad += 1.0 * out.grad\n",
    "        out._backward = _backward \n",
    "        return out\n",
    "    \n",
    "    def __radd__(self, otherObj):\n",
    "        return self+otherObj\n",
    "    \n",
    "    def __mul__(self, otherObj):\n",
    "        otherObj = otherObj if isinstance(otherObj, Value) else Value(otherObj)\n",
    "        out = Value(self.data * otherObj.data, (self, otherObj), '*')\n",
    "        def _backward():\n",
    "            self.grad += otherObj.data * out.grad\n",
    "            otherObj.grad += self.data * out.grad\n",
    "        out._backward = _backward \n",
    "        return out\n",
    "    \n",
    "    def __rmul__(self, otherObj):\n",
    "        return self*otherObj\n",
    "\n",
    "    def tanh(self):\n",
    "        x = self.data\n",
    "        t = (math.exp(2*x) - 1) / (math.exp(2*x) + 1)\n",
    "        out = Value(t, (self, ),'tanh')\n",
    "        def _backward():\n",
    "            self.grad += (1 - t**2) * out.grad\n",
    "        out._backward = _backward \n",
    "        return out\n",
    "    \n",
    "    def exp(self):\n",
    "        x = self.data\n",
    "        out = Value(math.exp(x), (self, ), 'exp')\n",
    "        def _backward():\n",
    "            self.grad += out.data * out.grad\n",
    "        return out\n",
    "        \n",
    "    def backward(self):\n",
    "        topo = []\n",
    "        visited = set()\n",
    "        def build_topo(v):\n",
    "            if v not in visited:\n",
    "                visited.add(v)\n",
    "                for child in v._prev:\n",
    "                    build_topo(child)\n",
    "                topo.append(v)\n",
    "        build_topo(self)\n",
    "        self.grad = 1.0 \n",
    "        for node in reversed(topo):\n",
    "            node._backward()"
   ]
  },
  {
   "cell_type": "code",
   "execution_count": 14,
   "id": "f6f0cb5e",
   "metadata": {},
   "outputs": [],
   "source": [
    "a= Value(2)"
   ]
  },
  {
   "cell_type": "code",
   "execution_count": 15,
   "id": "4ff14a36",
   "metadata": {},
   "outputs": [
    {
     "data": {
      "text/plain": [
       "Value(data=7.38905609893065)"
      ]
     },
     "execution_count": 15,
     "metadata": {},
     "output_type": "execute_result"
    }
   ],
   "source": [
    "a.exp()"
   ]
  },
  {
   "cell_type": "code",
   "execution_count": 16,
   "id": "8758d89e",
   "metadata": {},
   "outputs": [
    {
     "data": {
      "text/plain": [
       "7.3890461584"
      ]
     },
     "execution_count": 16,
     "metadata": {},
     "output_type": "execute_result"
    }
   ],
   "source": [
    "2.71828**2"
   ]
  },
  {
   "cell_type": "code",
   "execution_count": 17,
   "id": "1f224e7e",
   "metadata": {},
   "outputs": [
    {
     "name": "stdout",
     "output_type": "stream",
     "text": [
      "Value(data=2) Value(data=5)\n"
     ]
    }
   ],
   "source": [
    "b = Value(5)\n",
    "print(a, b)"
   ]
  },
  {
   "cell_type": "code",
   "execution_count": 18,
   "id": "66de5795",
   "metadata": {},
   "outputs": [
    {
     "data": {
      "text/plain": [
       "(Value(data=2), Value(data=5))"
      ]
     },
     "execution_count": 18,
     "metadata": {},
     "output_type": "execute_result"
    }
   ],
   "source": [
    "a, b"
   ]
  },
  {
   "cell_type": "markdown",
   "id": "b1fb09df",
   "metadata": {},
   "source": [
    "---\n",
    "---"
   ]
  },
  {
   "cell_type": "markdown",
   "id": "708f3a37",
   "metadata": {},
   "source": [
    "### division of Values"
   ]
  },
  {
   "cell_type": "code",
   "execution_count": 19,
   "id": "f87e6598",
   "metadata": {
    "scrolled": false
   },
   "outputs": [],
   "source": [
    "# a / b\n",
    "\n",
    "# TypeError: unsupported operand type(s) for /: 'Value' and 'Value'"
   ]
  },
  {
   "cell_type": "markdown",
   "id": "fd73e6ee",
   "metadata": {},
   "source": [
    "### all operations are same\n",
    "- a / b\n",
    "- a * (1/b)\n",
    "- a * (b**-1) \n",
    "#### we need power operation `**` and subtraction operation `-` as well \n",
    "- `a - b` is same as `a + (-b)`"
   ]
  },
  {
   "cell_type": "code",
   "execution_count": 20,
   "id": "ab28e34d",
   "metadata": {},
   "outputs": [
    {
     "name": "stdout",
     "output_type": "stream",
     "text": [
      "2.5\n",
      "2.5\n",
      "2.5\n"
     ]
    }
   ],
   "source": [
    "x = 10\n",
    "y = 4\n",
    "\n",
    "print(x/y)\n",
    "print(x* (1/y))\n",
    "print(x * (y)**-1)"
   ]
  },
  {
   "cell_type": "markdown",
   "id": "d3e119c9",
   "metadata": {},
   "source": [
    " "
   ]
  },
  {
   "cell_type": "markdown",
   "id": "fb878386",
   "metadata": {},
   "source": [
    "### Understanding the `assert` Statement in Python\n",
    "\n",
    "The `assert` statement is a powerful tool in Python used to debug code and ensure that certain conditions are met during program execution. It allows you to quickly verify assumptions about your code and catch potential errors early in the development process.\n",
    "\n",
    "#### Syntax:\n",
    "\n",
    "The syntax of the `assert` statement is simple:\n",
    "\n",
    "```python\n",
    "assert condition, message\n",
    "x = 10\n",
    "assert x > 0, \"Value of x must be positive\"\n",
    "\n"
   ]
  },
  {
   "cell_type": "code",
   "execution_count": 21,
   "id": "96dae19d",
   "metadata": {},
   "outputs": [],
   "source": [
    "class Value:\n",
    "    \n",
    "    def __init__( self, data, _children=(), _operation='', label='' ):\n",
    "        self.data = data\n",
    "        self.grad = 0.0\n",
    "        self._prev = set(_children)\n",
    "        self._op = _operation\n",
    "        self._backward = lambda: None \n",
    "        self.label = label\n",
    "        \n",
    "    def __repr__(self):\n",
    "        return f\"Value(data={self.data})\"\n",
    "    \n",
    "    def __add__(self, otherObj):\n",
    "        otherObj = otherObj if isinstance(otherObj, Value) else Value(otherObj)\n",
    "        out = Value(self.data + otherObj.data, (self, otherObj), '+' )\n",
    "        def _backward():\n",
    "            self.grad += 1.0 * out.grad\n",
    "            otherObj.grad += 1.0 * out.grad\n",
    "        out._backward = _backward \n",
    "        return out\n",
    "    \n",
    "    def __radd__(self, otherObj):\n",
    "        return self+otherObj\n",
    "    \n",
    "    # -self\n",
    "    def __neg__(self): \n",
    "        # here we are using multiplication method for subtraction\n",
    "        return self * (-1)\n",
    "    \n",
    "    # self - otherObj\n",
    "    def __sub__(self, otherObj):\n",
    "        # here we are using addition and negation method for subtraction\n",
    "        return self + (-otherObj)\n",
    "    \n",
    "    def __mul__(self, otherObj):\n",
    "        otherObj = otherObj if isinstance(otherObj, Value) else Value(otherObj)\n",
    "        out = Value(self.data * otherObj.data, (self, otherObj), '*')\n",
    "        def _backward():\n",
    "            self.grad += otherObj.data * out.grad\n",
    "            otherObj.grad += self.data * out.grad\n",
    "        out._backward = _backward \n",
    "        return out\n",
    "    \n",
    "    # otherObj * self\n",
    "    def __rmul__(self, otherObj): \n",
    "        return self*otherObj\n",
    "    \n",
    "    # self/otherObj\n",
    "    def __truediv__(self, otherObj): \n",
    "        return self * (otherObj**(-1))\n",
    "    \n",
    "    # self**otherObj\n",
    "    def __pow__(self, otherObj): \n",
    "        assert isinstance(otherObj, (int, float)), \"only supporting int/float powers for now\"\n",
    "        out = Value(self.data ** otherObj, (self, ), f\"**{otherObj}\")\n",
    "        def _backward():\n",
    "             self.grad += (otherObj * self.data**(otherObj-1)) * out.grad\n",
    "        out._backward = _backward \n",
    "        return out\n",
    "    \n",
    "    def tanh(self):\n",
    "        x = self.data\n",
    "        t = (math.exp(2*x) - 1) / (math.exp(2*x) + 1)\n",
    "        out = Value(t, (self, ),'tanh')\n",
    "        def _backward():\n",
    "            self.grad += (1 - t**2) * out.grad\n",
    "        out._backward = _backward \n",
    "        return out\n",
    "    \n",
    "    def exp(self):\n",
    "        x = self.data\n",
    "        out = Value(math.exp(x), (self, ), 'exp')\n",
    "        def _backward():\n",
    "            self.grad += out.data * out.grad\n",
    "        out._backward = _backward \n",
    "        return out\n",
    "        \n",
    "    def backward(self):\n",
    "        topo = []\n",
    "        visited = set()\n",
    "        def build_topo(v):\n",
    "            if v not in visited:\n",
    "                visited.add(v)\n",
    "                for child in v._prev:\n",
    "                    build_topo(child)\n",
    "                topo.append(v)\n",
    "        build_topo(self)\n",
    "        self.grad = 1.0 \n",
    "        for node in reversed(topo):\n",
    "            node._backward()"
   ]
  },
  {
   "cell_type": "code",
   "execution_count": 22,
   "id": "ebb0d6ca",
   "metadata": {},
   "outputs": [
    {
     "name": "stdout",
     "output_type": "stream",
     "text": [
      "Value(data=0.5)\n"
     ]
    }
   ],
   "source": [
    "a = Value(2.0)\n",
    "b = Value(4.0)\n",
    "print(a/b)"
   ]
  },
  {
   "cell_type": "code",
   "execution_count": 23,
   "id": "fb2dff5f",
   "metadata": {},
   "outputs": [
    {
     "name": "stdout",
     "output_type": "stream",
     "text": [
      "Value(data=0.5)\n"
     ]
    }
   ],
   "source": [
    "print(a*(b**-1))"
   ]
  },
  {
   "cell_type": "code",
   "execution_count": 24,
   "id": "c8f472f9",
   "metadata": {},
   "outputs": [
    {
     "name": "stdout",
     "output_type": "stream",
     "text": [
      "Value(data=2.0)\n",
      "Value(data=-2.0)\n"
     ]
    }
   ],
   "source": [
    "print(a)\n",
    "print(-a)"
   ]
  },
  {
   "cell_type": "code",
   "execution_count": 25,
   "id": "af71019a",
   "metadata": {},
   "outputs": [
    {
     "name": "stdout",
     "output_type": "stream",
     "text": [
      "Value(data=-2.0)\n"
     ]
    }
   ],
   "source": [
    "print(a-b)"
   ]
  },
  {
   "cell_type": "code",
   "execution_count": null,
   "id": "a3be6272",
   "metadata": {},
   "outputs": [],
   "source": []
  },
  {
   "cell_type": "code",
   "execution_count": 26,
   "id": "c5649eca",
   "metadata": {},
   "outputs": [
    {
     "data": {
      "image/svg+xml": [
       "<?xml version=\"1.0\" encoding=\"UTF-8\" standalone=\"no\"?>\n",
       "<!DOCTYPE svg PUBLIC \"-//W3C//DTD SVG 1.1//EN\"\n",
       " \"http://www.w3.org/Graphics/SVG/1.1/DTD/svg11.dtd\">\n",
       "<!-- Generated by graphviz version 10.0.1 (20240210.2158)\n",
       " -->\n",
       "<!-- Pages: 1 -->\n",
       "<svg width=\"1575pt\" height=\"210pt\"\n",
       " viewBox=\"0.00 0.00 1574.75 210.00\" xmlns=\"http://www.w3.org/2000/svg\" xmlns:xlink=\"http://www.w3.org/1999/xlink\">\n",
       "<g id=\"graph0\" class=\"graph\" transform=\"scale(1 1) rotate(0) translate(4 206)\">\n",
       "<polygon fill=\"white\" stroke=\"none\" points=\"-4,4 -4,-206 1570.75,-206 1570.75,4 -4,4\"/>\n",
       "<!-- 1721761538128 -->\n",
       "<g id=\"node1\" class=\"node\">\n",
       "<title>1721761538128</title>\n",
       "<polygon fill=\"none\" stroke=\"black\" points=\"327.75,-55.5 327.75,-91.5 543,-91.5 543,-55.5 327.75,-55.5\"/>\n",
       "<text text-anchor=\"middle\" x=\"354.12\" y=\"-68.2\" font-family=\"Times New Roman,serif\" font-size=\"14.00\">x2*w2</text>\n",
       "<polyline fill=\"none\" stroke=\"black\" points=\"380.5,-55.75 380.5,-91.5\"/>\n",
       "<text text-anchor=\"middle\" x=\"420.75\" y=\"-68.2\" font-family=\"Times New Roman,serif\" font-size=\"14.00\">data 0.0000</text>\n",
       "<polyline fill=\"none\" stroke=\"black\" points=\"461,-55.75 461,-91.5\"/>\n",
       "<text text-anchor=\"middle\" x=\"502\" y=\"-68.2\" font-family=\"Times New Roman,serif\" font-size=\"14.00\">grad 0.5000</text>\n",
       "</g>\n",
       "<!-- 1721761544416+ -->\n",
       "<g id=\"node9\" class=\"node\">\n",
       "<title>1721761544416+</title>\n",
       "<ellipse fill=\"none\" stroke=\"black\" cx=\"608.25\" cy=\"-100.5\" rx=\"27\" ry=\"18\"/>\n",
       "<text text-anchor=\"middle\" x=\"608.25\" y=\"-95.08\" font-family=\"Times New Roman,serif\" font-size=\"14.00\">+</text>\n",
       "</g>\n",
       "<!-- 1721761538128&#45;&gt;1721761544416+ -->\n",
       "<g id=\"edge12\" class=\"edge\">\n",
       "<title>1721761538128&#45;&gt;1721761544416+</title>\n",
       "<path fill=\"none\" stroke=\"black\" d=\"M543.14,-90.37C552.77,-91.89 562.01,-93.35 570.33,-94.67\"/>\n",
       "<polygon fill=\"black\" stroke=\"black\" points=\"569.51,-98.08 579.94,-96.18 570.61,-91.17 569.51,-98.08\"/>\n",
       "</g>\n",
       "<!-- 1721761538128* -->\n",
       "<g id=\"node2\" class=\"node\">\n",
       "<title>1721761538128*</title>\n",
       "<ellipse fill=\"none\" stroke=\"black\" cx=\"262.5\" cy=\"-73.5\" rx=\"27\" ry=\"18\"/>\n",
       "<text text-anchor=\"middle\" x=\"262.5\" y=\"-68.08\" font-family=\"Times New Roman,serif\" font-size=\"14.00\">*</text>\n",
       "</g>\n",
       "<!-- 1721761538128*&#45;&gt;1721761538128 -->\n",
       "<g id=\"edge1\" class=\"edge\">\n",
       "<title>1721761538128*&#45;&gt;1721761538128</title>\n",
       "<path fill=\"none\" stroke=\"black\" d=\"M289.82,-73.5C297.5,-73.5 306.41,-73.5 315.98,-73.5\"/>\n",
       "<polygon fill=\"black\" stroke=\"black\" points=\"315.97,-77 325.97,-73.5 315.97,-70 315.97,-77\"/>\n",
       "</g>\n",
       "<!-- 1721761544800 -->\n",
       "<g id=\"node3\" class=\"node\">\n",
       "<title>1721761544800</title>\n",
       "<polygon fill=\"none\" stroke=\"black\" points=\"325.5,-110.5 325.5,-146.5 545.25,-146.5 545.25,-110.5 325.5,-110.5\"/>\n",
       "<text text-anchor=\"middle\" x=\"351.88\" y=\"-123.2\" font-family=\"Times New Roman,serif\" font-size=\"14.00\">x1*w1</text>\n",
       "<polyline fill=\"none\" stroke=\"black\" points=\"378.25,-110.75 378.25,-146.5\"/>\n",
       "<text text-anchor=\"middle\" x=\"420.75\" y=\"-123.2\" font-family=\"Times New Roman,serif\" font-size=\"14.00\">data &#45;6.0000</text>\n",
       "<polyline fill=\"none\" stroke=\"black\" points=\"463.25,-110.75 463.25,-146.5\"/>\n",
       "<text text-anchor=\"middle\" x=\"504.25\" y=\"-123.2\" font-family=\"Times New Roman,serif\" font-size=\"14.00\">grad 0.5000</text>\n",
       "</g>\n",
       "<!-- 1721761544800&#45;&gt;1721761544416+ -->\n",
       "<g id=\"edge14\" class=\"edge\">\n",
       "<title>1721761544800&#45;&gt;1721761544416+</title>\n",
       "<path fill=\"none\" stroke=\"black\" d=\"M545.56,-110.61C554.32,-109.17 562.71,-107.8 570.34,-106.55\"/>\n",
       "<polygon fill=\"black\" stroke=\"black\" points=\"570.83,-110.02 580.13,-104.94 569.69,-103.11 570.83,-110.02\"/>\n",
       "</g>\n",
       "<!-- 1721761544800* -->\n",
       "<g id=\"node4\" class=\"node\">\n",
       "<title>1721761544800*</title>\n",
       "<ellipse fill=\"none\" stroke=\"black\" cx=\"262.5\" cy=\"-128.5\" rx=\"27\" ry=\"18\"/>\n",
       "<text text-anchor=\"middle\" x=\"262.5\" y=\"-123.08\" font-family=\"Times New Roman,serif\" font-size=\"14.00\">*</text>\n",
       "</g>\n",
       "<!-- 1721761544800*&#45;&gt;1721761544800 -->\n",
       "<g id=\"edge2\" class=\"edge\">\n",
       "<title>1721761544800*&#45;&gt;1721761544800</title>\n",
       "<path fill=\"none\" stroke=\"black\" d=\"M289.82,-128.5C296.93,-128.5 305.11,-128.5 313.89,-128.5\"/>\n",
       "<polygon fill=\"black\" stroke=\"black\" points=\"313.78,-132 323.78,-128.5 313.78,-125 313.78,-132\"/>\n",
       "</g>\n",
       "<!-- 1721761530544 -->\n",
       "<g id=\"node5\" class=\"node\">\n",
       "<title>1721761530544</title>\n",
       "<polygon fill=\"none\" stroke=\"black\" points=\"1380.75,-109.5 1380.75,-145.5 1566.75,-145.5 1566.75,-109.5 1380.75,-109.5\"/>\n",
       "<text text-anchor=\"middle\" x=\"1392.5\" y=\"-122.2\" font-family=\"Times New Roman,serif\" font-size=\"14.00\">o</text>\n",
       "<polyline fill=\"none\" stroke=\"black\" points=\"1404.25,-109.75 1404.25,-145.5\"/>\n",
       "<text text-anchor=\"middle\" x=\"1444.5\" y=\"-122.2\" font-family=\"Times New Roman,serif\" font-size=\"14.00\">data 0.7071</text>\n",
       "<polyline fill=\"none\" stroke=\"black\" points=\"1484.75,-109.75 1484.75,-145.5\"/>\n",
       "<text text-anchor=\"middle\" x=\"1525.75\" y=\"-122.2\" font-family=\"Times New Roman,serif\" font-size=\"14.00\">grad 1.0000</text>\n",
       "</g>\n",
       "<!-- 1721761530544tanh -->\n",
       "<g id=\"node6\" class=\"node\">\n",
       "<title>1721761530544tanh</title>\n",
       "<ellipse fill=\"none\" stroke=\"black\" cx=\"1317.75\" cy=\"-127.5\" rx=\"27\" ry=\"18\"/>\n",
       "<text text-anchor=\"middle\" x=\"1317.75\" y=\"-122.08\" font-family=\"Times New Roman,serif\" font-size=\"14.00\">tanh</text>\n",
       "</g>\n",
       "<!-- 1721761530544tanh&#45;&gt;1721761530544 -->\n",
       "<g id=\"edge3\" class=\"edge\">\n",
       "<title>1721761530544tanh&#45;&gt;1721761530544</title>\n",
       "<path fill=\"none\" stroke=\"black\" d=\"M1345.22,-127.5C1352.36,-127.5 1360.53,-127.5 1369.21,-127.5\"/>\n",
       "<polygon fill=\"black\" stroke=\"black\" points=\"1368.94,-131 1378.94,-127.5 1368.94,-124 1368.94,-131\"/>\n",
       "</g>\n",
       "<!-- 1721761100656 -->\n",
       "<g id=\"node7\" class=\"node\">\n",
       "<title>1721761100656</title>\n",
       "<polygon fill=\"none\" stroke=\"black\" points=\"0,-165.5 0,-201.5 199.5,-201.5 199.5,-165.5 0,-165.5\"/>\n",
       "<text text-anchor=\"middle\" x=\"16.25\" y=\"-178.2\" font-family=\"Times New Roman,serif\" font-size=\"14.00\">w1</text>\n",
       "<polyline fill=\"none\" stroke=\"black\" points=\"32.5,-165.75 32.5,-201.5\"/>\n",
       "<text text-anchor=\"middle\" x=\"75\" y=\"-178.2\" font-family=\"Times New Roman,serif\" font-size=\"14.00\">data &#45;3.0000</text>\n",
       "<polyline fill=\"none\" stroke=\"black\" points=\"117.5,-165.75 117.5,-201.5\"/>\n",
       "<text text-anchor=\"middle\" x=\"158.5\" y=\"-178.2\" font-family=\"Times New Roman,serif\" font-size=\"14.00\">grad 1.0000</text>\n",
       "</g>\n",
       "<!-- 1721761100656&#45;&gt;1721761544800* -->\n",
       "<g id=\"edge9\" class=\"edge\">\n",
       "<title>1721761100656&#45;&gt;1721761544800*</title>\n",
       "<path fill=\"none\" stroke=\"black\" d=\"M173.43,-165.03C182.28,-162.37 191.14,-159.51 199.5,-156.5 209.59,-152.87 220.33,-148.29 229.98,-143.89\"/>\n",
       "<polygon fill=\"black\" stroke=\"black\" points=\"231.37,-147.1 238.95,-139.7 228.41,-140.76 231.37,-147.1\"/>\n",
       "</g>\n",
       "<!-- 1721761544416 -->\n",
       "<g id=\"node8\" class=\"node\">\n",
       "<title>1721761544416</title>\n",
       "<polygon fill=\"none\" stroke=\"black\" points=\"671.25,-82.5 671.25,-118.5 943.5,-118.5 943.5,-82.5 671.25,-82.5\"/>\n",
       "<text text-anchor=\"middle\" x=\"723.88\" y=\"-95.2\" font-family=\"Times New Roman,serif\" font-size=\"14.00\">x1*w1 + x2*w2</text>\n",
       "<polyline fill=\"none\" stroke=\"black\" points=\"776.5,-82.75 776.5,-118.5\"/>\n",
       "<text text-anchor=\"middle\" x=\"819\" y=\"-95.2\" font-family=\"Times New Roman,serif\" font-size=\"14.00\">data &#45;6.0000</text>\n",
       "<polyline fill=\"none\" stroke=\"black\" points=\"861.5,-82.75 861.5,-118.5\"/>\n",
       "<text text-anchor=\"middle\" x=\"902.5\" y=\"-95.2\" font-family=\"Times New Roman,serif\" font-size=\"14.00\">grad 0.5000</text>\n",
       "</g>\n",
       "<!-- 1721761539952+ -->\n",
       "<g id=\"node11\" class=\"node\">\n",
       "<title>1721761539952+</title>\n",
       "<ellipse fill=\"none\" stroke=\"black\" cx=\"1006.5\" cy=\"-127.5\" rx=\"27\" ry=\"18\"/>\n",
       "<text text-anchor=\"middle\" x=\"1006.5\" y=\"-122.08\" font-family=\"Times New Roman,serif\" font-size=\"14.00\">+</text>\n",
       "</g>\n",
       "<!-- 1721761544416&#45;&gt;1721761539952+ -->\n",
       "<g id=\"edge10\" class=\"edge\">\n",
       "<title>1721761544416&#45;&gt;1721761539952+</title>\n",
       "<path fill=\"none\" stroke=\"black\" d=\"M943.4,-118.99C952.34,-120.22 960.81,-121.38 968.46,-122.43\"/>\n",
       "<polygon fill=\"black\" stroke=\"black\" points=\"967.87,-125.88 978.25,-123.77 968.82,-118.94 967.87,-125.88\"/>\n",
       "</g>\n",
       "<!-- 1721761544416+&#45;&gt;1721761544416 -->\n",
       "<g id=\"edge4\" class=\"edge\">\n",
       "<title>1721761544416+&#45;&gt;1721761544416</title>\n",
       "<path fill=\"none\" stroke=\"black\" d=\"M635.43,-100.5C642.57,-100.5 650.85,-100.5 659.84,-100.5\"/>\n",
       "<polygon fill=\"black\" stroke=\"black\" points=\"659.6,-104 669.6,-100.5 659.6,-97 659.6,-104\"/>\n",
       "</g>\n",
       "<!-- 1721761539952 -->\n",
       "<g id=\"node10\" class=\"node\">\n",
       "<title>1721761539952</title>\n",
       "<polygon fill=\"none\" stroke=\"black\" points=\"1069.5,-109.5 1069.5,-145.5 1254.75,-145.5 1254.75,-109.5 1069.5,-109.5\"/>\n",
       "<text text-anchor=\"middle\" x=\"1080.88\" y=\"-122.2\" font-family=\"Times New Roman,serif\" font-size=\"14.00\">n</text>\n",
       "<polyline fill=\"none\" stroke=\"black\" points=\"1092.25,-109.75 1092.25,-145.5\"/>\n",
       "<text text-anchor=\"middle\" x=\"1132.5\" y=\"-122.2\" font-family=\"Times New Roman,serif\" font-size=\"14.00\">data 0.8814</text>\n",
       "<polyline fill=\"none\" stroke=\"black\" points=\"1172.75,-109.75 1172.75,-145.5\"/>\n",
       "<text text-anchor=\"middle\" x=\"1213.75\" y=\"-122.2\" font-family=\"Times New Roman,serif\" font-size=\"14.00\">grad 0.5000</text>\n",
       "</g>\n",
       "<!-- 1721761539952&#45;&gt;1721761530544tanh -->\n",
       "<g id=\"edge8\" class=\"edge\">\n",
       "<title>1721761539952&#45;&gt;1721761530544tanh</title>\n",
       "<path fill=\"none\" stroke=\"black\" d=\"M1255.15,-127.5C1263.52,-127.5 1271.64,-127.5 1279.09,-127.5\"/>\n",
       "<polygon fill=\"black\" stroke=\"black\" points=\"1279.03,-131 1289.03,-127.5 1279.03,-124 1279.03,-131\"/>\n",
       "</g>\n",
       "<!-- 1721761539952+&#45;&gt;1721761539952 -->\n",
       "<g id=\"edge5\" class=\"edge\">\n",
       "<title>1721761539952+&#45;&gt;1721761539952</title>\n",
       "<path fill=\"none\" stroke=\"black\" d=\"M1033.91,-127.5C1040.95,-127.5 1049,-127.5 1057.55,-127.5\"/>\n",
       "<polygon fill=\"black\" stroke=\"black\" points=\"1057.54,-131 1067.54,-127.5 1057.54,-124 1057.54,-131\"/>\n",
       "</g>\n",
       "<!-- 1721761096096 -->\n",
       "<g id=\"node12\" class=\"node\">\n",
       "<title>1721761096096</title>\n",
       "<polygon fill=\"none\" stroke=\"black\" points=\"714.38,-137.5 714.38,-173.5 900.38,-173.5 900.38,-137.5 714.38,-137.5\"/>\n",
       "<text text-anchor=\"middle\" x=\"726.12\" y=\"-150.2\" font-family=\"Times New Roman,serif\" font-size=\"14.00\">b</text>\n",
       "<polyline fill=\"none\" stroke=\"black\" points=\"737.88,-137.75 737.88,-173.5\"/>\n",
       "<text text-anchor=\"middle\" x=\"778.12\" y=\"-150.2\" font-family=\"Times New Roman,serif\" font-size=\"14.00\">data 6.8814</text>\n",
       "<polyline fill=\"none\" stroke=\"black\" points=\"818.38,-137.75 818.38,-173.5\"/>\n",
       "<text text-anchor=\"middle\" x=\"859.38\" y=\"-150.2\" font-family=\"Times New Roman,serif\" font-size=\"14.00\">grad 0.5000</text>\n",
       "</g>\n",
       "<!-- 1721761096096&#45;&gt;1721761539952+ -->\n",
       "<g id=\"edge13\" class=\"edge\">\n",
       "<title>1721761096096&#45;&gt;1721761539952+</title>\n",
       "<path fill=\"none\" stroke=\"black\" d=\"M900.59,-142.4C924.65,-138.98 949.22,-135.49 968.53,-132.75\"/>\n",
       "<polygon fill=\"black\" stroke=\"black\" points=\"968.92,-136.23 978.32,-131.36 967.93,-129.3 968.92,-136.23\"/>\n",
       "</g>\n",
       "<!-- 1721761102768 -->\n",
       "<g id=\"node13\" class=\"node\">\n",
       "<title>1721761102768</title>\n",
       "<polygon fill=\"none\" stroke=\"black\" points=\"3.75,-55.5 3.75,-91.5 195.75,-91.5 195.75,-55.5 3.75,-55.5\"/>\n",
       "<text text-anchor=\"middle\" x=\"18.5\" y=\"-68.2\" font-family=\"Times New Roman,serif\" font-size=\"14.00\">x2</text>\n",
       "<polyline fill=\"none\" stroke=\"black\" points=\"33.25,-55.75 33.25,-91.5\"/>\n",
       "<text text-anchor=\"middle\" x=\"73.5\" y=\"-68.2\" font-family=\"Times New Roman,serif\" font-size=\"14.00\">data 0.0000</text>\n",
       "<polyline fill=\"none\" stroke=\"black\" points=\"113.75,-55.75 113.75,-91.5\"/>\n",
       "<text text-anchor=\"middle\" x=\"154.75\" y=\"-68.2\" font-family=\"Times New Roman,serif\" font-size=\"14.00\">grad 0.5000</text>\n",
       "</g>\n",
       "<!-- 1721761102768&#45;&gt;1721761538128* -->\n",
       "<g id=\"edge6\" class=\"edge\">\n",
       "<title>1721761102768&#45;&gt;1721761538128*</title>\n",
       "<path fill=\"none\" stroke=\"black\" d=\"M196.12,-73.5C205.86,-73.5 215.3,-73.5 223.83,-73.5\"/>\n",
       "<polygon fill=\"black\" stroke=\"black\" points=\"223.71,-77 233.71,-73.5 223.71,-70 223.71,-77\"/>\n",
       "</g>\n",
       "<!-- 1721761103296 -->\n",
       "<g id=\"node14\" class=\"node\">\n",
       "<title>1721761103296</title>\n",
       "<polygon fill=\"none\" stroke=\"black\" points=\"1.5,-110.5 1.5,-146.5 198,-146.5 198,-110.5 1.5,-110.5\"/>\n",
       "<text text-anchor=\"middle\" x=\"16.25\" y=\"-123.2\" font-family=\"Times New Roman,serif\" font-size=\"14.00\">x1</text>\n",
       "<polyline fill=\"none\" stroke=\"black\" points=\"31,-110.75 31,-146.5\"/>\n",
       "<text text-anchor=\"middle\" x=\"71.25\" y=\"-123.2\" font-family=\"Times New Roman,serif\" font-size=\"14.00\">data 2.0000</text>\n",
       "<polyline fill=\"none\" stroke=\"black\" points=\"111.5,-110.75 111.5,-146.5\"/>\n",
       "<text text-anchor=\"middle\" x=\"154.75\" y=\"-123.2\" font-family=\"Times New Roman,serif\" font-size=\"14.00\">grad &#45;1.5000</text>\n",
       "</g>\n",
       "<!-- 1721761103296&#45;&gt;1721761544800* -->\n",
       "<g id=\"edge7\" class=\"edge\">\n",
       "<title>1721761103296&#45;&gt;1721761544800*</title>\n",
       "<path fill=\"none\" stroke=\"black\" d=\"M198.43,-128.5C207.33,-128.5 215.94,-128.5 223.79,-128.5\"/>\n",
       "<polygon fill=\"black\" stroke=\"black\" points=\"223.53,-132 233.53,-128.5 223.53,-125 223.53,-132\"/>\n",
       "</g>\n",
       "<!-- 1721761100752 -->\n",
       "<g id=\"node15\" class=\"node\">\n",
       "<title>1721761100752</title>\n",
       "<polygon fill=\"none\" stroke=\"black\" points=\"2.25,-0.5 2.25,-36.5 197.25,-36.5 197.25,-0.5 2.25,-0.5\"/>\n",
       "<text text-anchor=\"middle\" x=\"18.5\" y=\"-13.2\" font-family=\"Times New Roman,serif\" font-size=\"14.00\">w2</text>\n",
       "<polyline fill=\"none\" stroke=\"black\" points=\"34.75,-0.75 34.75,-36.5\"/>\n",
       "<text text-anchor=\"middle\" x=\"75\" y=\"-13.2\" font-family=\"Times New Roman,serif\" font-size=\"14.00\">data 1.0000</text>\n",
       "<polyline fill=\"none\" stroke=\"black\" points=\"115.25,-0.75 115.25,-36.5\"/>\n",
       "<text text-anchor=\"middle\" x=\"156.25\" y=\"-13.2\" font-family=\"Times New Roman,serif\" font-size=\"14.00\">grad 0.0000</text>\n",
       "</g>\n",
       "<!-- 1721761100752&#45;&gt;1721761538128* -->\n",
       "<g id=\"edge11\" class=\"edge\">\n",
       "<title>1721761100752&#45;&gt;1721761538128*</title>\n",
       "<path fill=\"none\" stroke=\"black\" d=\"M170.45,-36.99C180.27,-39.97 190.19,-43.17 199.5,-46.5 209.46,-50.06 220.09,-54.46 229.68,-58.67\"/>\n",
       "<polygon fill=\"black\" stroke=\"black\" points=\"228.04,-61.77 238.6,-62.66 230.9,-55.38 228.04,-61.77\"/>\n",
       "</g>\n",
       "</g>\n",
       "</svg>\n"
      ],
      "text/plain": [
       "<graphviz.graphs.Digraph at 0x190e0f56f20>"
      ]
     },
     "execution_count": 26,
     "metadata": {},
     "output_type": "execute_result"
    }
   ],
   "source": [
    "# Inputs\n",
    "x1 = Value(2.0, label=\"x1\")\n",
    "x2 = Value(0.0, label=\"x2\")\n",
    "# Weights\n",
    "w1 = Value(-3.0, label='w1')\n",
    "w2 = Value(1.0, label='w2')\n",
    "# bias of the neuron\n",
    "b = Value(6.8813735870195432, label='b')\n",
    "# x1w1 + x2w2 + b\n",
    "x1w1 = x1*w1; x1w1.label='x1*w1'\n",
    "x2w2 = x2*w2; x2w2.label='x2*w2'\n",
    "x1w1x2w2 = x1w1 + x2w2; x1w1x2w2.label='x1*w1 + x2*w2'\n",
    "n = x1w1x2w2 + b; n.label='n'\n",
    "\n",
    "o = n.tanh(); o.label='o'\n",
    "o.backward()\n",
    "draw_dot(o)"
   ]
  },
  {
   "cell_type": "markdown",
   "id": "c7120dfe",
   "metadata": {},
   "source": [
    "---"
   ]
  },
  {
   "cell_type": "markdown",
   "id": "4500c911",
   "metadata": {},
   "source": [
    "The tanh function is defined mathematically as:\n",
    "\n",
    "\\\\[ \\text{tanh}(x) = \\frac{e^x - e^{-x}}{e^x + e^{-x}} = \\frac{e^{2x} - 1}{e^{2x} + 1}\\\\]"
   ]
  },
  {
   "cell_type": "markdown",
   "id": "4a474f57",
   "metadata": {},
   "source": [
    "---"
   ]
  },
  {
   "cell_type": "code",
   "execution_count": 27,
   "id": "ec2e5481",
   "metadata": {},
   "outputs": [
    {
     "data": {
      "image/svg+xml": [
       "<?xml version=\"1.0\" encoding=\"UTF-8\" standalone=\"no\"?>\n",
       "<!DOCTYPE svg PUBLIC \"-//W3C//DTD SVG 1.1//EN\"\n",
       " \"http://www.w3.org/Graphics/SVG/1.1/DTD/svg11.dtd\">\n",
       "<!-- Generated by graphviz version 10.0.1 (20240210.2158)\n",
       " -->\n",
       "<!-- Pages: 1 -->\n",
       "<svg width=\"2945pt\" height=\"236pt\"\n",
       " viewBox=\"0.00 0.00 2945.00 236.00\" xmlns=\"http://www.w3.org/2000/svg\" xmlns:xlink=\"http://www.w3.org/1999/xlink\">\n",
       "<g id=\"graph0\" class=\"graph\" transform=\"scale(1 1) rotate(0) translate(4 232)\">\n",
       "<polygon fill=\"white\" stroke=\"none\" points=\"-4,4 -4,-232 2941,-232 2941,4 -4,4\"/>\n",
       "<!-- 1721761543168 -->\n",
       "<g id=\"node1\" class=\"node\">\n",
       "<title>1721761543168</title>\n",
       "<polygon fill=\"none\" stroke=\"black\" points=\"325.5,-55.5 325.5,-91.5 545.25,-91.5 545.25,-55.5 325.5,-55.5\"/>\n",
       "<text text-anchor=\"middle\" x=\"351.88\" y=\"-68.2\" font-family=\"Times New Roman,serif\" font-size=\"14.00\">x1*w1</text>\n",
       "<polyline fill=\"none\" stroke=\"black\" points=\"378.25,-55.75 378.25,-91.5\"/>\n",
       "<text text-anchor=\"middle\" x=\"420.75\" y=\"-68.2\" font-family=\"Times New Roman,serif\" font-size=\"14.00\">data &#45;6.0000</text>\n",
       "<polyline fill=\"none\" stroke=\"black\" points=\"463.25,-55.75 463.25,-91.5\"/>\n",
       "<text text-anchor=\"middle\" x=\"504.25\" y=\"-68.2\" font-family=\"Times New Roman,serif\" font-size=\"14.00\">grad 0.5000</text>\n",
       "</g>\n",
       "<!-- 1721761540144+ -->\n",
       "<g id=\"node4\" class=\"node\">\n",
       "<title>1721761540144+</title>\n",
       "<ellipse fill=\"none\" stroke=\"black\" cx=\"608.25\" cy=\"-100.5\" rx=\"27\" ry=\"18\"/>\n",
       "<text text-anchor=\"middle\" x=\"608.25\" y=\"-95.08\" font-family=\"Times New Roman,serif\" font-size=\"14.00\">+</text>\n",
       "</g>\n",
       "<!-- 1721761543168&#45;&gt;1721761540144+ -->\n",
       "<g id=\"edge21\" class=\"edge\">\n",
       "<title>1721761543168&#45;&gt;1721761540144+</title>\n",
       "<path fill=\"none\" stroke=\"black\" d=\"M545.56,-90.75C554.32,-92.14 562.71,-93.46 570.34,-94.67\"/>\n",
       "<polygon fill=\"black\" stroke=\"black\" points=\"569.7,-98.11 580.13,-96.21 570.8,-91.2 569.7,-98.11\"/>\n",
       "</g>\n",
       "<!-- 1721761543168* -->\n",
       "<g id=\"node2\" class=\"node\">\n",
       "<title>1721761543168*</title>\n",
       "<ellipse fill=\"none\" stroke=\"black\" cx=\"262.5\" cy=\"-73.5\" rx=\"27\" ry=\"18\"/>\n",
       "<text text-anchor=\"middle\" x=\"262.5\" y=\"-68.08\" font-family=\"Times New Roman,serif\" font-size=\"14.00\">*</text>\n",
       "</g>\n",
       "<!-- 1721761543168*&#45;&gt;1721761543168 -->\n",
       "<g id=\"edge1\" class=\"edge\">\n",
       "<title>1721761543168*&#45;&gt;1721761543168</title>\n",
       "<path fill=\"none\" stroke=\"black\" d=\"M289.82,-73.5C296.93,-73.5 305.11,-73.5 313.89,-73.5\"/>\n",
       "<polygon fill=\"black\" stroke=\"black\" points=\"313.78,-77 323.78,-73.5 313.78,-70 313.78,-77\"/>\n",
       "</g>\n",
       "<!-- 1721761540144 -->\n",
       "<g id=\"node3\" class=\"node\">\n",
       "<title>1721761540144</title>\n",
       "<polygon fill=\"none\" stroke=\"black\" points=\"671.25,-82.5 671.25,-118.5 943.5,-118.5 943.5,-82.5 671.25,-82.5\"/>\n",
       "<text text-anchor=\"middle\" x=\"723.88\" y=\"-95.2\" font-family=\"Times New Roman,serif\" font-size=\"14.00\">x1*w1 + x2*w2</text>\n",
       "<polyline fill=\"none\" stroke=\"black\" points=\"776.5,-82.75 776.5,-118.5\"/>\n",
       "<text text-anchor=\"middle\" x=\"819\" y=\"-95.2\" font-family=\"Times New Roman,serif\" font-size=\"14.00\">data &#45;6.0000</text>\n",
       "<polyline fill=\"none\" stroke=\"black\" points=\"861.5,-82.75 861.5,-118.5\"/>\n",
       "<text text-anchor=\"middle\" x=\"902.5\" y=\"-95.2\" font-family=\"Times New Roman,serif\" font-size=\"14.00\">grad 0.5000</text>\n",
       "</g>\n",
       "<!-- 1721761538800+ -->\n",
       "<g id=\"node15\" class=\"node\">\n",
       "<title>1721761538800+</title>\n",
       "<ellipse fill=\"none\" stroke=\"black\" cx=\"1006.5\" cy=\"-127.5\" rx=\"27\" ry=\"18\"/>\n",
       "<text text-anchor=\"middle\" x=\"1006.5\" y=\"-122.08\" font-family=\"Times New Roman,serif\" font-size=\"14.00\">+</text>\n",
       "</g>\n",
       "<!-- 1721761540144&#45;&gt;1721761538800+ -->\n",
       "<g id=\"edge19\" class=\"edge\">\n",
       "<title>1721761540144&#45;&gt;1721761538800+</title>\n",
       "<path fill=\"none\" stroke=\"black\" d=\"M943.4,-118.99C952.34,-120.22 960.81,-121.38 968.46,-122.43\"/>\n",
       "<polygon fill=\"black\" stroke=\"black\" points=\"967.87,-125.88 978.25,-123.77 968.82,-118.94 967.87,-125.88\"/>\n",
       "</g>\n",
       "<!-- 1721761540144+&#45;&gt;1721761540144 -->\n",
       "<g id=\"edge2\" class=\"edge\">\n",
       "<title>1721761540144+&#45;&gt;1721761540144</title>\n",
       "<path fill=\"none\" stroke=\"black\" d=\"M635.43,-100.5C642.57,-100.5 650.85,-100.5 659.84,-100.5\"/>\n",
       "<polygon fill=\"black\" stroke=\"black\" points=\"659.6,-104 669.6,-100.5 659.6,-97 659.6,-104\"/>\n",
       "</g>\n",
       "<!-- 1721761534528 -->\n",
       "<g id=\"node5\" class=\"node\">\n",
       "<title>1721761534528</title>\n",
       "<polygon fill=\"none\" stroke=\"black\" points=\"1.5,-55.5 1.5,-91.5 198,-91.5 198,-55.5 1.5,-55.5\"/>\n",
       "<text text-anchor=\"middle\" x=\"16.25\" y=\"-68.2\" font-family=\"Times New Roman,serif\" font-size=\"14.00\">x1</text>\n",
       "<polyline fill=\"none\" stroke=\"black\" points=\"31,-55.75 31,-91.5\"/>\n",
       "<text text-anchor=\"middle\" x=\"71.25\" y=\"-68.2\" font-family=\"Times New Roman,serif\" font-size=\"14.00\">data 2.0000</text>\n",
       "<polyline fill=\"none\" stroke=\"black\" points=\"111.5,-55.75 111.5,-91.5\"/>\n",
       "<text text-anchor=\"middle\" x=\"154.75\" y=\"-68.2\" font-family=\"Times New Roman,serif\" font-size=\"14.00\">grad &#45;1.5000</text>\n",
       "</g>\n",
       "<!-- 1721761534528&#45;&gt;1721761543168* -->\n",
       "<g id=\"edge27\" class=\"edge\">\n",
       "<title>1721761534528&#45;&gt;1721761543168*</title>\n",
       "<path fill=\"none\" stroke=\"black\" d=\"M198.43,-73.5C207.33,-73.5 215.94,-73.5 223.79,-73.5\"/>\n",
       "<polygon fill=\"black\" stroke=\"black\" points=\"223.53,-77 233.53,-73.5 223.53,-70 223.53,-77\"/>\n",
       "</g>\n",
       "<!-- 1721761541200 -->\n",
       "<g id=\"node6\" class=\"node\">\n",
       "<title>1721761541200</title>\n",
       "<polygon fill=\"none\" stroke=\"black\" points=\"1071,-164.5 1071,-200.5 1253.25,-200.5 1253.25,-164.5 1071,-164.5\"/>\n",
       "<text text-anchor=\"middle\" x=\"1080.88\" y=\"-177.2\" font-family=\"Times New Roman,serif\" font-size=\"14.00\"> </text>\n",
       "<polyline fill=\"none\" stroke=\"black\" points=\"1090.75,-164.75 1090.75,-200.5\"/>\n",
       "<text text-anchor=\"middle\" x=\"1131\" y=\"-177.2\" font-family=\"Times New Roman,serif\" font-size=\"14.00\">data 2.0000</text>\n",
       "<polyline fill=\"none\" stroke=\"black\" points=\"1171.25,-164.75 1171.25,-200.5\"/>\n",
       "<text text-anchor=\"middle\" x=\"1212.25\" y=\"-177.2\" font-family=\"Times New Roman,serif\" font-size=\"14.00\">grad 0.2203</text>\n",
       "</g>\n",
       "<!-- 1721761542976* -->\n",
       "<g id=\"node19\" class=\"node\">\n",
       "<title>1721761542976*</title>\n",
       "<ellipse fill=\"none\" stroke=\"black\" cx=\"1317.75\" cy=\"-154.5\" rx=\"27\" ry=\"18\"/>\n",
       "<text text-anchor=\"middle\" x=\"1317.75\" y=\"-149.07\" font-family=\"Times New Roman,serif\" font-size=\"14.00\">*</text>\n",
       "</g>\n",
       "<!-- 1721761541200&#45;&gt;1721761542976* -->\n",
       "<g id=\"edge20\" class=\"edge\">\n",
       "<title>1721761541200&#45;&gt;1721761542976*</title>\n",
       "<path fill=\"none\" stroke=\"black\" d=\"M1253.38,-166.05C1262.79,-164.34 1271.92,-162.67 1280.19,-161.16\"/>\n",
       "<polygon fill=\"black\" stroke=\"black\" points=\"1280.54,-164.66 1289.75,-159.42 1279.28,-157.77 1280.54,-164.66\"/>\n",
       "</g>\n",
       "<!-- 1721761535584 -->\n",
       "<g id=\"node7\" class=\"node\">\n",
       "<title>1721761535584</title>\n",
       "<polygon fill=\"none\" stroke=\"black\" points=\"2.25,-165.5 2.25,-201.5 197.25,-201.5 197.25,-165.5 2.25,-165.5\"/>\n",
       "<text text-anchor=\"middle\" x=\"18.5\" y=\"-178.2\" font-family=\"Times New Roman,serif\" font-size=\"14.00\">w2</text>\n",
       "<polyline fill=\"none\" stroke=\"black\" points=\"34.75,-165.75 34.75,-201.5\"/>\n",
       "<text text-anchor=\"middle\" x=\"75\" y=\"-178.2\" font-family=\"Times New Roman,serif\" font-size=\"14.00\">data 1.0000</text>\n",
       "<polyline fill=\"none\" stroke=\"black\" points=\"115.25,-165.75 115.25,-201.5\"/>\n",
       "<text text-anchor=\"middle\" x=\"156.25\" y=\"-178.2\" font-family=\"Times New Roman,serif\" font-size=\"14.00\">grad 0.0000</text>\n",
       "</g>\n",
       "<!-- 1721761544128* -->\n",
       "<g id=\"node12\" class=\"node\">\n",
       "<title>1721761544128*</title>\n",
       "<ellipse fill=\"none\" stroke=\"black\" cx=\"262.5\" cy=\"-128.5\" rx=\"27\" ry=\"18\"/>\n",
       "<text text-anchor=\"middle\" x=\"262.5\" y=\"-123.08\" font-family=\"Times New Roman,serif\" font-size=\"14.00\">*</text>\n",
       "</g>\n",
       "<!-- 1721761535584&#45;&gt;1721761544128* -->\n",
       "<g id=\"edge12\" class=\"edge\">\n",
       "<title>1721761535584&#45;&gt;1721761544128*</title>\n",
       "<path fill=\"none\" stroke=\"black\" d=\"M173.43,-165.03C182.28,-162.37 191.14,-159.51 199.5,-156.5 209.59,-152.87 220.33,-148.29 229.98,-143.89\"/>\n",
       "<polygon fill=\"black\" stroke=\"black\" points=\"231.37,-147.1 238.95,-139.7 228.41,-140.76 231.37,-147.1\"/>\n",
       "</g>\n",
       "<!-- 1721761536112 -->\n",
       "<g id=\"node8\" class=\"node\">\n",
       "<title>1721761536112</title>\n",
       "<polygon fill=\"none\" stroke=\"black\" points=\"1691.25,-136.5 1691.25,-172.5 1873.5,-172.5 1873.5,-136.5 1691.25,-136.5\"/>\n",
       "<text text-anchor=\"middle\" x=\"1701.12\" y=\"-149.2\" font-family=\"Times New Roman,serif\" font-size=\"14.00\"> </text>\n",
       "<polyline fill=\"none\" stroke=\"black\" points=\"1711,-136.75 1711,-172.5\"/>\n",
       "<text text-anchor=\"middle\" x=\"1751.25\" y=\"-149.2\" font-family=\"Times New Roman,serif\" font-size=\"14.00\">data 5.8284</text>\n",
       "<polyline fill=\"none\" stroke=\"black\" points=\"1791.5,-136.75 1791.5,-172.5\"/>\n",
       "<text text-anchor=\"middle\" x=\"1832.5\" y=\"-149.2\" font-family=\"Times New Roman,serif\" font-size=\"14.00\">grad 0.0429</text>\n",
       "</g>\n",
       "<!-- 1721761534864+ -->\n",
       "<g id=\"node22\" class=\"node\">\n",
       "<title>1721761534864+</title>\n",
       "<ellipse fill=\"none\" stroke=\"black\" cx=\"1938.75\" cy=\"-126.5\" rx=\"27\" ry=\"18\"/>\n",
       "<text text-anchor=\"middle\" x=\"1938.75\" y=\"-121.08\" font-family=\"Times New Roman,serif\" font-size=\"14.00\">+</text>\n",
       "</g>\n",
       "<!-- 1721761536112&#45;&gt;1721761534864+ -->\n",
       "<g id=\"edge17\" class=\"edge\">\n",
       "<title>1721761536112&#45;&gt;1721761534864+</title>\n",
       "<path fill=\"none\" stroke=\"black\" d=\"M1873.62,-138.13C1883.22,-136.39 1892.54,-134.7 1900.96,-133.17\"/>\n",
       "<polygon fill=\"black\" stroke=\"black\" points=\"1901.51,-136.63 1910.73,-131.4 1900.26,-129.74 1901.51,-136.63\"/>\n",
       "</g>\n",
       "<!-- 1721761544176+ -->\n",
       "<g id=\"node28\" class=\"node\">\n",
       "<title>1721761544176+</title>\n",
       "<ellipse fill=\"none\" stroke=\"black\" cx=\"1938.75\" cy=\"-181.5\" rx=\"27\" ry=\"18\"/>\n",
       "<text text-anchor=\"middle\" x=\"1938.75\" y=\"-176.07\" font-family=\"Times New Roman,serif\" font-size=\"14.00\">+</text>\n",
       "</g>\n",
       "<!-- 1721761536112&#45;&gt;1721761544176+ -->\n",
       "<g id=\"edge16\" class=\"edge\">\n",
       "<title>1721761536112&#45;&gt;1721761544176+</title>\n",
       "<path fill=\"none\" stroke=\"black\" d=\"M1873.62,-170.28C1883.22,-171.96 1892.54,-173.59 1900.96,-175.07\"/>\n",
       "<polygon fill=\"black\" stroke=\"black\" points=\"1900.27,-178.5 1910.73,-176.77 1901.48,-171.6 1900.27,-178.5\"/>\n",
       "</g>\n",
       "<!-- 1721761536112exp -->\n",
       "<g id=\"node9\" class=\"node\">\n",
       "<title>1721761536112exp</title>\n",
       "<ellipse fill=\"none\" stroke=\"black\" cx=\"1626\" cy=\"-154.5\" rx=\"27\" ry=\"18\"/>\n",
       "<text text-anchor=\"middle\" x=\"1626\" y=\"-149.07\" font-family=\"Times New Roman,serif\" font-size=\"14.00\">exp</text>\n",
       "</g>\n",
       "<!-- 1721761536112exp&#45;&gt;1721761536112 -->\n",
       "<g id=\"edge3\" class=\"edge\">\n",
       "<title>1721761536112exp&#45;&gt;1721761536112</title>\n",
       "<path fill=\"none\" stroke=\"black\" d=\"M1653.19,-154.5C1660.92,-154.5 1669.88,-154.5 1679.41,-154.5\"/>\n",
       "<polygon fill=\"black\" stroke=\"black\" points=\"1679.3,-158 1689.3,-154.5 1679.3,-151 1679.3,-158\"/>\n",
       "</g>\n",
       "<!-- 1721761535104 -->\n",
       "<g id=\"node10\" class=\"node\">\n",
       "<title>1721761535104</title>\n",
       "<polygon fill=\"none\" stroke=\"black\" points=\"0,-0.5 0,-36.5 199.5,-36.5 199.5,-0.5 0,-0.5\"/>\n",
       "<text text-anchor=\"middle\" x=\"16.25\" y=\"-13.2\" font-family=\"Times New Roman,serif\" font-size=\"14.00\">w1</text>\n",
       "<polyline fill=\"none\" stroke=\"black\" points=\"32.5,-0.75 32.5,-36.5\"/>\n",
       "<text text-anchor=\"middle\" x=\"75\" y=\"-13.2\" font-family=\"Times New Roman,serif\" font-size=\"14.00\">data &#45;3.0000</text>\n",
       "<polyline fill=\"none\" stroke=\"black\" points=\"117.5,-0.75 117.5,-36.5\"/>\n",
       "<text text-anchor=\"middle\" x=\"158.5\" y=\"-13.2\" font-family=\"Times New Roman,serif\" font-size=\"14.00\">grad 1.0000</text>\n",
       "</g>\n",
       "<!-- 1721761535104&#45;&gt;1721761543168* -->\n",
       "<g id=\"edge25\" class=\"edge\">\n",
       "<title>1721761535104&#45;&gt;1721761543168*</title>\n",
       "<path fill=\"none\" stroke=\"black\" d=\"M173.43,-36.97C182.28,-39.63 191.14,-42.49 199.5,-45.5 209.59,-49.13 220.33,-53.71 229.98,-58.11\"/>\n",
       "<polygon fill=\"black\" stroke=\"black\" points=\"228.41,-61.24 238.95,-62.3 231.37,-54.9 228.41,-61.24\"/>\n",
       "</g>\n",
       "<!-- 1721761544128 -->\n",
       "<g id=\"node11\" class=\"node\">\n",
       "<title>1721761544128</title>\n",
       "<polygon fill=\"none\" stroke=\"black\" points=\"327.75,-110.5 327.75,-146.5 543,-146.5 543,-110.5 327.75,-110.5\"/>\n",
       "<text text-anchor=\"middle\" x=\"354.12\" y=\"-123.2\" font-family=\"Times New Roman,serif\" font-size=\"14.00\">x2*w2</text>\n",
       "<polyline fill=\"none\" stroke=\"black\" points=\"380.5,-110.75 380.5,-146.5\"/>\n",
       "<text text-anchor=\"middle\" x=\"420.75\" y=\"-123.2\" font-family=\"Times New Roman,serif\" font-size=\"14.00\">data 0.0000</text>\n",
       "<polyline fill=\"none\" stroke=\"black\" points=\"461,-110.75 461,-146.5\"/>\n",
       "<text text-anchor=\"middle\" x=\"502\" y=\"-123.2\" font-family=\"Times New Roman,serif\" font-size=\"14.00\">grad 0.5000</text>\n",
       "</g>\n",
       "<!-- 1721761544128&#45;&gt;1721761540144+ -->\n",
       "<g id=\"edge22\" class=\"edge\">\n",
       "<title>1721761544128&#45;&gt;1721761540144+</title>\n",
       "<path fill=\"none\" stroke=\"black\" d=\"M543.14,-111.01C552.86,-109.41 562.18,-107.88 570.57,-106.51\"/>\n",
       "<polygon fill=\"black\" stroke=\"black\" points=\"570.94,-110 580.25,-104.92 569.81,-103.09 570.94,-110\"/>\n",
       "</g>\n",
       "<!-- 1721761544128*&#45;&gt;1721761544128 -->\n",
       "<g id=\"edge4\" class=\"edge\">\n",
       "<title>1721761544128*&#45;&gt;1721761544128</title>\n",
       "<path fill=\"none\" stroke=\"black\" d=\"M289.82,-128.5C297.5,-128.5 306.41,-128.5 315.98,-128.5\"/>\n",
       "<polygon fill=\"black\" stroke=\"black\" points=\"315.97,-132 325.97,-128.5 315.97,-125 315.97,-132\"/>\n",
       "</g>\n",
       "<!-- 1721761538704 -->\n",
       "<g id=\"node13\" class=\"node\">\n",
       "<title>1721761538704</title>\n",
       "<polygon fill=\"none\" stroke=\"black\" points=\"1689,-191.5 1689,-227.5 1875.75,-227.5 1875.75,-191.5 1689,-191.5\"/>\n",
       "<text text-anchor=\"middle\" x=\"1698.88\" y=\"-204.2\" font-family=\"Times New Roman,serif\" font-size=\"14.00\"> </text>\n",
       "<polyline fill=\"none\" stroke=\"black\" points=\"1708.75,-191.75 1708.75,-227.5\"/>\n",
       "<text text-anchor=\"middle\" x=\"1749\" y=\"-204.2\" font-family=\"Times New Roman,serif\" font-size=\"14.00\">data 1.0000</text>\n",
       "<polyline fill=\"none\" stroke=\"black\" points=\"1789.25,-191.75 1789.25,-227.5\"/>\n",
       "<text text-anchor=\"middle\" x=\"1832.5\" y=\"-204.2\" font-family=\"Times New Roman,serif\" font-size=\"14.00\">grad &#45;0.1036</text>\n",
       "</g>\n",
       "<!-- 1721761538704&#45;&gt;1721761544176+ -->\n",
       "<g id=\"edge28\" class=\"edge\">\n",
       "<title>1721761538704&#45;&gt;1721761544176+</title>\n",
       "<path fill=\"none\" stroke=\"black\" d=\"M1875.85,-192.73C1884.72,-191.12 1893.31,-189.56 1901.12,-188.14\"/>\n",
       "<polygon fill=\"black\" stroke=\"black\" points=\"1901.62,-191.61 1910.83,-186.38 1900.37,-184.72 1901.62,-191.61\"/>\n",
       "</g>\n",
       "<!-- 1721761538800 -->\n",
       "<g id=\"node14\" class=\"node\">\n",
       "<title>1721761538800</title>\n",
       "<polygon fill=\"none\" stroke=\"black\" points=\"1069.5,-109.5 1069.5,-145.5 1254.75,-145.5 1254.75,-109.5 1069.5,-109.5\"/>\n",
       "<text text-anchor=\"middle\" x=\"1080.88\" y=\"-122.2\" font-family=\"Times New Roman,serif\" font-size=\"14.00\">n</text>\n",
       "<polyline fill=\"none\" stroke=\"black\" points=\"1092.25,-109.75 1092.25,-145.5\"/>\n",
       "<text text-anchor=\"middle\" x=\"1132.5\" y=\"-122.2\" font-family=\"Times New Roman,serif\" font-size=\"14.00\">data 0.8814</text>\n",
       "<polyline fill=\"none\" stroke=\"black\" points=\"1172.75,-109.75 1172.75,-145.5\"/>\n",
       "<text text-anchor=\"middle\" x=\"1213.75\" y=\"-122.2\" font-family=\"Times New Roman,serif\" font-size=\"14.00\">grad 0.5000</text>\n",
       "</g>\n",
       "<!-- 1721761538800&#45;&gt;1721761542976* -->\n",
       "<g id=\"edge18\" class=\"edge\">\n",
       "<title>1721761538800&#45;&gt;1721761542976*</title>\n",
       "<path fill=\"none\" stroke=\"black\" d=\"M1255.15,-143.67C1263.89,-145.21 1272.36,-146.7 1280.08,-148.05\"/>\n",
       "<polygon fill=\"black\" stroke=\"black\" points=\"1279.2,-151.45 1289.66,-149.74 1280.41,-144.56 1279.2,-151.45\"/>\n",
       "</g>\n",
       "<!-- 1721761538800+&#45;&gt;1721761538800 -->\n",
       "<g id=\"edge5\" class=\"edge\">\n",
       "<title>1721761538800+&#45;&gt;1721761538800</title>\n",
       "<path fill=\"none\" stroke=\"black\" d=\"M1033.91,-127.5C1040.95,-127.5 1049,-127.5 1057.55,-127.5\"/>\n",
       "<polygon fill=\"black\" stroke=\"black\" points=\"1057.54,-131 1067.54,-127.5 1057.54,-124 1057.54,-131\"/>\n",
       "</g>\n",
       "<!-- 1721761532704 -->\n",
       "<g id=\"node16\" class=\"node\">\n",
       "<title>1721761532704</title>\n",
       "<polygon fill=\"none\" stroke=\"black\" points=\"3.75,-110.5 3.75,-146.5 195.75,-146.5 195.75,-110.5 3.75,-110.5\"/>\n",
       "<text text-anchor=\"middle\" x=\"18.5\" y=\"-123.2\" font-family=\"Times New Roman,serif\" font-size=\"14.00\">x2</text>\n",
       "<polyline fill=\"none\" stroke=\"black\" points=\"33.25,-110.75 33.25,-146.5\"/>\n",
       "<text text-anchor=\"middle\" x=\"73.5\" y=\"-123.2\" font-family=\"Times New Roman,serif\" font-size=\"14.00\">data 0.0000</text>\n",
       "<polyline fill=\"none\" stroke=\"black\" points=\"113.75,-110.75 113.75,-146.5\"/>\n",
       "<text text-anchor=\"middle\" x=\"154.75\" y=\"-123.2\" font-family=\"Times New Roman,serif\" font-size=\"14.00\">grad 0.5000</text>\n",
       "</g>\n",
       "<!-- 1721761532704&#45;&gt;1721761544128* -->\n",
       "<g id=\"edge14\" class=\"edge\">\n",
       "<title>1721761532704&#45;&gt;1721761544128*</title>\n",
       "<path fill=\"none\" stroke=\"black\" d=\"M196.12,-128.5C205.86,-128.5 215.3,-128.5 223.83,-128.5\"/>\n",
       "<polygon fill=\"black\" stroke=\"black\" points=\"223.71,-132 233.71,-128.5 223.71,-125 223.71,-132\"/>\n",
       "</g>\n",
       "<!-- 1721761536304 -->\n",
       "<g id=\"node17\" class=\"node\">\n",
       "<title>1721761536304</title>\n",
       "<polygon fill=\"none\" stroke=\"black\" points=\"1689,-81.5 1689,-117.5 1875.75,-117.5 1875.75,-81.5 1689,-81.5\"/>\n",
       "<text text-anchor=\"middle\" x=\"1698.88\" y=\"-94.2\" font-family=\"Times New Roman,serif\" font-size=\"14.00\"> </text>\n",
       "<polyline fill=\"none\" stroke=\"black\" points=\"1708.75,-81.75 1708.75,-117.5\"/>\n",
       "<text text-anchor=\"middle\" x=\"1751.25\" y=\"-94.2\" font-family=\"Times New Roman,serif\" font-size=\"14.00\">data &#45;1.0000</text>\n",
       "<polyline fill=\"none\" stroke=\"black\" points=\"1793.75,-81.75 1793.75,-117.5\"/>\n",
       "<text text-anchor=\"middle\" x=\"1834.75\" y=\"-94.2\" font-family=\"Times New Roman,serif\" font-size=\"14.00\">grad 0.1464</text>\n",
       "</g>\n",
       "<!-- 1721761536304&#45;&gt;1721761534864+ -->\n",
       "<g id=\"edge11\" class=\"edge\">\n",
       "<title>1721761536304&#45;&gt;1721761534864+</title>\n",
       "<path fill=\"none\" stroke=\"black\" d=\"M1875.85,-115.67C1884.72,-117.22 1893.31,-118.73 1901.12,-120.09\"/>\n",
       "<polygon fill=\"black\" stroke=\"black\" points=\"1900.38,-123.52 1910.83,-121.79 1901.58,-116.62 1900.38,-123.52\"/>\n",
       "</g>\n",
       "<!-- 1721761542976 -->\n",
       "<g id=\"node18\" class=\"node\">\n",
       "<title>1721761542976</title>\n",
       "<polygon fill=\"none\" stroke=\"black\" points=\"1380.75,-136.5 1380.75,-172.5 1563,-172.5 1563,-136.5 1380.75,-136.5\"/>\n",
       "<text text-anchor=\"middle\" x=\"1390.62\" y=\"-149.2\" font-family=\"Times New Roman,serif\" font-size=\"14.00\"> </text>\n",
       "<polyline fill=\"none\" stroke=\"black\" points=\"1400.5,-136.75 1400.5,-172.5\"/>\n",
       "<text text-anchor=\"middle\" x=\"1440.75\" y=\"-149.2\" font-family=\"Times New Roman,serif\" font-size=\"14.00\">data 1.7627</text>\n",
       "<polyline fill=\"none\" stroke=\"black\" points=\"1481,-136.75 1481,-172.5\"/>\n",
       "<text text-anchor=\"middle\" x=\"1522\" y=\"-149.2\" font-family=\"Times New Roman,serif\" font-size=\"14.00\">grad 0.2500</text>\n",
       "</g>\n",
       "<!-- 1721761542976&#45;&gt;1721761536112exp -->\n",
       "<g id=\"edge24\" class=\"edge\">\n",
       "<title>1721761542976&#45;&gt;1721761536112exp</title>\n",
       "<path fill=\"none\" stroke=\"black\" d=\"M1563.12,-154.5C1571.51,-154.5 1579.65,-154.5 1587.12,-154.5\"/>\n",
       "<polygon fill=\"black\" stroke=\"black\" points=\"1587.12,-158 1597.12,-154.5 1587.12,-151 1587.12,-158\"/>\n",
       "</g>\n",
       "<!-- 1721761542976*&#45;&gt;1721761542976 -->\n",
       "<g id=\"edge6\" class=\"edge\">\n",
       "<title>1721761542976*&#45;&gt;1721761542976</title>\n",
       "<path fill=\"none\" stroke=\"black\" d=\"M1345.25,-154.5C1352.29,-154.5 1360.34,-154.5 1368.88,-154.5\"/>\n",
       "<polygon fill=\"black\" stroke=\"black\" points=\"1368.84,-158 1378.84,-154.5 1368.84,-151 1368.84,-158\"/>\n",
       "</g>\n",
       "<!-- 1721761532800 -->\n",
       "<g id=\"node20\" class=\"node\">\n",
       "<title>1721761532800</title>\n",
       "<polygon fill=\"none\" stroke=\"black\" points=\"714.38,-137.5 714.38,-173.5 900.38,-173.5 900.38,-137.5 714.38,-137.5\"/>\n",
       "<text text-anchor=\"middle\" x=\"726.12\" y=\"-150.2\" font-family=\"Times New Roman,serif\" font-size=\"14.00\">b</text>\n",
       "<polyline fill=\"none\" stroke=\"black\" points=\"737.88,-137.75 737.88,-173.5\"/>\n",
       "<text text-anchor=\"middle\" x=\"778.12\" y=\"-150.2\" font-family=\"Times New Roman,serif\" font-size=\"14.00\">data 6.8814</text>\n",
       "<polyline fill=\"none\" stroke=\"black\" points=\"818.38,-137.75 818.38,-173.5\"/>\n",
       "<text text-anchor=\"middle\" x=\"859.38\" y=\"-150.2\" font-family=\"Times New Roman,serif\" font-size=\"14.00\">grad 0.5000</text>\n",
       "</g>\n",
       "<!-- 1721761532800&#45;&gt;1721761538800+ -->\n",
       "<g id=\"edge26\" class=\"edge\">\n",
       "<title>1721761532800&#45;&gt;1721761538800+</title>\n",
       "<path fill=\"none\" stroke=\"black\" d=\"M900.59,-142.4C924.65,-138.98 949.22,-135.49 968.53,-132.75\"/>\n",
       "<polygon fill=\"black\" stroke=\"black\" points=\"968.92,-136.23 978.32,-131.36 967.93,-129.3 968.92,-136.23\"/>\n",
       "</g>\n",
       "<!-- 1721761534864 -->\n",
       "<g id=\"node21\" class=\"node\">\n",
       "<title>1721761534864</title>\n",
       "<polygon fill=\"none\" stroke=\"black\" points=\"2224.5,-108.5 2224.5,-144.5 2406.75,-144.5 2406.75,-108.5 2224.5,-108.5\"/>\n",
       "<text text-anchor=\"middle\" x=\"2234.38\" y=\"-121.2\" font-family=\"Times New Roman,serif\" font-size=\"14.00\"> </text>\n",
       "<polyline fill=\"none\" stroke=\"black\" points=\"2244.25,-108.75 2244.25,-144.5\"/>\n",
       "<text text-anchor=\"middle\" x=\"2284.5\" y=\"-121.2\" font-family=\"Times New Roman,serif\" font-size=\"14.00\">data 4.8284</text>\n",
       "<polyline fill=\"none\" stroke=\"black\" points=\"2324.75,-108.75 2324.75,-144.5\"/>\n",
       "<text text-anchor=\"middle\" x=\"2365.75\" y=\"-121.2\" font-family=\"Times New Roman,serif\" font-size=\"14.00\">grad 0.1464</text>\n",
       "</g>\n",
       "<!-- 1721761545664* -->\n",
       "<g id=\"node24\" class=\"node\">\n",
       "<title>1721761545664*</title>\n",
       "<ellipse fill=\"none\" stroke=\"black\" cx=\"2688\" cy=\"-153.5\" rx=\"27\" ry=\"18\"/>\n",
       "<text text-anchor=\"middle\" x=\"2688\" y=\"-148.07\" font-family=\"Times New Roman,serif\" font-size=\"14.00\">*</text>\n",
       "</g>\n",
       "<!-- 1721761534864&#45;&gt;1721761545664* -->\n",
       "<g id=\"edge13\" class=\"edge\">\n",
       "<title>1721761534864&#45;&gt;1721761545664*</title>\n",
       "<path fill=\"none\" stroke=\"black\" d=\"M2407.23,-133.1C2485,-138.77 2593.21,-146.66 2649.54,-150.77\"/>\n",
       "<polygon fill=\"black\" stroke=\"black\" points=\"2649,-154.24 2659.23,-151.48 2649.51,-147.26 2649,-154.24\"/>\n",
       "</g>\n",
       "<!-- 1721761534864+&#45;&gt;1721761534864 -->\n",
       "<g id=\"edge7\" class=\"edge\">\n",
       "<title>1721761534864+&#45;&gt;1721761534864</title>\n",
       "<path fill=\"none\" stroke=\"black\" d=\"M1966.11,-126.5C2016.54,-126.5 2129.09,-126.5 2212.72,-126.5\"/>\n",
       "<polygon fill=\"black\" stroke=\"black\" points=\"2212.55,-130 2222.55,-126.5 2212.55,-123 2212.55,-130\"/>\n",
       "</g>\n",
       "<!-- 1721761545664 -->\n",
       "<g id=\"node23\" class=\"node\">\n",
       "<title>1721761545664</title>\n",
       "<polygon fill=\"none\" stroke=\"black\" points=\"2751,-135.5 2751,-171.5 2937,-171.5 2937,-135.5 2751,-135.5\"/>\n",
       "<text text-anchor=\"middle\" x=\"2762.75\" y=\"-148.2\" font-family=\"Times New Roman,serif\" font-size=\"14.00\">o</text>\n",
       "<polyline fill=\"none\" stroke=\"black\" points=\"2774.5,-135.75 2774.5,-171.5\"/>\n",
       "<text text-anchor=\"middle\" x=\"2814.75\" y=\"-148.2\" font-family=\"Times New Roman,serif\" font-size=\"14.00\">data 0.7071</text>\n",
       "<polyline fill=\"none\" stroke=\"black\" points=\"2855,-135.75 2855,-171.5\"/>\n",
       "<text text-anchor=\"middle\" x=\"2896\" y=\"-148.2\" font-family=\"Times New Roman,serif\" font-size=\"14.00\">grad 1.0000</text>\n",
       "</g>\n",
       "<!-- 1721761545664*&#45;&gt;1721761545664 -->\n",
       "<g id=\"edge8\" class=\"edge\">\n",
       "<title>1721761545664*&#45;&gt;1721761545664</title>\n",
       "<path fill=\"none\" stroke=\"black\" d=\"M2715.47,-153.5C2722.61,-153.5 2730.78,-153.5 2739.46,-153.5\"/>\n",
       "<polygon fill=\"black\" stroke=\"black\" points=\"2739.19,-157 2749.19,-153.5 2739.19,-150 2739.19,-157\"/>\n",
       "</g>\n",
       "<!-- 1721761543648 -->\n",
       "<g id=\"node25\" class=\"node\">\n",
       "<title>1721761543648</title>\n",
       "<polygon fill=\"none\" stroke=\"black\" points=\"2442.75,-161.5 2442.75,-197.5 2625,-197.5 2625,-161.5 2442.75,-161.5\"/>\n",
       "<text text-anchor=\"middle\" x=\"2452.62\" y=\"-174.2\" font-family=\"Times New Roman,serif\" font-size=\"14.00\"> </text>\n",
       "<polyline fill=\"none\" stroke=\"black\" points=\"2462.5,-161.75 2462.5,-197.5\"/>\n",
       "<text text-anchor=\"middle\" x=\"2502.75\" y=\"-174.2\" font-family=\"Times New Roman,serif\" font-size=\"14.00\">data 0.1464</text>\n",
       "<polyline fill=\"none\" stroke=\"black\" points=\"2543,-161.75 2543,-197.5\"/>\n",
       "<text text-anchor=\"middle\" x=\"2584\" y=\"-174.2\" font-family=\"Times New Roman,serif\" font-size=\"14.00\">grad 4.8284</text>\n",
       "</g>\n",
       "<!-- 1721761543648&#45;&gt;1721761545664* -->\n",
       "<g id=\"edge15\" class=\"edge\">\n",
       "<title>1721761543648&#45;&gt;1721761545664*</title>\n",
       "<path fill=\"none\" stroke=\"black\" d=\"M2625.12,-164.08C2633.96,-162.56 2642.53,-161.1 2650.34,-159.77\"/>\n",
       "<polygon fill=\"black\" stroke=\"black\" points=\"2650.78,-163.24 2660.05,-158.11 2649.6,-156.34 2650.78,-163.24\"/>\n",
       "</g>\n",
       "<!-- 1721761543648**&#45;1 -->\n",
       "<g id=\"node26\" class=\"node\">\n",
       "<title>1721761543648**&#45;1</title>\n",
       "<ellipse fill=\"none\" stroke=\"black\" cx=\"2315.62\" cy=\"-181.5\" rx=\"27.11\" ry=\"18\"/>\n",
       "<text text-anchor=\"middle\" x=\"2315.62\" y=\"-176.07\" font-family=\"Times New Roman,serif\" font-size=\"14.00\">**&#45;1</text>\n",
       "</g>\n",
       "<!-- 1721761543648**&#45;1&#45;&gt;1721761543648 -->\n",
       "<g id=\"edge9\" class=\"edge\">\n",
       "<title>1721761543648**&#45;1&#45;&gt;1721761543648</title>\n",
       "<path fill=\"none\" stroke=\"black\" d=\"M2343.14,-181.25C2365.34,-181.05 2398.5,-180.74 2430.92,-180.44\"/>\n",
       "<polygon fill=\"black\" stroke=\"black\" points=\"2430.86,-183.94 2440.83,-180.35 2430.79,-176.94 2430.86,-183.94\"/>\n",
       "</g>\n",
       "<!-- 1721761544176 -->\n",
       "<g id=\"node27\" class=\"node\">\n",
       "<title>1721761544176</title>\n",
       "<polygon fill=\"none\" stroke=\"black\" points=\"2001.75,-163.5 2001.75,-199.5 2188.5,-199.5 2188.5,-163.5 2001.75,-163.5\"/>\n",
       "<text text-anchor=\"middle\" x=\"2011.62\" y=\"-176.2\" font-family=\"Times New Roman,serif\" font-size=\"14.00\"> </text>\n",
       "<polyline fill=\"none\" stroke=\"black\" points=\"2021.5,-163.75 2021.5,-199.5\"/>\n",
       "<text text-anchor=\"middle\" x=\"2061.75\" y=\"-176.2\" font-family=\"Times New Roman,serif\" font-size=\"14.00\">data 6.8284</text>\n",
       "<polyline fill=\"none\" stroke=\"black\" points=\"2102,-163.75 2102,-199.5\"/>\n",
       "<text text-anchor=\"middle\" x=\"2145.25\" y=\"-176.2\" font-family=\"Times New Roman,serif\" font-size=\"14.00\">grad &#45;0.1036</text>\n",
       "</g>\n",
       "<!-- 1721761544176&#45;&gt;1721761543648**&#45;1 -->\n",
       "<g id=\"edge23\" class=\"edge\">\n",
       "<title>1721761544176&#45;&gt;1721761543648**&#45;1</title>\n",
       "<path fill=\"none\" stroke=\"black\" d=\"M2188.79,-181.5C2219.78,-181.5 2252.58,-181.5 2276.93,-181.5\"/>\n",
       "<polygon fill=\"black\" stroke=\"black\" points=\"2276.64,-185 2286.64,-181.5 2276.64,-178 2276.64,-185\"/>\n",
       "</g>\n",
       "<!-- 1721761544176+&#45;&gt;1721761544176 -->\n",
       "<g id=\"edge10\" class=\"edge\">\n",
       "<title>1721761544176+&#45;&gt;1721761544176</title>\n",
       "<path fill=\"none\" stroke=\"black\" d=\"M1965.94,-181.5C1973.07,-181.5 1981.27,-181.5 1989.98,-181.5\"/>\n",
       "<polygon fill=\"black\" stroke=\"black\" points=\"1989.75,-185 1999.75,-181.5 1989.75,-178 1989.75,-185\"/>\n",
       "</g>\n",
       "</g>\n",
       "</svg>\n"
      ],
      "text/plain": [
       "<graphviz.graphs.Digraph at 0x190e0fc18d0>"
      ]
     },
     "execution_count": 27,
     "metadata": {},
     "output_type": "execute_result"
    }
   ],
   "source": [
    "# Inputs\n",
    "x1 = Value(2.0, label=\"x1\")\n",
    "x2 = Value(0.0, label=\"x2\")\n",
    "# Weights\n",
    "w1 = Value(-3.0, label='w1')\n",
    "w2 = Value(1.0, label='w2')\n",
    "# bias of the neuron\n",
    "b = Value(6.8813735870195432, label='b')\n",
    "# x1w1 + x2w2 + b\n",
    "x1w1 = x1*w1; x1w1.label='x1*w1'\n",
    "x2w2 = x2*w2; x2w2.label='x2*w2'\n",
    "x1w1x2w2 = x1w1 + x2w2; x1w1x2w2.label='x1*w1 + x2*w2'\n",
    "n = x1w1x2w2 + b; n.label='n'\n",
    "\n",
    "# ----------------------\n",
    "e = (2*n).exp()\n",
    "o = (e - 1) / (e + 1)\n",
    "# ----------------------\n",
    "\n",
    "o.label='o'\n",
    "o.backward()\n",
    "draw_dot(o)"
   ]
  },
  {
   "cell_type": "code",
   "execution_count": null,
   "id": "97178b6a",
   "metadata": {},
   "outputs": [],
   "source": []
  },
  {
   "cell_type": "markdown",
   "id": "e75c376d",
   "metadata": {},
   "source": [
    "### Doing the same thing but in PyTorch"
   ]
  },
  {
   "cell_type": "markdown",
   "id": "ca16b514",
   "metadata": {},
   "source": [
    "# PyTorch: Deep Learning Framework\n",
    "\n",
    "PyTorch is an open-source machine learning library primarily developed by Facebook's AI Research lab (FAIR). It provides a flexible and dynamic deep learning framework for building and training neural networks.\n",
    "\n",
    "## Key Features:\n",
    "\n",
    "1. **Tensor Computation**: PyTorch provides multi-dimensional arrays called tensors, similar to NumPy arrays but with additional GPU acceleration support for faster computation. Tensors in PyTorch can be easily manipulated and used for numerical computations.\n",
    "\n",
    "2. **Automatic Differentiation**: PyTorch offers automatic differentiation through its `autograd` package, allowing gradients to be computed automatically for tensor operations. This feature simplifies the process of implementing and training neural networks by automatically calculating gradients for backpropagation.\n",
    "\n",
    "3. **Dynamic Computational Graphs**: Unlike some other deep learning frameworks that use static computational graphs, PyTorch uses dynamic computational graphs. This means that the computational graph is built on-the-fly during execution, allowing for more flexibility and easier debugging.\n",
    "\n",
    "4. **Neural Network Building Blocks**: PyTorch provides a rich set of tools and modules for building neural networks, including layers, activation functions, optimization algorithms, loss functions, and more. It also offers a high-level neural network module called `torch.nn` for building complex architectures with ease.\n",
    "\n",
    "5. **GPU Acceleration**: PyTorch supports seamless integration with GPUs, enabling accelerated training of deep neural networks on compatible hardware. This GPU acceleration significantly speeds up the training process for large-scale models.\n",
    "\n",
    "6. **Community and Ecosystem**: PyTorch has a vibrant community of developers and researchers contributing to its development. It also offers extensive documentation, tutorials, and resources, making it accessible to both beginners and experienced practitioners.\n",
    "\n",
    "PyTorch has gained popularity among researchers and practitioners in the machine learning and deep learning communities due to its flexibility, ease of use, and powerful capabilities for building and training neural networks.\n"
   ]
  },
  {
   "cell_type": "code",
   "execution_count": 28,
   "id": "82eb4172",
   "metadata": {},
   "outputs": [],
   "source": [
    "import torch"
   ]
  },
  {
   "cell_type": "code",
   "execution_count": 29,
   "id": "d630912d",
   "metadata": {
    "scrolled": true
   },
   "outputs": [
    {
     "data": {
      "text/plain": [
       "tensor([1.3000])"
      ]
     },
     "execution_count": 29,
     "metadata": {},
     "output_type": "execute_result"
    }
   ],
   "source": [
    "element1 = torch.Tensor([1.3])\n",
    "element1"
   ]
  },
  {
   "cell_type": "code",
   "execution_count": 30,
   "id": "43e9b03a",
   "metadata": {},
   "outputs": [
    {
     "data": {
      "text/plain": [
       "tensor([1.3000])"
      ]
     },
     "execution_count": 30,
     "metadata": {},
     "output_type": "execute_result"
    }
   ],
   "source": [
    "element1.data"
   ]
  },
  {
   "cell_type": "code",
   "execution_count": 31,
   "id": "92b71046",
   "metadata": {},
   "outputs": [
    {
     "data": {
      "text/plain": [
       "1.2999999523162842"
      ]
     },
     "execution_count": 31,
     "metadata": {},
     "output_type": "execute_result"
    }
   ],
   "source": [
    "element1.data.item()"
   ]
  },
  {
   "cell_type": "code",
   "execution_count": null,
   "id": "1b2ec2c9",
   "metadata": {},
   "outputs": [],
   "source": []
  },
  {
   "cell_type": "code",
   "execution_count": 32,
   "id": "100b071a",
   "metadata": {},
   "outputs": [
    {
     "data": {
      "text/plain": [
       "tensor([[1, 2],\n",
       "        [3, 4]])"
      ]
     },
     "execution_count": 32,
     "metadata": {},
     "output_type": "execute_result"
    }
   ],
   "source": [
    "data = [[1, 2],[3, 4]]\n",
    "x_data = torch.tensor(data)\n",
    "x_data"
   ]
  },
  {
   "cell_type": "code",
   "execution_count": 33,
   "id": "5e7ddcaf",
   "metadata": {},
   "outputs": [
    {
     "data": {
      "text/plain": [
       "torch.int64"
      ]
     },
     "execution_count": 33,
     "metadata": {},
     "output_type": "execute_result"
    }
   ],
   "source": [
    "x_data.dtype"
   ]
  },
  {
   "cell_type": "code",
   "execution_count": 34,
   "id": "52837bbe",
   "metadata": {
    "scrolled": true
   },
   "outputs": [
    {
     "data": {
      "text/plain": [
       "tensor([[2, 4],\n",
       "        [6, 8]])"
      ]
     },
     "execution_count": 34,
     "metadata": {},
     "output_type": "execute_result"
    }
   ],
   "source": [
    "x_data + x_data"
   ]
  },
  {
   "cell_type": "code",
   "execution_count": 35,
   "id": "ee2a7835",
   "metadata": {},
   "outputs": [
    {
     "data": {
      "text/plain": [
       "tensor([[ 1,  4],\n",
       "        [ 9, 16]])"
      ]
     },
     "execution_count": 35,
     "metadata": {},
     "output_type": "execute_result"
    }
   ],
   "source": [
    "x_data * x_data "
   ]
  },
  {
   "cell_type": "code",
   "execution_count": 36,
   "id": "b3c1fe3b",
   "metadata": {},
   "outputs": [
    {
     "data": {
      "text/plain": [
       "tensor([[0, 0],\n",
       "        [0, 0]])"
      ]
     },
     "execution_count": 36,
     "metadata": {},
     "output_type": "execute_result"
    }
   ],
   "source": [
    "x_data - x_data "
   ]
  },
  {
   "cell_type": "code",
   "execution_count": 37,
   "id": "dbc3bb34",
   "metadata": {},
   "outputs": [
    {
     "data": {
      "text/plain": [
       "tensor([[1, 2],\n",
       "        [3, 4]])"
      ]
     },
     "execution_count": 37,
     "metadata": {},
     "output_type": "execute_result"
    }
   ],
   "source": [
    "x_data.data"
   ]
  },
  {
   "cell_type": "code",
   "execution_count": null,
   "id": "e11a893d",
   "metadata": {},
   "outputs": [],
   "source": []
  },
  {
   "cell_type": "code",
   "execution_count": 38,
   "id": "401c9643",
   "metadata": {},
   "outputs": [
    {
     "data": {
      "text/plain": [
       "tensor([[[ 1.,  2.,  3.,  4.],\n",
       "         [ 9.,  7.,  8.,  6.]],\n",
       "\n",
       "        [[11., 21., 31., 12.],\n",
       "         [86., 78., 98., 75.]]])"
      ]
     },
     "execution_count": 38,
     "metadata": {},
     "output_type": "execute_result"
    }
   ],
   "source": [
    "y_data = torch.Tensor([[[1,2,3,4],[9,7,8,6]],[[11,21,31,12], [86,78,98,75]]])\n",
    "y_data"
   ]
  },
  {
   "cell_type": "code",
   "execution_count": 39,
   "id": "1ed5ca59",
   "metadata": {
    "scrolled": false
   },
   "outputs": [
    {
     "data": {
      "text/plain": [
       "tensor([[[0., 0., 0., 0.],\n",
       "         [0., 0., 0., 0.]],\n",
       "\n",
       "        [[0., 0., 0., 0.],\n",
       "         [0., 0., 0., 0.]]])"
      ]
     },
     "execution_count": 39,
     "metadata": {},
     "output_type": "execute_result"
    }
   ],
   "source": [
    "y_data - y_data"
   ]
  },
  {
   "cell_type": "code",
   "execution_count": 40,
   "id": "905f2f54",
   "metadata": {},
   "outputs": [
    {
     "data": {
      "text/plain": [
       "tensor([[[  2.,   4.,   6.,   8.],\n",
       "         [ 18.,  14.,  16.,  12.]],\n",
       "\n",
       "        [[ 22.,  42.,  62.,  24.],\n",
       "         [172., 156., 196., 150.]]])"
      ]
     },
     "execution_count": 40,
     "metadata": {},
     "output_type": "execute_result"
    }
   ],
   "source": [
    "y_data + y_data"
   ]
  },
  {
   "cell_type": "code",
   "execution_count": 41,
   "id": "e9713cec",
   "metadata": {
    "scrolled": true
   },
   "outputs": [
    {
     "data": {
      "text/plain": [
       "tensor([[[1.0000e+00, 4.0000e+00, 9.0000e+00, 1.6000e+01],\n",
       "         [8.1000e+01, 4.9000e+01, 6.4000e+01, 3.6000e+01]],\n",
       "\n",
       "        [[1.2100e+02, 4.4100e+02, 9.6100e+02, 1.4400e+02],\n",
       "         [7.3960e+03, 6.0840e+03, 9.6040e+03, 5.6250e+03]]])"
      ]
     },
     "execution_count": 41,
     "metadata": {},
     "output_type": "execute_result"
    }
   ],
   "source": [
    "y_data * y_data"
   ]
  },
  {
   "cell_type": "code",
   "execution_count": 42,
   "id": "35328f2c",
   "metadata": {},
   "outputs": [
    {
     "data": {
      "text/plain": [
       "torch.float32"
      ]
     },
     "execution_count": 42,
     "metadata": {},
     "output_type": "execute_result"
    }
   ],
   "source": [
    "y_data.dtype"
   ]
  },
  {
   "cell_type": "code",
   "execution_count": 43,
   "id": "9e461d91",
   "metadata": {},
   "outputs": [
    {
     "data": {
      "text/plain": [
       "torch.float64"
      ]
     },
     "execution_count": 43,
     "metadata": {},
     "output_type": "execute_result"
    }
   ],
   "source": [
    "y_data.double().dtype"
   ]
  },
  {
   "cell_type": "markdown",
   "id": "fd9a8aac",
   "metadata": {},
   "source": [
    "---\n",
    "---\n",
    "---"
   ]
  },
  {
   "cell_type": "code",
   "execution_count": 44,
   "id": "dd9bdec1",
   "metadata": {},
   "outputs": [
    {
     "name": "stdout",
     "output_type": "stream",
     "text": [
      "0.7071066904050358\n",
      "---------------\n",
      "x2 0.5000001283844369\n",
      "w2 0.0\n",
      "x1 -1.5000003851533106\n",
      "w1 1.0000002567688737\n"
     ]
    }
   ],
   "source": [
    "x1 = torch.Tensor([2.0]).double()                ; x1.requires_grad = True\n",
    "x2 = torch.Tensor([0.0]).double()                ; x2.requires_grad = True\n",
    "w1 = torch.Tensor([-3.0]).double()               ; w1.requires_grad = True\n",
    "w2 = torch.Tensor([1.0]).double()                ; w2.requires_grad = True\n",
    "b  = torch.Tensor([6.8813735870195432]).double() ; b.requires_grad  = True\n",
    "\n",
    "n = x1*w1 + x2*w2 + b\n",
    "o = torch.tanh(n)\n",
    "\n",
    "print(o.data.item())\n",
    "o.backward()\n",
    "\n",
    "\n",
    "print(\"---\"*5)\n",
    "print(\"x2\", x2.grad.item())\n",
    "print(\"w2\", w2.grad.item())\n",
    "print(\"x1\", x1.grad.item())\n",
    "print(\"w1\", w1.grad.item())"
   ]
  },
  {
   "cell_type": "markdown",
   "id": "392104df",
   "metadata": {},
   "source": [
    "Therefore it is proved that our previous gradients were correct"
   ]
  },
  {
   "cell_type": "code",
   "execution_count": 45,
   "id": "deac8c2d",
   "metadata": {},
   "outputs": [
    {
     "name": "stdout",
     "output_type": "stream",
     "text": [
      "tensor([0.7071], dtype=torch.float64, grad_fn=<TanhBackward0>)\n",
      "0.7071066904050358\n"
     ]
    }
   ],
   "source": [
    "print(o)\n",
    "print(o.data.item())"
   ]
  },
  {
   "cell_type": "code",
   "execution_count": 46,
   "id": "2df776ce",
   "metadata": {},
   "outputs": [
    {
     "name": "stdout",
     "output_type": "stream",
     "text": [
      "tensor([-1.5000], dtype=torch.float64)\n",
      "-1.5000003851533106\n"
     ]
    }
   ],
   "source": [
    "print(x1.grad)\n",
    "print(x1.grad.item())"
   ]
  },
  {
   "cell_type": "markdown",
   "id": "63bdf300",
   "metadata": {},
   "source": [
    "---\n",
    "#\n",
    "#\n",
    "---\n",
    "#\n",
    "#\n",
    "---"
   ]
  }
 ],
 "metadata": {
  "kernelspec": {
   "display_name": "Python 3 (ipykernel)",
   "language": "python",
   "name": "python3"
  },
  "language_info": {
   "codemirror_mode": {
    "name": "ipython",
    "version": 3
   },
   "file_extension": ".py",
   "mimetype": "text/x-python",
   "name": "python",
   "nbconvert_exporter": "python",
   "pygments_lexer": "ipython3",
   "version": "3.10.9"
  }
 },
 "nbformat": 4,
 "nbformat_minor": 5
}
