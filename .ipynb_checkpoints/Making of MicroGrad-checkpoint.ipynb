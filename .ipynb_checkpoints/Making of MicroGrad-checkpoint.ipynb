{
 "cells": [
  {
   "cell_type": "markdown",
   "id": "fec59295",
   "metadata": {},
   "source": [
    "# The Intro to Neural Network"
   ]
  },
  {
   "cell_type": "markdown",
   "id": "e4a59a4a",
   "metadata": {},
   "source": [
    "## Data Structure for Neural Network"
   ]
  },
  {
   "cell_type": "code",
   "execution_count": 1,
   "id": "0d59dc1b",
   "metadata": {},
   "outputs": [],
   "source": [
    "# Value Object\n",
    "\n",
    "class Value:\n",
    "    \n",
    "    def __init__(self,data):\n",
    "        self.data = data\n",
    "        \n",
    "    # represent nicer looking expressions    \n",
    "    def __repr__(self):\n",
    "        return f\"Value(data={self.data})\"\n",
    "    \n",
    "    def __add__(self, otherObj):\n",
    "        # return NEW Value Obj \n",
    "        out = Value(self.data + otherObj.data)\n",
    "        return out\n",
    "    \n",
    "    def __mul__(self, otherObj):\n",
    "        out = Value(self.data * otherObj.data)\n",
    "        return out\n",
    "    \n",
    "    def __sub__(self, otherObj):\n",
    "        out = Value(self.data - otherObj.data)\n",
    "        return out"
   ]
  },
  {
   "cell_type": "markdown",
   "id": "c58ba5fa",
   "metadata": {},
   "source": [
    "\n",
    "\n",
    "\n"
   ]
  },
  {
   "cell_type": "code",
   "execution_count": 2,
   "id": "b55010c9",
   "metadata": {},
   "outputs": [
    {
     "name": "stdout",
     "output_type": "stream",
     "text": [
      "Value(data=2.0) Value(data=-3.0)\n"
     ]
    }
   ],
   "source": [
    "a = Value(2.0)\n",
    "b = Value(-3.0)\n",
    "c = Value(10.0)\n",
    "print(a,b)"
   ]
  },
  {
   "cell_type": "code",
   "execution_count": 3,
   "id": "b4fa6981",
   "metadata": {},
   "outputs": [
    {
     "name": "stdout",
     "output_type": "stream",
     "text": [
      "<class '__main__.Value'>\n"
     ]
    }
   ],
   "source": [
    "print(type(a))"
   ]
  },
  {
   "cell_type": "code",
   "execution_count": 4,
   "id": "9c9aa016",
   "metadata": {},
   "outputs": [
    {
     "name": "stdout",
     "output_type": "stream",
     "text": [
      "Value(data=-1.0)\n"
     ]
    }
   ],
   "source": [
    "print(a + b) \n",
    "# internally python will call\n",
    "# a.__add__(b)"
   ]
  },
  {
   "cell_type": "code",
   "execution_count": 5,
   "id": "300b03af",
   "metadata": {},
   "outputs": [
    {
     "name": "stdout",
     "output_type": "stream",
     "text": [
      "Value(data=-1.0)\n"
     ]
    }
   ],
   "source": [
    "newObj = a + b\n",
    "print(newObj)"
   ]
  },
  {
   "cell_type": "code",
   "execution_count": 6,
   "id": "2149328a",
   "metadata": {},
   "outputs": [
    {
     "name": "stdout",
     "output_type": "stream",
     "text": [
      "Value(data=-6.0)\n"
     ]
    }
   ],
   "source": [
    "print(a * b)"
   ]
  },
  {
   "cell_type": "code",
   "execution_count": 7,
   "id": "ef0efadd",
   "metadata": {},
   "outputs": [
    {
     "name": "stdout",
     "output_type": "stream",
     "text": [
      "Value(data=5.0)\n"
     ]
    }
   ],
   "source": [
    "print(a - b)"
   ]
  },
  {
   "cell_type": "markdown",
   "id": "26a99e24",
   "metadata": {},
   "source": [
    "\n",
    "\n",
    "\n"
   ]
  },
  {
   "cell_type": "markdown",
   "id": "88bf72a5",
   "metadata": {},
   "source": [
    "\n",
    "\n",
    "\n"
   ]
  },
  {
   "cell_type": "markdown",
   "id": "be3cf3ae",
   "metadata": {},
   "source": [
    "\n",
    "\n",
    "\n"
   ]
  },
  {
   "cell_type": "code",
   "execution_count": 8,
   "id": "393809e6",
   "metadata": {},
   "outputs": [
    {
     "name": "stdout",
     "output_type": "stream",
     "text": [
      "Value(data=4.0)\n"
     ]
    }
   ],
   "source": [
    "print(a*b + c)"
   ]
  },
  {
   "cell_type": "code",
   "execution_count": 9,
   "id": "6ac945d2",
   "metadata": {
    "scrolled": true
   },
   "outputs": [
    {
     "name": "stdout",
     "output_type": "stream",
     "text": [
      "Value(data=4.0)\n"
     ]
    }
   ],
   "source": [
    "# internally\n",
    "print((a.__mul__(b)).__add__(c))"
   ]
  },
  {
   "cell_type": "markdown",
   "id": "499610a8",
   "metadata": {},
   "source": [
    "\n",
    "\n",
    "\n"
   ]
  },
  {
   "cell_type": "code",
   "execution_count": 10,
   "id": "4ec15926",
   "metadata": {},
   "outputs": [],
   "source": [
    "a = Value(2.0)\n",
    "b = Value(-3.0)\n",
    "c = Value(10.0)\n",
    "\n",
    "# expression\n",
    "d = a*b + c"
   ]
  },
  {
   "cell_type": "code",
   "execution_count": 11,
   "id": "2a2d24c3",
   "metadata": {},
   "outputs": [
    {
     "name": "stdout",
     "output_type": "stream",
     "text": [
      "Value(data=4.0)\n"
     ]
    }
   ],
   "source": [
    "print(d)"
   ]
  },
  {
   "cell_type": "markdown",
   "id": "2fa51d34",
   "metadata": {},
   "source": [
    "\n",
    "\n",
    "\n"
   ]
  },
  {
   "cell_type": "markdown",
   "id": "0feefd8c",
   "metadata": {},
   "source": [
    "\n",
    "\n",
    "\n"
   ]
  },
  {
   "cell_type": "markdown",
   "id": "18ce52f4",
   "metadata": {},
   "source": [
    "\n",
    "\n",
    "\n"
   ]
  },
  {
   "cell_type": "markdown",
   "id": "1d09b299",
   "metadata": {},
   "source": [
    "\n",
    "\n",
    "\n"
   ]
  },
  {
   "cell_type": "markdown",
   "id": "9307cbc3",
   "metadata": {},
   "source": [
    "\n",
    "\n",
    "\n"
   ]
  },
  {
   "cell_type": "markdown",
   "id": "8c8ab284",
   "metadata": {},
   "source": [
    "\n",
    "\n",
    "\n"
   ]
  },
  {
   "cell_type": "markdown",
   "id": "224e4058",
   "metadata": {},
   "source": [
    "\n",
    "\n",
    "\n"
   ]
  },
  {
   "cell_type": "markdown",
   "id": "74413de9",
   "metadata": {},
   "source": [
    "\n",
    "\n",
    "\n"
   ]
  },
  {
   "cell_type": "markdown",
   "id": "7119d25c",
   "metadata": {},
   "source": [
    "\n",
    "\n",
    "\n"
   ]
  },
  {
   "cell_type": "markdown",
   "id": "e21e97e6",
   "metadata": {},
   "source": [
    "\n",
    "\n",
    "\n"
   ]
  },
  {
   "cell_type": "markdown",
   "id": "373ee2fb",
   "metadata": {},
   "source": [
    "# Updating Value Obj"
   ]
  },
  {
   "cell_type": "markdown",
   "id": "82572d4f",
   "metadata": {},
   "source": [
    "### let's see connected tissue of expressions\n",
    "### i.e what value produce what another value"
   ]
  },
  {
   "cell_type": "code",
   "execution_count": 12,
   "id": "d0797a90",
   "metadata": {},
   "outputs": [],
   "source": [
    "# Value Obj\n",
    "\n",
    "class Value:\n",
    "    \n",
    "    def __init__( self, data, _children=(), _op='' ):\n",
    "        self.data = data\n",
    "        self._prev = set(_children)\n",
    "        self._op = _op # operation\n",
    "        \n",
    "    # represents nicer looking expressions    \n",
    "    def __repr__(self):\n",
    "        return f\"Value(data={self.data})\"\n",
    "    \n",
    "    def __add__(self, otherObj):\n",
    "        out = Value(self.data + otherObj.data, (self, otherObj), '+' )\n",
    "        return out\n",
    "    \n",
    "    def __mul__(self, otherObj):\n",
    "        out = Value(self.data * otherObj.data, (self, otherObj), '*')\n",
    "        return out\n",
    "    \n",
    "    def __sub__(self, otherObj):\n",
    "        out = Value(self.data - otherObj.data, (self, otherObj), '-')\n",
    "        return out"
   ]
  },
  {
   "cell_type": "code",
   "execution_count": 13,
   "id": "8b4dbf7d",
   "metadata": {},
   "outputs": [
    {
     "name": "stdout",
     "output_type": "stream",
     "text": [
      "Value(data=4.0)\n"
     ]
    }
   ],
   "source": [
    "a = Value(2.0)\n",
    "b = Value(-3.0)\n",
    "c = Value(10.0)\n",
    "\n",
    "# expression\n",
    "d = a*b + c\n",
    "print(d)"
   ]
  },
  {
   "cell_type": "code",
   "execution_count": 14,
   "id": "5b514056",
   "metadata": {},
   "outputs": [
    {
     "name": "stdout",
     "output_type": "stream",
     "text": [
      "{Value(data=-6.0), Value(data=10.0)}\n"
     ]
    }
   ],
   "source": [
    "print(d._prev)\n",
    "\n",
    "# a*b = -6,0\n",
    "# c = 10.0"
   ]
  },
  {
   "cell_type": "code",
   "execution_count": 15,
   "id": "3a2fb276",
   "metadata": {
    "scrolled": true
   },
   "outputs": [
    {
     "name": "stdout",
     "output_type": "stream",
     "text": [
      "+\n"
     ]
    }
   ],
   "source": [
    "print(d._op)"
   ]
  },
  {
   "cell_type": "code",
   "execution_count": 16,
   "id": "3711d771",
   "metadata": {
    "scrolled": false
   },
   "outputs": [
    {
     "name": "stdout",
     "output_type": "stream",
     "text": [
      "set()\n"
     ]
    }
   ],
   "source": [
    "print(a._prev)\n",
    "# empty set --> 'cause its not produce from previous expression"
   ]
  },
  {
   "cell_type": "code",
   "execution_count": 17,
   "id": "07dae2a9",
   "metadata": {},
   "outputs": [
    {
     "name": "stdout",
     "output_type": "stream",
     "text": [
      "Value(data=-6.0)\n",
      "Operation:  *\n",
      "z._prev = {Value(data=-3.0), Value(data=2.0)}\n"
     ]
    }
   ],
   "source": [
    "z = a*b\n",
    "print(z)\n",
    "print(\"Operation: \", z._op)\n",
    "print(f\"{z._prev = }\")"
   ]
  },
  {
   "cell_type": "markdown",
   "id": "94465f89",
   "metadata": {},
   "source": [
    " "
   ]
  },
  {
   "cell_type": "markdown",
   "id": "1e22c792",
   "metadata": {},
   "source": [
    "# Step 1: Install Graphviz binary\n",
    "\n",
    "## Windows:\n",
    "\n",
    "1. Download Graphviz from [Graphviz website](http://www.graphviz.org/download/).\n",
    "2. Add the following paths to the PATH environment variable (replace `{graphviz_version}` with the installed Graphviz version):\n",
    "    - `C:\\Program Files (x86)\\Graphviz{graphviz_version}\\bin`\n",
    "    - `C:\\Program Files (x86)\\Graphviz{graphviz_version}\\bin\\dot.exe`\n",
    "3. Close any opened Jupyter notebook and the command prompt.\n",
    "4. Restart Jupyter or the command prompt and test.\n",
    "\n",
    "## Linux:\n",
    "\n",
    "1. Update package information:\n",
    "    ```bash\n",
    "    sudo apt-get update\n",
    "    ```\n",
    "2. Install Graphviz:\n",
    "    ```bash\n",
    "    sudo apt-get install graphviz\n",
    "    ```\n",
    "    or build it manually from [Graphviz website](http://www.graphviz.org/download/).\n",
    "\n",
    "# Step 2: Install graphviz module for python\n",
    "\n",
    "## pip:\n",
    "\n",
    "```bash\n",
    "pip install graphviz\n",
    "```"
   ]
  },
  {
   "cell_type": "markdown",
   "id": "827332e6",
   "metadata": {},
   "source": [
    " "
   ]
  },
  {
   "cell_type": "markdown",
   "id": "d38520ed",
   "metadata": {},
   "source": [
    "  "
   ]
  },
  {
   "cell_type": "markdown",
   "id": "54da19c4",
   "metadata": {},
   "source": [
    " "
   ]
  },
  {
   "cell_type": "markdown",
   "id": "7c008950",
   "metadata": {},
   "source": [
    " # Graph Tracing Explanation\n",
    "\n",
    "The provided Python code snippet demonstrates a function for tracing a graph using the Graphviz library. Let's break down its functionality:\n",
    "\n",
    "1. **Importing Dependencies**:\n",
    "    - `from graphviz import Digraph`: This line imports the `Digraph` class from the Graphviz library, which is used to represent directed graphs.\n",
    "\n",
    "2. **Defining the Trace Function**:\n",
    "    - `def trace(root)`: This function, named `trace`, is defined to trace a graph starting from a given root node.\n",
    "\n",
    "3. **Inside the Trace Function**:\n",
    "    - **Initializing Nodes and Edges**:\n",
    "        - `nodes, edges = set(), set()`: Two empty sets, `nodes` and `edges`, are initialized to store the nodes and edges of the graph, respectively.\n",
    "\n",
    "    - **Defining the Build Function**:\n",
    "        - `def build(value)`: This function, `build`, is an inner function of `trace` responsible for recursively traversing the graph from a given node.\n",
    "\n",
    "    - **Checking Node Existence**:\n",
    "        - `if value not in nodes:`: This condition checks if the current node `value` is not already in the set of nodes. If not, it adds the node to the `nodes` set.\n",
    "\n",
    "    - **Traversing Through Predecessors**:\n",
    "        - `for child in value._prev:`: This loop iterates over the predecessors (or parents) of the current node `value`, as stored in the `_prev` attribute of the `value` object.\n",
    "\n",
    "    - **Adding Edges**:\n",
    "        - `edges.add((child, value))`: For each predecessor `child`, it adds an edge from `child` to `value` to the set of `edges`.\n",
    "\n",
    "    - **Recursive Call**:\n",
    "        - `build(child)`: Recursively calls the `build` function for each predecessor `child`, effectively exploring the graph depth-first.\n",
    "\n",
    "    - **Initiating Tracing**:\n",
    "        - `build(root)`: This line initiates the tracing process by calling the `build` function with the root node of the graph.\n",
    "\n",
    "    - **Returning Collected Nodes and Edges**:\n",
    "        - `return nodes, edges`: Finally, the function returns the sets of nodes and edges that were collected during the tracing process.\n",
    "\n",
    "This code is designed to trace the graph starting from a given root node, collecting all the nodes and edges encountered during the traversal. These sets of nodes and edges can then be used for further analysis or visualization.\n"
   ]
  },
  {
   "cell_type": "code",
   "execution_count": 18,
   "id": "c439589b",
   "metadata": {},
   "outputs": [],
   "source": [
    "from graphviz import Digraph"
   ]
  },
  {
   "cell_type": "code",
   "execution_count": 19,
   "id": "90f4590d",
   "metadata": {},
   "outputs": [],
   "source": [
    "def trace(root):\n",
    "    # builds a set of all nodes and edges in graph\n",
    "    nodes, edges = set(), set()\n",
    "    print(\"nodes: \", nodes)\n",
    "    print(\"edges: \", edges)\n",
    "    def build(value):\n",
    "        print(\"value: \", value)\n",
    "        if value not in nodes:\n",
    "            nodes.add(value)\n",
    "            print(\"nodes: \", nodes)\n",
    "            \n",
    "            for child in value._prev:\n",
    "                print(\"value._prev: \", value._prev)\n",
    "                print(\"child: \", child)\n",
    "                edges.add((child, value))\n",
    "                print(\"edges: \", edges)\n",
    "                build(child)\n",
    "                \n",
    "    build(root)\n",
    "    print(\"final nodes: \", nodes)\n",
    "    print(\"final edges: \", edges)\n",
    "    return nodes, edges"
   ]
  },
  {
   "cell_type": "code",
   "execution_count": 20,
   "id": "51f9d80f",
   "metadata": {},
   "outputs": [
    {
     "name": "stdout",
     "output_type": "stream",
     "text": [
      "Value(data=-6.0)\n",
      "----------------------\n",
      "nodes:  set()\n",
      "edges:  set()\n",
      "value:  Value(data=-6.0)\n",
      "nodes:  {Value(data=-6.0)}\n",
      "value._prev:  {Value(data=2.0), Value(data=-3.0)}\n",
      "child:  Value(data=2.0)\n",
      "edges:  {(Value(data=2.0), Value(data=-6.0))}\n",
      "value:  Value(data=2.0)\n",
      "nodes:  {Value(data=2.0), Value(data=-6.0)}\n",
      "value._prev:  {Value(data=2.0), Value(data=-3.0)}\n",
      "child:  Value(data=-3.0)\n",
      "edges:  {(Value(data=2.0), Value(data=-6.0)), (Value(data=-3.0), Value(data=-6.0))}\n",
      "value:  Value(data=-3.0)\n",
      "nodes:  {Value(data=2.0), Value(data=-3.0), Value(data=-6.0)}\n",
      "final nodes:  {Value(data=2.0), Value(data=-3.0), Value(data=-6.0)}\n",
      "final edges:  {(Value(data=2.0), Value(data=-6.0)), (Value(data=-3.0), Value(data=-6.0))}\n"
     ]
    },
    {
     "data": {
      "text/plain": [
       "({Value(data=-3.0), Value(data=-6.0), Value(data=2.0)},\n",
       " {(Value(data=-3.0), Value(data=-6.0)), (Value(data=2.0), Value(data=-6.0))})"
      ]
     },
     "execution_count": 20,
     "metadata": {},
     "output_type": "execute_result"
    }
   ],
   "source": [
    "a = Value(2.0)\n",
    "b = Value(-3.0)\n",
    "c = Value(10.0)\n",
    "\n",
    "# expression\n",
    "d = a*b\n",
    "print(d)\n",
    "print('----------------------')\n",
    "trace(d)"
   ]
  },
  {
   "cell_type": "code",
   "execution_count": 21,
   "id": "68945d0d",
   "metadata": {},
   "outputs": [
    {
     "name": "stdout",
     "output_type": "stream",
     "text": [
      "Value(data=4.0)\n",
      "----------------------\n",
      "nodes:  set()\n",
      "edges:  set()\n",
      "value:  Value(data=4.0)\n",
      "nodes:  {Value(data=4.0)}\n",
      "value._prev:  {Value(data=10.0), Value(data=-6.0)}\n",
      "child:  Value(data=10.0)\n",
      "edges:  {(Value(data=10.0), Value(data=4.0))}\n",
      "value:  Value(data=10.0)\n",
      "nodes:  {Value(data=4.0), Value(data=10.0)}\n",
      "value._prev:  {Value(data=10.0), Value(data=-6.0)}\n",
      "child:  Value(data=-6.0)\n",
      "edges:  {(Value(data=-6.0), Value(data=4.0)), (Value(data=10.0), Value(data=4.0))}\n",
      "value:  Value(data=-6.0)\n",
      "nodes:  {Value(data=4.0), Value(data=-6.0), Value(data=10.0)}\n",
      "value._prev:  {Value(data=2.0), Value(data=-3.0)}\n",
      "child:  Value(data=2.0)\n",
      "edges:  {(Value(data=-6.0), Value(data=4.0)), (Value(data=10.0), Value(data=4.0)), (Value(data=2.0), Value(data=-6.0))}\n",
      "value:  Value(data=2.0)\n",
      "nodes:  {Value(data=2.0), Value(data=4.0), Value(data=-6.0), Value(data=10.0)}\n",
      "value._prev:  {Value(data=2.0), Value(data=-3.0)}\n",
      "child:  Value(data=-3.0)\n",
      "edges:  {(Value(data=-6.0), Value(data=4.0)), (Value(data=10.0), Value(data=4.0)), (Value(data=2.0), Value(data=-6.0)), (Value(data=-3.0), Value(data=-6.0))}\n",
      "value:  Value(data=-3.0)\n",
      "nodes:  {Value(data=-6.0), Value(data=2.0), Value(data=-3.0), Value(data=4.0), Value(data=10.0)}\n",
      "final nodes:  {Value(data=-6.0), Value(data=2.0), Value(data=-3.0), Value(data=4.0), Value(data=10.0)}\n",
      "final edges:  {(Value(data=-6.0), Value(data=4.0)), (Value(data=10.0), Value(data=4.0)), (Value(data=2.0), Value(data=-6.0)), (Value(data=-3.0), Value(data=-6.0))}\n"
     ]
    },
    {
     "data": {
      "text/plain": [
       "({Value(data=-3.0),\n",
       "  Value(data=-6.0),\n",
       "  Value(data=10.0),\n",
       "  Value(data=2.0),\n",
       "  Value(data=4.0)},\n",
       " {(Value(data=-3.0), Value(data=-6.0)),\n",
       "  (Value(data=-6.0), Value(data=4.0)),\n",
       "  (Value(data=10.0), Value(data=4.0)),\n",
       "  (Value(data=2.0), Value(data=-6.0))})"
      ]
     },
     "execution_count": 21,
     "metadata": {},
     "output_type": "execute_result"
    }
   ],
   "source": [
    "a = Value(2.0)\n",
    "b = Value(-3.0)\n",
    "c = Value(10.0)\n",
    "\n",
    "# expression\n",
    "d = a*b + c\n",
    "print(d)\n",
    "print('----------------------')\n",
    "trace(d)"
   ]
  },
  {
   "cell_type": "code",
   "execution_count": 22,
   "id": "3ab092e8",
   "metadata": {},
   "outputs": [
    {
     "data": {
      "text/plain": [
       "Value(data=-46.0)"
      ]
     },
     "execution_count": 22,
     "metadata": {},
     "output_type": "execute_result"
    }
   ],
   "source": [
    "complex_eg = a*b - c + b*c \n",
    "complex_eg"
   ]
  },
  {
   "cell_type": "code",
   "execution_count": 23,
   "id": "ec032647",
   "metadata": {
    "scrolled": false
   },
   "outputs": [
    {
     "name": "stdout",
     "output_type": "stream",
     "text": [
      "nodes:  set()\n",
      "edges:  set()\n",
      "value:  Value(data=-46.0)\n",
      "nodes:  {Value(data=-46.0)}\n",
      "value._prev:  {Value(data=-30.0), Value(data=-16.0)}\n",
      "child:  Value(data=-30.0)\n",
      "edges:  {(Value(data=-30.0), Value(data=-46.0))}\n",
      "value:  Value(data=-30.0)\n",
      "nodes:  {Value(data=-30.0), Value(data=-46.0)}\n",
      "value._prev:  {Value(data=10.0), Value(data=-3.0)}\n",
      "child:  Value(data=10.0)\n",
      "edges:  {(Value(data=-30.0), Value(data=-46.0)), (Value(data=10.0), Value(data=-30.0))}\n",
      "value:  Value(data=10.0)\n",
      "nodes:  {Value(data=-30.0), Value(data=-46.0), Value(data=10.0)}\n",
      "value._prev:  {Value(data=10.0), Value(data=-3.0)}\n",
      "child:  Value(data=-3.0)\n",
      "edges:  {(Value(data=-3.0), Value(data=-30.0)), (Value(data=-30.0), Value(data=-46.0)), (Value(data=10.0), Value(data=-30.0))}\n",
      "value:  Value(data=-3.0)\n",
      "nodes:  {Value(data=-30.0), Value(data=-3.0), Value(data=-46.0), Value(data=10.0)}\n",
      "value._prev:  {Value(data=-30.0), Value(data=-16.0)}\n",
      "child:  Value(data=-16.0)\n",
      "edges:  {(Value(data=-3.0), Value(data=-30.0)), (Value(data=-16.0), Value(data=-46.0)), (Value(data=-30.0), Value(data=-46.0)), (Value(data=10.0), Value(data=-30.0))}\n",
      "value:  Value(data=-16.0)\n",
      "nodes:  {Value(data=-30.0), Value(data=-3.0), Value(data=-46.0), Value(data=-16.0), Value(data=10.0)}\n",
      "value._prev:  {Value(data=10.0), Value(data=-6.0)}\n",
      "child:  Value(data=10.0)\n",
      "edges:  {(Value(data=10.0), Value(data=-16.0)), (Value(data=10.0), Value(data=-30.0)), (Value(data=-3.0), Value(data=-30.0)), (Value(data=-30.0), Value(data=-46.0)), (Value(data=-16.0), Value(data=-46.0))}\n",
      "value:  Value(data=10.0)\n",
      "value._prev:  {Value(data=10.0), Value(data=-6.0)}\n",
      "child:  Value(data=-6.0)\n",
      "edges:  {(Value(data=10.0), Value(data=-16.0)), (Value(data=10.0), Value(data=-30.0)), (Value(data=-3.0), Value(data=-30.0)), (Value(data=-30.0), Value(data=-46.0)), (Value(data=-16.0), Value(data=-46.0)), (Value(data=-6.0), Value(data=-16.0))}\n",
      "value:  Value(data=-6.0)\n",
      "nodes:  {Value(data=-30.0), Value(data=-3.0), Value(data=-46.0), Value(data=-16.0), Value(data=10.0), Value(data=-6.0)}\n",
      "value._prev:  {Value(data=2.0), Value(data=-3.0)}\n",
      "child:  Value(data=2.0)\n",
      "edges:  {(Value(data=10.0), Value(data=-16.0)), (Value(data=10.0), Value(data=-30.0)), (Value(data=-3.0), Value(data=-30.0)), (Value(data=-30.0), Value(data=-46.0)), (Value(data=2.0), Value(data=-6.0)), (Value(data=-16.0), Value(data=-46.0)), (Value(data=-6.0), Value(data=-16.0))}\n",
      "value:  Value(data=2.0)\n",
      "nodes:  {Value(data=-30.0), Value(data=2.0), Value(data=-3.0), Value(data=-46.0), Value(data=-16.0), Value(data=10.0), Value(data=-6.0)}\n",
      "value._prev:  {Value(data=2.0), Value(data=-3.0)}\n",
      "child:  Value(data=-3.0)\n",
      "edges:  {(Value(data=10.0), Value(data=-16.0)), (Value(data=10.0), Value(data=-30.0)), (Value(data=-3.0), Value(data=-30.0)), (Value(data=-30.0), Value(data=-46.0)), (Value(data=2.0), Value(data=-6.0)), (Value(data=-3.0), Value(data=-6.0)), (Value(data=-16.0), Value(data=-46.0)), (Value(data=-6.0), Value(data=-16.0))}\n",
      "value:  Value(data=-3.0)\n",
      "final nodes:  {Value(data=-30.0), Value(data=2.0), Value(data=-3.0), Value(data=-46.0), Value(data=-16.0), Value(data=10.0), Value(data=-6.0)}\n",
      "final edges:  {(Value(data=10.0), Value(data=-16.0)), (Value(data=10.0), Value(data=-30.0)), (Value(data=-3.0), Value(data=-30.0)), (Value(data=-30.0), Value(data=-46.0)), (Value(data=2.0), Value(data=-6.0)), (Value(data=-3.0), Value(data=-6.0)), (Value(data=-16.0), Value(data=-46.0)), (Value(data=-6.0), Value(data=-16.0))}\n"
     ]
    },
    {
     "data": {
      "text/plain": [
       "({Value(data=-16.0),\n",
       "  Value(data=-3.0),\n",
       "  Value(data=-30.0),\n",
       "  Value(data=-46.0),\n",
       "  Value(data=-6.0),\n",
       "  Value(data=10.0),\n",
       "  Value(data=2.0)},\n",
       " {(Value(data=-16.0), Value(data=-46.0)),\n",
       "  (Value(data=-3.0), Value(data=-30.0)),\n",
       "  (Value(data=-3.0), Value(data=-6.0)),\n",
       "  (Value(data=-30.0), Value(data=-46.0)),\n",
       "  (Value(data=-6.0), Value(data=-16.0)),\n",
       "  (Value(data=10.0), Value(data=-16.0)),\n",
       "  (Value(data=10.0), Value(data=-30.0)),\n",
       "  (Value(data=2.0), Value(data=-6.0))})"
      ]
     },
     "execution_count": 23,
     "metadata": {},
     "output_type": "execute_result"
    }
   ],
   "source": [
    "trace(complex_eg)"
   ]
  },
  {
   "cell_type": "code",
   "execution_count": 24,
   "id": "4938b467",
   "metadata": {},
   "outputs": [
    {
     "name": "stdout",
     "output_type": "stream",
     "text": [
      "nodes:  set()\n",
      "edges:  set()\n",
      "value:  Value(data=4.0)\n",
      "nodes:  {Value(data=4.0)}\n",
      "value._prev:  {Value(data=10.0), Value(data=-6.0)}\n",
      "child:  Value(data=10.0)\n",
      "edges:  {(Value(data=10.0), Value(data=4.0))}\n",
      "value:  Value(data=10.0)\n",
      "nodes:  {Value(data=4.0), Value(data=10.0)}\n",
      "value._prev:  {Value(data=10.0), Value(data=-6.0)}\n",
      "child:  Value(data=-6.0)\n",
      "edges:  {(Value(data=-6.0), Value(data=4.0)), (Value(data=10.0), Value(data=4.0))}\n",
      "value:  Value(data=-6.0)\n",
      "nodes:  {Value(data=4.0), Value(data=-6.0), Value(data=10.0)}\n",
      "value._prev:  {Value(data=2.0), Value(data=-3.0)}\n",
      "child:  Value(data=2.0)\n",
      "edges:  {(Value(data=-6.0), Value(data=4.0)), (Value(data=10.0), Value(data=4.0)), (Value(data=2.0), Value(data=-6.0))}\n",
      "value:  Value(data=2.0)\n",
      "nodes:  {Value(data=2.0), Value(data=4.0), Value(data=-6.0), Value(data=10.0)}\n",
      "value._prev:  {Value(data=2.0), Value(data=-3.0)}\n",
      "child:  Value(data=-3.0)\n",
      "edges:  {(Value(data=-6.0), Value(data=4.0)), (Value(data=10.0), Value(data=4.0)), (Value(data=2.0), Value(data=-6.0)), (Value(data=-3.0), Value(data=-6.0))}\n",
      "value:  Value(data=-3.0)\n",
      "nodes:  {Value(data=-6.0), Value(data=2.0), Value(data=-3.0), Value(data=4.0), Value(data=10.0)}\n",
      "final nodes:  {Value(data=-6.0), Value(data=2.0), Value(data=-3.0), Value(data=4.0), Value(data=10.0)}\n",
      "final edges:  {(Value(data=-6.0), Value(data=4.0)), (Value(data=10.0), Value(data=4.0)), (Value(data=2.0), Value(data=-6.0)), (Value(data=-3.0), Value(data=-6.0))}\n"
     ]
    },
    {
     "data": {
      "text/plain": [
       "({Value(data=-3.0),\n",
       "  Value(data=-6.0),\n",
       "  Value(data=10.0),\n",
       "  Value(data=2.0),\n",
       "  Value(data=4.0)},\n",
       " {(Value(data=-3.0), Value(data=-6.0)),\n",
       "  (Value(data=-6.0), Value(data=4.0)),\n",
       "  (Value(data=10.0), Value(data=4.0)),\n",
       "  (Value(data=2.0), Value(data=-6.0))})"
      ]
     },
     "execution_count": 24,
     "metadata": {},
     "output_type": "execute_result"
    }
   ],
   "source": [
    "trace(d)"
   ]
  },
  {
   "cell_type": "code",
   "execution_count": null,
   "id": "6ebfaa92",
   "metadata": {},
   "outputs": [],
   "source": []
  },
  {
   "cell_type": "code",
   "execution_count": 25,
   "id": "4d138bda",
   "metadata": {},
   "outputs": [
    {
     "name": "stdout",
     "output_type": "stream",
     "text": [
      "Value(data=2.0)\n"
     ]
    }
   ],
   "source": [
    "print(a)"
   ]
  },
  {
   "cell_type": "code",
   "execution_count": 26,
   "id": "f7bbf314",
   "metadata": {},
   "outputs": [
    {
     "name": "stdout",
     "output_type": "stream",
     "text": [
      "nodes:  set()\n",
      "edges:  set()\n",
      "value:  Value(data=2.0)\n",
      "nodes:  {Value(data=2.0)}\n",
      "final nodes:  {Value(data=2.0)}\n",
      "final edges:  set()\n"
     ]
    },
    {
     "data": {
      "text/plain": [
       "({Value(data=2.0)}, set())"
      ]
     },
     "execution_count": 26,
     "metadata": {},
     "output_type": "execute_result"
    }
   ],
   "source": [
    "trace(a)"
   ]
  },
  {
   "cell_type": "code",
   "execution_count": null,
   "id": "9b3c7a4f",
   "metadata": {},
   "outputs": [],
   "source": []
  },
  {
   "cell_type": "markdown",
   "id": "64f158a4",
   "metadata": {},
   "source": [
    "### Recursion is a programming technique where a function calls itself directly or indirectly to solve a problem."
   ]
  },
  {
   "cell_type": "code",
   "execution_count": 27,
   "id": "6dc00910",
   "metadata": {},
   "outputs": [
    {
     "name": "stdout",
     "output_type": "stream",
     "text": [
      "5\n",
      "10\n",
      "20\n",
      "40\n",
      "80\n"
     ]
    }
   ],
   "source": [
    "# recursion\n",
    "def add(n):\n",
    "    print(n)    \n",
    "    if n < 100:\n",
    "        n += n\n",
    "        if n < 100:\n",
    "            add(n)\n",
    "add(5)"
   ]
  },
  {
   "cell_type": "code",
   "execution_count": 28,
   "id": "db570503",
   "metadata": {},
   "outputs": [
    {
     "name": "stdout",
     "output_type": "stream",
     "text": [
      "5\n",
      "10\n",
      "20\n",
      "40\n",
      "80\n"
     ]
    }
   ],
   "source": [
    "def lol(n):\n",
    "    while(n<100):\n",
    "        print(n)        \n",
    "        n += n\n",
    "lol(5)"
   ]
  },
  {
   "cell_type": "markdown",
   "id": "bbb9e613",
   "metadata": {},
   "source": [
    " "
   ]
  },
  {
   "cell_type": "code",
   "execution_count": 29,
   "id": "9d51c00f",
   "metadata": {
    "scrolled": true
   },
   "outputs": [
    {
     "name": "stdout",
     "output_type": "stream",
     "text": [
      "<class 'int'>\n",
      "1879629057328\n",
      "1879629067600\n",
      "1879629063616\n",
      "1879629068224\n",
      "1879608154032\n",
      "1879608154032\n",
      "<class 'int'>\n",
      "<class 'str'>\n"
     ]
    }
   ],
   "source": [
    "print(type(id(a)))\n",
    "\n",
    "print(id(a))\n",
    "print(id(b))\n",
    "print(id(c))\n",
    "print(id(d))\n",
    "\n",
    "print(id(z))\n",
    "print(str(id(z)))\n",
    "\n",
    "print(type(id(z)))\n",
    "print(type(str(id(z))))"
   ]
  },
  {
   "cell_type": "markdown",
   "id": "8ba76eeb",
   "metadata": {},
   "source": [
    "### "
   ]
  },
  {
   "cell_type": "code",
   "execution_count": 30,
   "id": "bdec0928",
   "metadata": {},
   "outputs": [],
   "source": [
    "# Value Obj\n",
    "\n",
    "class Value:\n",
    "    \n",
    "    def __init__( self, data, _children=(), _operation='' ):\n",
    "        self.data = data\n",
    "        self._prev = set(_children)\n",
    "        self._op = _operation\n",
    "        \n",
    "    # represents nicer looking expressions    \n",
    "    def __repr__(self):\n",
    "        return f\"Value(data={self.data})\"\n",
    "    \n",
    "    def __add__(self, otherObj):\n",
    "        # return NEW Value Obj \n",
    "        out = Value(self.data + otherObj.data, (self, otherObj), '+' )\n",
    "        return out\n",
    "    \n",
    "    def __mul__(self, otherObj):\n",
    "        out = Value(self.data * otherObj.data, (self, otherObj), '*')\n",
    "        return out\n",
    "    \n",
    "    def __sub__(self, otherObj):\n",
    "        out = Value(self.data - otherObj.data, (self, otherObj), '-')\n",
    "        return out"
   ]
  },
  {
   "cell_type": "code",
   "execution_count": 31,
   "id": "4be74ef5",
   "metadata": {},
   "outputs": [],
   "source": [
    "from graphviz import Digraph\n",
    "\n",
    "def trace(root):\n",
    "    # builds a set of all nodes and edges in graph\n",
    "    nodes, edges = set(), set()\n",
    "    def build(v):\n",
    "        if v not in nodes:\n",
    "            nodes.add(v)\n",
    "            for child in v._prev:\n",
    "                edges.add((child, v))\n",
    "                build(child)\n",
    "    build(root)\n",
    "    return nodes, edges\n",
    "\n",
    "def draw_dot(root):\n",
    "    dot = Digraph(format='svg', graph_attr={'rankdir': 'LR'}) # LR = left to right\n",
    "\n",
    "    nodes, edges = trace(root)\n",
    "    print(f\"{nodes = }, {edges = }\")\n",
    "    for n in nodes:\n",
    "        print(f\"node = {n}\")\n",
    "        uid = str(id(n))\n",
    "        print(f\"{uid = }\")\n",
    "        # for any value in the graph, create a rectangular ('record') node for it\n",
    "        dot.node(name = uid, label = \"{ data %.4f }\" % (n.data, ), shape='record', color='orange', style=\"filled\")\n",
    "        if n._op:\n",
    "            print(f\"{n._op = }\")\n",
    "            # if this value is result of some operation , create an op node for it\n",
    "            dot.node(name = uid + n._op, label = n._op)\n",
    "            # and connect this node to it\n",
    "            dot.edge(uid + n._op, uid)\n",
    "            \n",
    "    for n1, n2 in edges:\n",
    "        print(f\"{n1 = }, {n2 = }\")\n",
    "        # connect n1 node to op node of n2\n",
    "        dot.edge(str(id(n1)), str(id(n2)) + n2._op)\n",
    "    \n",
    "    print(f\"{dot = }\")\n",
    "    return dot"
   ]
  },
  {
   "cell_type": "code",
   "execution_count": 32,
   "id": "bc0a38ff",
   "metadata": {},
   "outputs": [
    {
     "name": "stdout",
     "output_type": "stream",
     "text": [
      "d = Value(data=-1.0)\n",
      "\n",
      "nodes = {Value(data=-3.0), Value(data=2.0), Value(data=-1.0)}, edges = {(Value(data=2.0), Value(data=-1.0)), (Value(data=-3.0), Value(data=-1.0))}\n",
      "node = Value(data=-3.0)\n",
      "uid = '1879629250368'\n",
      "node = Value(data=2.0)\n",
      "uid = '1879629249888'\n",
      "node = Value(data=-1.0)\n",
      "uid = '1879629239520'\n",
      "n._op = '+'\n",
      "n1 = Value(data=2.0), n2 = Value(data=-1.0)\n",
      "n1 = Value(data=-3.0), n2 = Value(data=-1.0)\n",
      "dot = <graphviz.graphs.Digraph object at 0x000001B5A2A23F10>\n"
     ]
    },
    {
     "data": {
      "image/svg+xml": [
       "<?xml version=\"1.0\" encoding=\"UTF-8\" standalone=\"no\"?>\n",
       "<!DOCTYPE svg PUBLIC \"-//W3C//DTD SVG 1.1//EN\"\n",
       " \"http://www.w3.org/Graphics/SVG/1.1/DTD/svg11.dtd\">\n",
       "<!-- Generated by graphviz version 10.0.1 (20240210.2158)\n",
       " -->\n",
       "<!-- Pages: 1 -->\n",
       "<svg width=\"304pt\" height=\"100pt\"\n",
       " viewBox=\"0.00 0.00 304.00 100.00\" xmlns=\"http://www.w3.org/2000/svg\" xmlns:xlink=\"http://www.w3.org/1999/xlink\">\n",
       "<g id=\"graph0\" class=\"graph\" transform=\"scale(1 1) rotate(0) translate(4 96)\">\n",
       "<polygon fill=\"white\" stroke=\"none\" points=\"-4,4 -4,-96 300,-96 300,4 -4,4\"/>\n",
       "<!-- 1879629250368 -->\n",
       "<g id=\"node1\" class=\"node\">\n",
       "<title>1879629250368</title>\n",
       "<polygon fill=\"orange\" stroke=\"orange\" points=\"0,-55.5 0,-91.5 85,-91.5 85,-55.5 0,-55.5\"/>\n",
       "<text text-anchor=\"middle\" x=\"42.5\" y=\"-68.2\" font-family=\"Times New Roman,serif\" font-size=\"14.00\">data &#45;3.0000</text>\n",
       "</g>\n",
       "<!-- 1879629239520+ -->\n",
       "<g id=\"node4\" class=\"node\">\n",
       "<title>1879629239520+</title>\n",
       "<ellipse fill=\"none\" stroke=\"black\" cx=\"148\" cy=\"-45.5\" rx=\"27\" ry=\"18\"/>\n",
       "<text text-anchor=\"middle\" x=\"148\" y=\"-40.08\" font-family=\"Times New Roman,serif\" font-size=\"14.00\">+</text>\n",
       "</g>\n",
       "<!-- 1879629250368&#45;&gt;1879629239520+ -->\n",
       "<g id=\"edge3\" class=\"edge\">\n",
       "<title>1879629250368&#45;&gt;1879629239520+</title>\n",
       "<path fill=\"none\" stroke=\"black\" d=\"M85.3,-62.19C94.02,-59.83 103.12,-57.37 111.58,-55.08\"/>\n",
       "<polygon fill=\"black\" stroke=\"black\" points=\"112.42,-58.48 121.16,-52.49 110.59,-51.72 112.42,-58.48\"/>\n",
       "</g>\n",
       "<!-- 1879629249888 -->\n",
       "<g id=\"node2\" class=\"node\">\n",
       "<title>1879629249888</title>\n",
       "<polygon fill=\"orange\" stroke=\"orange\" points=\"2.25,-0.5 2.25,-36.5 82.75,-36.5 82.75,-0.5 2.25,-0.5\"/>\n",
       "<text text-anchor=\"middle\" x=\"42.5\" y=\"-13.2\" font-family=\"Times New Roman,serif\" font-size=\"14.00\">data 2.0000</text>\n",
       "</g>\n",
       "<!-- 1879629249888&#45;&gt;1879629239520+ -->\n",
       "<g id=\"edge2\" class=\"edge\">\n",
       "<title>1879629249888&#45;&gt;1879629239520+</title>\n",
       "<path fill=\"none\" stroke=\"black\" d=\"M83.22,-28.86C92.52,-31.29 102.37,-33.86 111.47,-36.23\"/>\n",
       "<polygon fill=\"black\" stroke=\"black\" points=\"110.48,-39.59 121.04,-38.73 112.25,-32.82 110.48,-39.59\"/>\n",
       "</g>\n",
       "<!-- 1879629239520 -->\n",
       "<g id=\"node3\" class=\"node\">\n",
       "<title>1879629239520</title>\n",
       "<polygon fill=\"orange\" stroke=\"orange\" points=\"211,-27.5 211,-63.5 296,-63.5 296,-27.5 211,-27.5\"/>\n",
       "<text text-anchor=\"middle\" x=\"253.5\" y=\"-40.2\" font-family=\"Times New Roman,serif\" font-size=\"14.00\">data &#45;1.0000</text>\n",
       "</g>\n",
       "<!-- 1879629239520+&#45;&gt;1879629239520 -->\n",
       "<g id=\"edge1\" class=\"edge\">\n",
       "<title>1879629239520+&#45;&gt;1879629239520</title>\n",
       "<path fill=\"none\" stroke=\"black\" d=\"M175.39,-45.5C182.8,-45.5 191.13,-45.5 199.51,-45.5\"/>\n",
       "<polygon fill=\"black\" stroke=\"black\" points=\"199.36,-49 209.36,-45.5 199.36,-42 199.36,-49\"/>\n",
       "</g>\n",
       "</g>\n",
       "</svg>\n"
      ],
      "text/plain": [
       "<graphviz.graphs.Digraph at 0x1b5a2a23f10>"
      ]
     },
     "execution_count": 32,
     "metadata": {},
     "output_type": "execute_result"
    }
   ],
   "source": [
    "a = Value(2.0)\n",
    "b = Value(-3.0)\n",
    "c = Value(10.0)\n",
    "\n",
    "# expression\n",
    "d = a+b\n",
    "print(f\"{d = }\\n\")\n",
    "draw_dot(d)"
   ]
  },
  {
   "cell_type": "code",
   "execution_count": 33,
   "id": "0b37bc22",
   "metadata": {},
   "outputs": [],
   "source": [
    "a = Value(2.0)\n",
    "b = Value(-3.0)\n",
    "c = Value(10.0)\n",
    "\n",
    "# expression\n",
    "d = a*b + c"
   ]
  },
  {
   "cell_type": "code",
   "execution_count": 34,
   "id": "8d7509cc",
   "metadata": {},
   "outputs": [
    {
     "name": "stdout",
     "output_type": "stream",
     "text": [
      "nodes = {Value(data=10.0), Value(data=4.0), Value(data=-6.0), Value(data=-3.0), Value(data=2.0)}, edges = {(Value(data=-6.0), Value(data=4.0)), (Value(data=-3.0), Value(data=-6.0)), (Value(data=2.0), Value(data=-6.0)), (Value(data=10.0), Value(data=4.0))}\n",
      "node = Value(data=10.0)\n",
      "uid = '1879629248112'\n",
      "node = Value(data=4.0)\n",
      "uid = '1879629249792'\n",
      "n._op = '+'\n",
      "node = Value(data=-6.0)\n",
      "uid = '1879629246240'\n",
      "n._op = '*'\n",
      "node = Value(data=-3.0)\n",
      "uid = '1879629248400'\n",
      "node = Value(data=2.0)\n",
      "uid = '1879629239280'\n",
      "n1 = Value(data=-6.0), n2 = Value(data=4.0)\n",
      "n1 = Value(data=-3.0), n2 = Value(data=-6.0)\n",
      "n1 = Value(data=2.0), n2 = Value(data=-6.0)\n",
      "n1 = Value(data=10.0), n2 = Value(data=4.0)\n",
      "dot = <graphviz.graphs.Digraph object at 0x000001B5A2A23340>\n"
     ]
    },
    {
     "data": {
      "image/svg+xml": [
       "<?xml version=\"1.0\" encoding=\"UTF-8\" standalone=\"no\"?>\n",
       "<!DOCTYPE svg PUBLIC \"-//W3C//DTD SVG 1.1//EN\"\n",
       " \"http://www.w3.org/Graphics/SVG/1.1/DTD/svg11.dtd\">\n",
       "<!-- Generated by graphviz version 10.0.1 (20240210.2158)\n",
       " -->\n",
       "<!-- Pages: 1 -->\n",
       "<svg width=\"513pt\" height=\"127pt\"\n",
       " viewBox=\"0.00 0.00 512.75 127.00\" xmlns=\"http://www.w3.org/2000/svg\" xmlns:xlink=\"http://www.w3.org/1999/xlink\">\n",
       "<g id=\"graph0\" class=\"graph\" transform=\"scale(1 1) rotate(0) translate(4 123)\">\n",
       "<polygon fill=\"white\" stroke=\"none\" points=\"-4,4 -4,-123 508.75,-123 508.75,4 -4,4\"/>\n",
       "<!-- 1879629248112 -->\n",
       "<g id=\"node1\" class=\"node\">\n",
       "<title>1879629248112</title>\n",
       "<polygon fill=\"orange\" stroke=\"orange\" points=\"211,-82.5 211,-118.5 298.25,-118.5 298.25,-82.5 211,-82.5\"/>\n",
       "<text text-anchor=\"middle\" x=\"254.62\" y=\"-95.2\" font-family=\"Times New Roman,serif\" font-size=\"14.00\">data 10.0000</text>\n",
       "</g>\n",
       "<!-- 1879629249792+ -->\n",
       "<g id=\"node3\" class=\"node\">\n",
       "<title>1879629249792+</title>\n",
       "<ellipse fill=\"none\" stroke=\"black\" cx=\"361.25\" cy=\"-72.5\" rx=\"27\" ry=\"18\"/>\n",
       "<text text-anchor=\"middle\" x=\"361.25\" y=\"-67.08\" font-family=\"Times New Roman,serif\" font-size=\"14.00\">+</text>\n",
       "</g>\n",
       "<!-- 1879629248112&#45;&gt;1879629249792+ -->\n",
       "<g id=\"edge6\" class=\"edge\">\n",
       "<title>1879629248112&#45;&gt;1879629249792+</title>\n",
       "<path fill=\"none\" stroke=\"black\" d=\"M298.48,-89.03C307.17,-86.7 316.22,-84.28 324.63,-82.03\"/>\n",
       "<polygon fill=\"black\" stroke=\"black\" points=\"325.39,-85.45 334.14,-79.49 323.58,-78.69 325.39,-85.45\"/>\n",
       "</g>\n",
       "<!-- 1879629249792 -->\n",
       "<g id=\"node2\" class=\"node\">\n",
       "<title>1879629249792</title>\n",
       "<polygon fill=\"orange\" stroke=\"orange\" points=\"424.25,-54.5 424.25,-90.5 504.75,-90.5 504.75,-54.5 424.25,-54.5\"/>\n",
       "<text text-anchor=\"middle\" x=\"464.5\" y=\"-67.2\" font-family=\"Times New Roman,serif\" font-size=\"14.00\">data 4.0000</text>\n",
       "</g>\n",
       "<!-- 1879629249792+&#45;&gt;1879629249792 -->\n",
       "<g id=\"edge1\" class=\"edge\">\n",
       "<title>1879629249792+&#45;&gt;1879629249792</title>\n",
       "<path fill=\"none\" stroke=\"black\" d=\"M388.59,-72.5C396,-72.5 404.32,-72.5 412.65,-72.5\"/>\n",
       "<polygon fill=\"black\" stroke=\"black\" points=\"412.42,-76 422.42,-72.5 412.42,-69 412.42,-76\"/>\n",
       "</g>\n",
       "<!-- 1879629246240 -->\n",
       "<g id=\"node4\" class=\"node\">\n",
       "<title>1879629246240</title>\n",
       "<polygon fill=\"orange\" stroke=\"orange\" points=\"212.12,-27.5 212.12,-63.5 297.12,-63.5 297.12,-27.5 212.12,-27.5\"/>\n",
       "<text text-anchor=\"middle\" x=\"254.62\" y=\"-40.2\" font-family=\"Times New Roman,serif\" font-size=\"14.00\">data &#45;6.0000</text>\n",
       "</g>\n",
       "<!-- 1879629246240&#45;&gt;1879629249792+ -->\n",
       "<g id=\"edge3\" class=\"edge\">\n",
       "<title>1879629246240&#45;&gt;1879629249792+</title>\n",
       "<path fill=\"none\" stroke=\"black\" d=\"M297.58,-56.33C306.51,-58.63 315.86,-61.05 324.54,-63.28\"/>\n",
       "<polygon fill=\"black\" stroke=\"black\" points=\"323.43,-66.61 333.99,-65.72 325.18,-59.84 323.43,-66.61\"/>\n",
       "</g>\n",
       "<!-- 1879629246240* -->\n",
       "<g id=\"node5\" class=\"node\">\n",
       "<title>1879629246240*</title>\n",
       "<ellipse fill=\"none\" stroke=\"black\" cx=\"148\" cy=\"-45.5\" rx=\"27\" ry=\"18\"/>\n",
       "<text text-anchor=\"middle\" x=\"148\" y=\"-40.08\" font-family=\"Times New Roman,serif\" font-size=\"14.00\">*</text>\n",
       "</g>\n",
       "<!-- 1879629246240*&#45;&gt;1879629246240 -->\n",
       "<g id=\"edge2\" class=\"edge\">\n",
       "<title>1879629246240*&#45;&gt;1879629246240</title>\n",
       "<path fill=\"none\" stroke=\"black\" d=\"M175.4,-45.5C183.06,-45.5 191.71,-45.5 200.4,-45.5\"/>\n",
       "<polygon fill=\"black\" stroke=\"black\" points=\"200.24,-49 210.24,-45.5 200.24,-42 200.24,-49\"/>\n",
       "</g>\n",
       "<!-- 1879629248400 -->\n",
       "<g id=\"node6\" class=\"node\">\n",
       "<title>1879629248400</title>\n",
       "<polygon fill=\"orange\" stroke=\"orange\" points=\"0,-55.5 0,-91.5 85,-91.5 85,-55.5 0,-55.5\"/>\n",
       "<text text-anchor=\"middle\" x=\"42.5\" y=\"-68.2\" font-family=\"Times New Roman,serif\" font-size=\"14.00\">data &#45;3.0000</text>\n",
       "</g>\n",
       "<!-- 1879629248400&#45;&gt;1879629246240* -->\n",
       "<g id=\"edge4\" class=\"edge\">\n",
       "<title>1879629248400&#45;&gt;1879629246240*</title>\n",
       "<path fill=\"none\" stroke=\"black\" d=\"M85.3,-62.19C94.02,-59.83 103.12,-57.37 111.58,-55.08\"/>\n",
       "<polygon fill=\"black\" stroke=\"black\" points=\"112.42,-58.48 121.16,-52.49 110.59,-51.72 112.42,-58.48\"/>\n",
       "</g>\n",
       "<!-- 1879629239280 -->\n",
       "<g id=\"node7\" class=\"node\">\n",
       "<title>1879629239280</title>\n",
       "<polygon fill=\"orange\" stroke=\"orange\" points=\"2.25,-0.5 2.25,-36.5 82.75,-36.5 82.75,-0.5 2.25,-0.5\"/>\n",
       "<text text-anchor=\"middle\" x=\"42.5\" y=\"-13.2\" font-family=\"Times New Roman,serif\" font-size=\"14.00\">data 2.0000</text>\n",
       "</g>\n",
       "<!-- 1879629239280&#45;&gt;1879629246240* -->\n",
       "<g id=\"edge5\" class=\"edge\">\n",
       "<title>1879629239280&#45;&gt;1879629246240*</title>\n",
       "<path fill=\"none\" stroke=\"black\" d=\"M83.22,-28.86C92.52,-31.29 102.37,-33.86 111.47,-36.23\"/>\n",
       "<polygon fill=\"black\" stroke=\"black\" points=\"110.48,-39.59 121.04,-38.73 112.25,-32.82 110.48,-39.59\"/>\n",
       "</g>\n",
       "</g>\n",
       "</svg>\n"
      ],
      "text/plain": [
       "<graphviz.graphs.Digraph at 0x1b5a2a23340>"
      ]
     },
     "execution_count": 34,
     "metadata": {},
     "output_type": "execute_result"
    }
   ],
   "source": [
    "draw_dot(d)"
   ]
  },
  {
   "cell_type": "code",
   "execution_count": 35,
   "id": "529aca72",
   "metadata": {},
   "outputs": [
    {
     "name": "stdout",
     "output_type": "stream",
     "text": [
      "nodes = {Value(data=2.0)}, edges = set()\n",
      "node = Value(data=2.0)\n",
      "uid = '1879629239280'\n",
      "dot = <graphviz.graphs.Digraph object at 0x000001B5A2A23DF0>\n"
     ]
    },
    {
     "data": {
      "image/svg+xml": [
       "<?xml version=\"1.0\" encoding=\"UTF-8\" standalone=\"no\"?>\n",
       "<!DOCTYPE svg PUBLIC \"-//W3C//DTD SVG 1.1//EN\"\n",
       " \"http://www.w3.org/Graphics/SVG/1.1/DTD/svg11.dtd\">\n",
       "<!-- Generated by graphviz version 10.0.1 (20240210.2158)\n",
       " -->\n",
       "<!-- Pages: 1 -->\n",
       "<svg width=\"89pt\" height=\"45pt\"\n",
       " viewBox=\"0.00 0.00 88.50 45.00\" xmlns=\"http://www.w3.org/2000/svg\" xmlns:xlink=\"http://www.w3.org/1999/xlink\">\n",
       "<g id=\"graph0\" class=\"graph\" transform=\"scale(1 1) rotate(0) translate(4 41)\">\n",
       "<polygon fill=\"white\" stroke=\"none\" points=\"-4,4 -4,-41 84.5,-41 84.5,4 -4,4\"/>\n",
       "<!-- 1879629239280 -->\n",
       "<g id=\"node1\" class=\"node\">\n",
       "<title>1879629239280</title>\n",
       "<polygon fill=\"orange\" stroke=\"orange\" points=\"0,-0.5 0,-36.5 80.5,-36.5 80.5,-0.5 0,-0.5\"/>\n",
       "<text text-anchor=\"middle\" x=\"40.25\" y=\"-13.2\" font-family=\"Times New Roman,serif\" font-size=\"14.00\">data 2.0000</text>\n",
       "</g>\n",
       "</g>\n",
       "</svg>\n"
      ],
      "text/plain": [
       "<graphviz.graphs.Digraph at 0x1b5a2a23df0>"
      ]
     },
     "execution_count": 35,
     "metadata": {},
     "output_type": "execute_result"
    }
   ],
   "source": [
    "draw_dot(a)"
   ]
  },
  {
   "cell_type": "code",
   "execution_count": 36,
   "id": "ea95ed71",
   "metadata": {},
   "outputs": [
    {
     "name": "stdout",
     "output_type": "stream",
     "text": [
      "nodes = {Value(data=-6.0), Value(data=2.0), Value(data=-3.0)}, edges = {(Value(data=-3.0), Value(data=-6.0)), (Value(data=2.0), Value(data=-6.0))}\n",
      "node = Value(data=-6.0)\n",
      "uid = '1879608154032'\n",
      "n._op = '*'\n",
      "node = Value(data=2.0)\n",
      "uid = '1879608152544'\n",
      "node = Value(data=-3.0)\n",
      "uid = '1879608164016'\n",
      "n1 = Value(data=-3.0), n2 = Value(data=-6.0)\n",
      "n1 = Value(data=2.0), n2 = Value(data=-6.0)\n",
      "dot = <graphviz.graphs.Digraph object at 0x000001B5A2A236D0>\n"
     ]
    },
    {
     "data": {
      "image/svg+xml": [
       "<?xml version=\"1.0\" encoding=\"UTF-8\" standalone=\"no\"?>\n",
       "<!DOCTYPE svg PUBLIC \"-//W3C//DTD SVG 1.1//EN\"\n",
       " \"http://www.w3.org/Graphics/SVG/1.1/DTD/svg11.dtd\">\n",
       "<!-- Generated by graphviz version 10.0.1 (20240210.2158)\n",
       " -->\n",
       "<!-- Pages: 1 -->\n",
       "<svg width=\"304pt\" height=\"100pt\"\n",
       " viewBox=\"0.00 0.00 304.00 100.00\" xmlns=\"http://www.w3.org/2000/svg\" xmlns:xlink=\"http://www.w3.org/1999/xlink\">\n",
       "<g id=\"graph0\" class=\"graph\" transform=\"scale(1 1) rotate(0) translate(4 96)\">\n",
       "<polygon fill=\"white\" stroke=\"none\" points=\"-4,4 -4,-96 300,-96 300,4 -4,4\"/>\n",
       "<!-- 1879608154032 -->\n",
       "<g id=\"node1\" class=\"node\">\n",
       "<title>1879608154032</title>\n",
       "<polygon fill=\"orange\" stroke=\"orange\" points=\"211,-27.5 211,-63.5 296,-63.5 296,-27.5 211,-27.5\"/>\n",
       "<text text-anchor=\"middle\" x=\"253.5\" y=\"-40.2\" font-family=\"Times New Roman,serif\" font-size=\"14.00\">data &#45;6.0000</text>\n",
       "</g>\n",
       "<!-- 1879608154032* -->\n",
       "<g id=\"node2\" class=\"node\">\n",
       "<title>1879608154032*</title>\n",
       "<ellipse fill=\"none\" stroke=\"black\" cx=\"148\" cy=\"-45.5\" rx=\"27\" ry=\"18\"/>\n",
       "<text text-anchor=\"middle\" x=\"148\" y=\"-40.08\" font-family=\"Times New Roman,serif\" font-size=\"14.00\">*</text>\n",
       "</g>\n",
       "<!-- 1879608154032*&#45;&gt;1879608154032 -->\n",
       "<g id=\"edge1\" class=\"edge\">\n",
       "<title>1879608154032*&#45;&gt;1879608154032</title>\n",
       "<path fill=\"none\" stroke=\"black\" d=\"M175.39,-45.5C182.8,-45.5 191.13,-45.5 199.51,-45.5\"/>\n",
       "<polygon fill=\"black\" stroke=\"black\" points=\"199.36,-49 209.36,-45.5 199.36,-42 199.36,-49\"/>\n",
       "</g>\n",
       "<!-- 1879608152544 -->\n",
       "<g id=\"node3\" class=\"node\">\n",
       "<title>1879608152544</title>\n",
       "<polygon fill=\"orange\" stroke=\"orange\" points=\"2.25,-55.5 2.25,-91.5 82.75,-91.5 82.75,-55.5 2.25,-55.5\"/>\n",
       "<text text-anchor=\"middle\" x=\"42.5\" y=\"-68.2\" font-family=\"Times New Roman,serif\" font-size=\"14.00\">data 2.0000</text>\n",
       "</g>\n",
       "<!-- 1879608152544&#45;&gt;1879608154032* -->\n",
       "<g id=\"edge3\" class=\"edge\">\n",
       "<title>1879608152544&#45;&gt;1879608154032*</title>\n",
       "<path fill=\"none\" stroke=\"black\" d=\"M83.22,-62.75C92.52,-60.24 102.37,-57.57 111.47,-55.11\"/>\n",
       "<polygon fill=\"black\" stroke=\"black\" points=\"112.3,-58.51 121.04,-52.52 110.48,-51.75 112.3,-58.51\"/>\n",
       "</g>\n",
       "<!-- 1879608164016 -->\n",
       "<g id=\"node4\" class=\"node\">\n",
       "<title>1879608164016</title>\n",
       "<polygon fill=\"orange\" stroke=\"orange\" points=\"0,-0.5 0,-36.5 85,-36.5 85,-0.5 0,-0.5\"/>\n",
       "<text text-anchor=\"middle\" x=\"42.5\" y=\"-13.2\" font-family=\"Times New Roman,serif\" font-size=\"14.00\">data &#45;3.0000</text>\n",
       "</g>\n",
       "<!-- 1879608164016&#45;&gt;1879608154032* -->\n",
       "<g id=\"edge2\" class=\"edge\">\n",
       "<title>1879608164016&#45;&gt;1879608154032*</title>\n",
       "<path fill=\"none\" stroke=\"black\" d=\"M85.3,-29.4C93.94,-31.66 102.96,-34.01 111.36,-36.2\"/>\n",
       "<polygon fill=\"black\" stroke=\"black\" points=\"110.3,-39.54 120.86,-38.68 112.07,-32.77 110.3,-39.54\"/>\n",
       "</g>\n",
       "</g>\n",
       "</svg>\n"
      ],
      "text/plain": [
       "<graphviz.graphs.Digraph at 0x1b5a2a236d0>"
      ]
     },
     "execution_count": 36,
     "metadata": {},
     "output_type": "execute_result"
    }
   ],
   "source": [
    "draw_dot(z)"
   ]
  },
  {
   "cell_type": "code",
   "execution_count": 37,
   "id": "355dfd17",
   "metadata": {},
   "outputs": [
    {
     "name": "stdout",
     "output_type": "stream",
     "text": [
      "nodes = {Value(data=-30.0), Value(data=2.0), Value(data=-3.0), Value(data=-46.0), Value(data=-16.0), Value(data=10.0), Value(data=-6.0)}, edges = {(Value(data=10.0), Value(data=-16.0)), (Value(data=10.0), Value(data=-30.0)), (Value(data=-3.0), Value(data=-30.0)), (Value(data=-30.0), Value(data=-46.0)), (Value(data=2.0), Value(data=-6.0)), (Value(data=-3.0), Value(data=-6.0)), (Value(data=-16.0), Value(data=-46.0)), (Value(data=-6.0), Value(data=-16.0))}\n",
      "node = Value(data=-30.0)\n",
      "uid = '1879629070048'\n",
      "n._op = '*'\n",
      "node = Value(data=2.0)\n",
      "uid = '1879629057328'\n",
      "node = Value(data=-3.0)\n",
      "uid = '1879629067600'\n",
      "node = Value(data=-46.0)\n",
      "uid = '1879629069664'\n",
      "n._op = '+'\n",
      "node = Value(data=-16.0)\n",
      "uid = '1879629056368'\n",
      "n._op = '-'\n",
      "node = Value(data=10.0)\n",
      "uid = '1879629063616'\n",
      "node = Value(data=-6.0)\n",
      "uid = '1879629063664'\n",
      "n._op = '*'\n",
      "n1 = Value(data=10.0), n2 = Value(data=-16.0)\n",
      "n1 = Value(data=10.0), n2 = Value(data=-30.0)\n",
      "n1 = Value(data=-3.0), n2 = Value(data=-30.0)\n",
      "n1 = Value(data=-30.0), n2 = Value(data=-46.0)\n",
      "n1 = Value(data=2.0), n2 = Value(data=-6.0)\n",
      "n1 = Value(data=-3.0), n2 = Value(data=-6.0)\n",
      "n1 = Value(data=-16.0), n2 = Value(data=-46.0)\n",
      "n1 = Value(data=-6.0), n2 = Value(data=-16.0)\n",
      "dot = <graphviz.graphs.Digraph object at 0x000001B5A2A22DD0>\n"
     ]
    },
    {
     "data": {
      "image/svg+xml": [
       "<?xml version=\"1.0\" encoding=\"UTF-8\" standalone=\"no\"?>\n",
       "<!DOCTYPE svg PUBLIC \"-//W3C//DTD SVG 1.1//EN\"\n",
       " \"http://www.w3.org/Graphics/SVG/1.1/DTD/svg11.dtd\">\n",
       "<!-- Generated by graphviz version 10.0.1 (20240210.2158)\n",
       " -->\n",
       "<!-- Pages: 1 -->\n",
       "<svg width=\"742pt\" height=\"135pt\"\n",
       " viewBox=\"0.00 0.00 741.75 135.00\" xmlns=\"http://www.w3.org/2000/svg\" xmlns:xlink=\"http://www.w3.org/1999/xlink\">\n",
       "<g id=\"graph0\" class=\"graph\" transform=\"scale(1 1) rotate(0) translate(4 131)\">\n",
       "<polygon fill=\"white\" stroke=\"none\" points=\"-4,4 -4,-131 737.75,-131 737.75,4 -4,4\"/>\n",
       "<!-- 1879629070048 -->\n",
       "<g id=\"node1\" class=\"node\">\n",
       "<title>1879629070048</title>\n",
       "<polygon fill=\"orange\" stroke=\"orange\" points=\"424.25,-78.5 424.25,-114.5 516,-114.5 516,-78.5 424.25,-78.5\"/>\n",
       "<text text-anchor=\"middle\" x=\"470.12\" y=\"-91.2\" font-family=\"Times New Roman,serif\" font-size=\"14.00\">data &#45;30.0000</text>\n",
       "</g>\n",
       "<!-- 1879629069664+ -->\n",
       "<g id=\"node6\" class=\"node\">\n",
       "<title>1879629069664+</title>\n",
       "<ellipse fill=\"none\" stroke=\"black\" cx=\"579\" cy=\"-68.5\" rx=\"27\" ry=\"18\"/>\n",
       "<text text-anchor=\"middle\" x=\"579\" y=\"-63.08\" font-family=\"Times New Roman,serif\" font-size=\"14.00\">+</text>\n",
       "</g>\n",
       "<!-- 1879629070048&#45;&gt;1879629069664+ -->\n",
       "<g id=\"edge8\" class=\"edge\">\n",
       "<title>1879629070048&#45;&gt;1879629069664+</title>\n",
       "<path fill=\"none\" stroke=\"black\" d=\"M516.45,-84.63C525.13,-82.35 534.11,-80 542.43,-77.82\"/>\n",
       "<polygon fill=\"black\" stroke=\"black\" points=\"543.04,-81.28 551.82,-75.36 541.26,-74.51 543.04,-81.28\"/>\n",
       "</g>\n",
       "<!-- 1879629070048* -->\n",
       "<g id=\"node2\" class=\"node\">\n",
       "<title>1879629070048*</title>\n",
       "<ellipse fill=\"none\" stroke=\"black\" cx=\"361.25\" cy=\"-96.5\" rx=\"27\" ry=\"18\"/>\n",
       "<text text-anchor=\"middle\" x=\"361.25\" y=\"-91.08\" font-family=\"Times New Roman,serif\" font-size=\"14.00\">*</text>\n",
       "</g>\n",
       "<!-- 1879629070048*&#45;&gt;1879629070048 -->\n",
       "<g id=\"edge1\" class=\"edge\">\n",
       "<title>1879629070048*&#45;&gt;1879629070048</title>\n",
       "<path fill=\"none\" stroke=\"black\" d=\"M388.67,-96.5C395.98,-96.5 404.2,-96.5 412.53,-96.5\"/>\n",
       "<polygon fill=\"black\" stroke=\"black\" points=\"412.36,-100 422.36,-96.5 412.36,-93 412.36,-100\"/>\n",
       "</g>\n",
       "<!-- 1879629057328 -->\n",
       "<g id=\"node3\" class=\"node\">\n",
       "<title>1879629057328</title>\n",
       "<polygon fill=\"orange\" stroke=\"orange\" points=\"2.25,-23.5 2.25,-59.5 82.75,-59.5 82.75,-23.5 2.25,-23.5\"/>\n",
       "<text text-anchor=\"middle\" x=\"42.5\" y=\"-36.2\" font-family=\"Times New Roman,serif\" font-size=\"14.00\">data 2.0000</text>\n",
       "</g>\n",
       "<!-- 1879629063664* -->\n",
       "<g id=\"node11\" class=\"node\">\n",
       "<title>1879629063664*</title>\n",
       "<ellipse fill=\"none\" stroke=\"black\" cx=\"148\" cy=\"-41.5\" rx=\"27\" ry=\"18\"/>\n",
       "<text text-anchor=\"middle\" x=\"148\" y=\"-36.08\" font-family=\"Times New Roman,serif\" font-size=\"14.00\">*</text>\n",
       "</g>\n",
       "<!-- 1879629057328&#45;&gt;1879629063664* -->\n",
       "<g id=\"edge9\" class=\"edge\">\n",
       "<title>1879629057328&#45;&gt;1879629063664*</title>\n",
       "<path fill=\"none\" stroke=\"black\" d=\"M83.22,-41.5C91.74,-41.5 100.73,-41.5 109.18,-41.5\"/>\n",
       "<polygon fill=\"black\" stroke=\"black\" points=\"109.15,-45 119.15,-41.5 109.15,-38 109.15,-45\"/>\n",
       "</g>\n",
       "<!-- 1879629067600 -->\n",
       "<g id=\"node4\" class=\"node\">\n",
       "<title>1879629067600</title>\n",
       "<polygon fill=\"orange\" stroke=\"orange\" points=\"0,-90.5 0,-126.5 85,-126.5 85,-90.5 0,-90.5\"/>\n",
       "<text text-anchor=\"middle\" x=\"42.5\" y=\"-103.2\" font-family=\"Times New Roman,serif\" font-size=\"14.00\">data &#45;3.0000</text>\n",
       "</g>\n",
       "<!-- 1879629067600&#45;&gt;1879629070048* -->\n",
       "<g id=\"edge7\" class=\"edge\">\n",
       "<title>1879629067600&#45;&gt;1879629070048*</title>\n",
       "<path fill=\"none\" stroke=\"black\" d=\"M85.45,-108.03C135.96,-107.3 223.37,-105.55 298.25,-101.5 306.15,-101.07 314.6,-100.48 322.64,-99.85\"/>\n",
       "<polygon fill=\"black\" stroke=\"black\" points=\"322.83,-103.35 332.52,-99.05 322.26,-96.37 322.83,-103.35\"/>\n",
       "</g>\n",
       "<!-- 1879629067600&#45;&gt;1879629063664* -->\n",
       "<g id=\"edge10\" class=\"edge\">\n",
       "<title>1879629067600&#45;&gt;1879629063664*</title>\n",
       "<path fill=\"none\" stroke=\"black\" d=\"M72.06,-90.01C86.54,-80.64 104.09,-69.28 118.56,-59.91\"/>\n",
       "<polygon fill=\"black\" stroke=\"black\" points=\"120.25,-62.99 126.74,-54.61 116.44,-57.11 120.25,-62.99\"/>\n",
       "</g>\n",
       "<!-- 1879629069664 -->\n",
       "<g id=\"node5\" class=\"node\">\n",
       "<title>1879629069664</title>\n",
       "<polygon fill=\"orange\" stroke=\"orange\" points=\"642,-50.5 642,-86.5 733.75,-86.5 733.75,-50.5 642,-50.5\"/>\n",
       "<text text-anchor=\"middle\" x=\"687.88\" y=\"-63.2\" font-family=\"Times New Roman,serif\" font-size=\"14.00\">data &#45;46.0000</text>\n",
       "</g>\n",
       "<!-- 1879629069664+&#45;&gt;1879629069664 -->\n",
       "<g id=\"edge2\" class=\"edge\">\n",
       "<title>1879629069664+&#45;&gt;1879629069664</title>\n",
       "<path fill=\"none\" stroke=\"black\" d=\"M606.42,-68.5C613.73,-68.5 621.95,-68.5 630.28,-68.5\"/>\n",
       "<polygon fill=\"black\" stroke=\"black\" points=\"630.11,-72 640.11,-68.5 630.11,-65 630.11,-72\"/>\n",
       "</g>\n",
       "<!-- 1879629056368 -->\n",
       "<g id=\"node7\" class=\"node\">\n",
       "<title>1879629056368</title>\n",
       "<polygon fill=\"orange\" stroke=\"orange\" points=\"424.25,-23.5 424.25,-59.5 516,-59.5 516,-23.5 424.25,-23.5\"/>\n",
       "<text text-anchor=\"middle\" x=\"470.12\" y=\"-36.2\" font-family=\"Times New Roman,serif\" font-size=\"14.00\">data &#45;16.0000</text>\n",
       "</g>\n",
       "<!-- 1879629056368&#45;&gt;1879629069664+ -->\n",
       "<g id=\"edge11\" class=\"edge\">\n",
       "<title>1879629056368&#45;&gt;1879629069664+</title>\n",
       "<path fill=\"none\" stroke=\"black\" d=\"M516.45,-52.95C525.03,-55.12 533.9,-57.36 542.15,-59.44\"/>\n",
       "<polygon fill=\"black\" stroke=\"black\" points=\"541.27,-62.83 551.82,-61.89 542.98,-56.04 541.27,-62.83\"/>\n",
       "</g>\n",
       "<!-- 1879629056368&#45; -->\n",
       "<g id=\"node8\" class=\"node\">\n",
       "<title>1879629056368&#45;</title>\n",
       "<ellipse fill=\"none\" stroke=\"black\" cx=\"361.25\" cy=\"-41.5\" rx=\"27\" ry=\"18\"/>\n",
       "<text text-anchor=\"middle\" x=\"361.25\" y=\"-36.08\" font-family=\"Times New Roman,serif\" font-size=\"14.00\">&#45;</text>\n",
       "</g>\n",
       "<!-- 1879629056368&#45;&#45;&gt;1879629056368 -->\n",
       "<g id=\"edge3\" class=\"edge\">\n",
       "<title>1879629056368&#45;&#45;&gt;1879629056368</title>\n",
       "<path fill=\"none\" stroke=\"black\" d=\"M388.67,-41.5C395.98,-41.5 404.2,-41.5 412.53,-41.5\"/>\n",
       "<polygon fill=\"black\" stroke=\"black\" points=\"412.36,-45 422.36,-41.5 412.36,-38 412.36,-45\"/>\n",
       "</g>\n",
       "<!-- 1879629063616 -->\n",
       "<g id=\"node9\" class=\"node\">\n",
       "<title>1879629063616</title>\n",
       "<polygon fill=\"orange\" stroke=\"orange\" points=\"211,-55.5 211,-91.5 298.25,-91.5 298.25,-55.5 211,-55.5\"/>\n",
       "<text text-anchor=\"middle\" x=\"254.62\" y=\"-68.2\" font-family=\"Times New Roman,serif\" font-size=\"14.00\">data 10.0000</text>\n",
       "</g>\n",
       "<!-- 1879629063616&#45;&gt;1879629070048* -->\n",
       "<g id=\"edge6\" class=\"edge\">\n",
       "<title>1879629063616&#45;&gt;1879629070048*</title>\n",
       "<path fill=\"none\" stroke=\"black\" d=\"M298.48,-82.92C307,-84.79 315.86,-86.74 324.12,-88.56\"/>\n",
       "<polygon fill=\"black\" stroke=\"black\" points=\"323.31,-91.96 333.83,-90.69 324.81,-85.13 323.31,-91.96\"/>\n",
       "</g>\n",
       "<!-- 1879629063616&#45;&gt;1879629056368&#45; -->\n",
       "<g id=\"edge5\" class=\"edge\">\n",
       "<title>1879629063616&#45;&gt;1879629056368&#45;</title>\n",
       "<path fill=\"none\" stroke=\"black\" d=\"M298.48,-60.39C307.43,-57.66 316.76,-54.8 325.37,-52.17\"/>\n",
       "<polygon fill=\"black\" stroke=\"black\" points=\"326.21,-55.57 334.75,-49.3 324.16,-48.88 326.21,-55.57\"/>\n",
       "</g>\n",
       "<!-- 1879629063664 -->\n",
       "<g id=\"node10\" class=\"node\">\n",
       "<title>1879629063664</title>\n",
       "<polygon fill=\"orange\" stroke=\"orange\" points=\"212.12,-0.5 212.12,-36.5 297.12,-36.5 297.12,-0.5 212.12,-0.5\"/>\n",
       "<text text-anchor=\"middle\" x=\"254.62\" y=\"-13.2\" font-family=\"Times New Roman,serif\" font-size=\"14.00\">data &#45;6.0000</text>\n",
       "</g>\n",
       "<!-- 1879629063664&#45;&gt;1879629056368&#45; -->\n",
       "<g id=\"edge12\" class=\"edge\">\n",
       "<title>1879629063664&#45;&gt;1879629056368&#45;</title>\n",
       "<path fill=\"none\" stroke=\"black\" d=\"M297.58,-27.72C306.33,-29.65 315.49,-31.66 324.02,-33.53\"/>\n",
       "<polygon fill=\"black\" stroke=\"black\" points=\"323.16,-36.93 333.68,-35.66 324.66,-30.09 323.16,-36.93\"/>\n",
       "</g>\n",
       "<!-- 1879629063664*&#45;&gt;1879629063664 -->\n",
       "<g id=\"edge4\" class=\"edge\">\n",
       "<title>1879629063664*&#45;&gt;1879629063664</title>\n",
       "<path fill=\"none\" stroke=\"black\" d=\"M174.06,-35.99C182.23,-34.2 191.63,-32.13 201.04,-30.06\"/>\n",
       "<polygon fill=\"black\" stroke=\"black\" points=\"201.52,-33.54 210.54,-27.97 200.02,-26.7 201.52,-33.54\"/>\n",
       "</g>\n",
       "</g>\n",
       "</svg>\n"
      ],
      "text/plain": [
       "<graphviz.graphs.Digraph at 0x1b5a2a22dd0>"
      ]
     },
     "execution_count": 37,
     "metadata": {},
     "output_type": "execute_result"
    }
   ],
   "source": [
    "draw_dot(complex_eg)"
   ]
  },
  {
   "cell_type": "markdown",
   "id": "f434999c",
   "metadata": {},
   "source": [
    "\n"
   ]
  },
  {
   "cell_type": "markdown",
   "id": "318b437c",
   "metadata": {},
   "source": [
    "# Updating Value Obj\n",
    "## assigning label"
   ]
  },
  {
   "cell_type": "code",
   "execution_count": 38,
   "id": "82b60897",
   "metadata": {},
   "outputs": [],
   "source": [
    "# Value Obj\n",
    "\n",
    "class Value:\n",
    "    \n",
    "    # _children as tuple because of unknown python efficiency\n",
    "    def __init__( self, data, _children=(), _operation='', label='' ):\n",
    "        self.data = data\n",
    "        self._prev = set(_children)\n",
    "        self._op = _operation\n",
    "        self.label = label\n",
    "        \n",
    "    # represents nicer looking expressions    \n",
    "    def __repr__(self):\n",
    "        return f\"Value(data={self.data})\"\n",
    "    \n",
    "    def __add__(self, otherObj):\n",
    "        # return NEW Value Obj \n",
    "        out = Value(self.data + otherObj.data, (self, otherObj), '+' )\n",
    "        return out\n",
    "    \n",
    "    def __mul__(self, otherObj):\n",
    "        out = Value(self.data * otherObj.data, (self, otherObj), '*')\n",
    "        return out\n",
    "    \n",
    "    def __sub__(self, otherObj):\n",
    "        out = Value(self.data - otherObj.data, (self, otherObj), '-')\n",
    "        return out"
   ]
  },
  {
   "cell_type": "code",
   "execution_count": 39,
   "id": "39e14cd4",
   "metadata": {},
   "outputs": [
    {
     "data": {
      "text/plain": [
       "Value(data=-8.0)"
      ]
     },
     "execution_count": 39,
     "metadata": {},
     "output_type": "execute_result"
    }
   ],
   "source": [
    "a = Value(2.0, label='a')\n",
    "b = Value(-3.0, label='b')\n",
    "c = Value(10.0, label='c')\n",
    "\n",
    "# expression\n",
    "e = a*b; e.label='e'\n",
    "d = e + c; d.label='d'\n",
    "f = Value(-2.0, label='f')\n",
    "\n",
    "L = d*f ; L.label='L'\n",
    "L"
   ]
  },
  {
   "cell_type": "markdown",
   "id": "70f0b2d2",
   "metadata": {},
   "source": [
    " "
   ]
  },
  {
   "cell_type": "markdown",
   "id": "8348760c",
   "metadata": {},
   "source": [
    " "
   ]
  },
  {
   "cell_type": "code",
   "execution_count": 40,
   "id": "46744edf",
   "metadata": {},
   "outputs": [],
   "source": [
    "from graphviz import Digraph\n",
    "\n",
    "def trace(root):\n",
    "    # builds a set of all nodes and edges in graph\n",
    "    nodes, edges = set(), set()\n",
    "    def build(v):\n",
    "        if v not in nodes:\n",
    "            nodes.add(v)\n",
    "            for child in v._prev:\n",
    "                edges.add((child, v))\n",
    "                build(child)\n",
    "    build(root)\n",
    "    return nodes, edges\n",
    "\n",
    "def draw_dot(root):\n",
    "    dot = Digraph(format='svg', graph_attr={'rankdir': 'LR'}) # LR = left to right, TB = Top to Bottom\n",
    "\n",
    "    nodes, edges = trace(root)\n",
    "    for n in nodes:\n",
    "        uid = str(id(n))\n",
    "        # for any value in the graph, create a rectangular ('record') node for it\n",
    "        dot.node(name = uid, label = \"{ %s | data %.4f }\" % (n.label, n.data, ), shape='record')\n",
    "        if n._op:\n",
    "            # if this value is result of some operation , create an op node for it\n",
    "            dot.node(name = uid + n._op, label = n._op)\n",
    "            # and connect this node to it\n",
    "            dot.edge(uid + n._op, uid)\n",
    "            \n",
    "    for n1, n2 in edges:\n",
    "        # connect n1 node to op node of n2\n",
    "        dot.edge(str(id(n1)), str(id(n2)) + n2._op)\n",
    "    \n",
    "    return dot"
   ]
  },
  {
   "cell_type": "code",
   "execution_count": 41,
   "id": "f4d66e13",
   "metadata": {},
   "outputs": [
    {
     "data": {
      "image/svg+xml": [
       "<?xml version=\"1.0\" encoding=\"UTF-8\" standalone=\"no\"?>\n",
       "<!DOCTYPE svg PUBLIC \"-//W3C//DTD SVG 1.1//EN\"\n",
       " \"http://www.w3.org/Graphics/SVG/1.1/DTD/svg11.dtd\">\n",
       "<!-- Generated by graphviz version 10.0.1 (20240210.2158)\n",
       " -->\n",
       "<!-- Pages: 1 -->\n",
       "<svg width=\"583pt\" height=\"128pt\"\n",
       " viewBox=\"0.00 0.00 582.50 128.00\" xmlns=\"http://www.w3.org/2000/svg\" xmlns:xlink=\"http://www.w3.org/1999/xlink\">\n",
       "<g id=\"graph0\" class=\"graph\" transform=\"scale(1 1) rotate(0) translate(4 124)\">\n",
       "<polygon fill=\"white\" stroke=\"none\" points=\"-4,4 -4,-124 578.5,-124 578.5,4 -4,4\"/>\n",
       "<!-- 1879629244512 -->\n",
       "<g id=\"node1\" class=\"node\">\n",
       "<title>1879629244512</title>\n",
       "<polygon fill=\"none\" stroke=\"black\" points=\"3,-83.5 3,-119.5 105.5,-119.5 105.5,-83.5 3,-83.5\"/>\n",
       "<text text-anchor=\"middle\" x=\"14\" y=\"-96.2\" font-family=\"Times New Roman,serif\" font-size=\"14.00\">a</text>\n",
       "<polyline fill=\"none\" stroke=\"black\" points=\"25,-83.75 25,-119.5\"/>\n",
       "<text text-anchor=\"middle\" x=\"65.25\" y=\"-96.2\" font-family=\"Times New Roman,serif\" font-size=\"14.00\">data 2.0000</text>\n",
       "</g>\n",
       "<!-- 1879629243120* -->\n",
       "<g id=\"node6\" class=\"node\">\n",
       "<title>1879629243120*</title>\n",
       "<ellipse fill=\"none\" stroke=\"black\" cx=\"171.5\" cy=\"-73.5\" rx=\"27\" ry=\"18\"/>\n",
       "<text text-anchor=\"middle\" x=\"171.5\" y=\"-68.08\" font-family=\"Times New Roman,serif\" font-size=\"14.00\">*</text>\n",
       "</g>\n",
       "<!-- 1879629244512&#45;&gt;1879629243120* -->\n",
       "<g id=\"edge3\" class=\"edge\">\n",
       "<title>1879629244512&#45;&gt;1879629243120*</title>\n",
       "<path fill=\"none\" stroke=\"black\" d=\"M105.8,-89.22C115.5,-86.86 125.46,-84.44 134.58,-82.23\"/>\n",
       "<polygon fill=\"black\" stroke=\"black\" points=\"135.23,-85.67 144.12,-79.91 133.58,-78.87 135.23,-85.67\"/>\n",
       "</g>\n",
       "<!-- 1879629234288 -->\n",
       "<g id=\"node2\" class=\"node\">\n",
       "<title>1879629234288</title>\n",
       "<polygon fill=\"none\" stroke=\"black\" points=\"234.5,-0.5 234.5,-36.5 344.5,-36.5 344.5,-0.5 234.5,-0.5\"/>\n",
       "<text text-anchor=\"middle\" x=\"245.88\" y=\"-13.2\" font-family=\"Times New Roman,serif\" font-size=\"14.00\">c</text>\n",
       "<polyline fill=\"none\" stroke=\"black\" points=\"257.25,-0.75 257.25,-36.5\"/>\n",
       "<text text-anchor=\"middle\" x=\"300.88\" y=\"-13.2\" font-family=\"Times New Roman,serif\" font-size=\"14.00\">data 10.0000</text>\n",
       "</g>\n",
       "<!-- 1879629236352+ -->\n",
       "<g id=\"node4\" class=\"node\">\n",
       "<title>1879629236352+</title>\n",
       "<ellipse fill=\"none\" stroke=\"black\" cx=\"407.5\" cy=\"-45.5\" rx=\"27\" ry=\"18\"/>\n",
       "<text text-anchor=\"middle\" x=\"407.5\" y=\"-40.08\" font-family=\"Times New Roman,serif\" font-size=\"14.00\">+</text>\n",
       "</g>\n",
       "<!-- 1879629234288&#45;&gt;1879629236352+ -->\n",
       "<g id=\"edge5\" class=\"edge\">\n",
       "<title>1879629234288&#45;&gt;1879629236352+</title>\n",
       "<path fill=\"none\" stroke=\"black\" d=\"M344.76,-31.13C353.5,-33.16 362.35,-35.22 370.52,-37.12\"/>\n",
       "<polygon fill=\"black\" stroke=\"black\" points=\"369.52,-40.49 380.05,-39.34 371.1,-33.67 369.52,-40.49\"/>\n",
       "</g>\n",
       "<!-- 1879629236352 -->\n",
       "<g id=\"node3\" class=\"node\">\n",
       "<title>1879629236352</title>\n",
       "<polygon fill=\"none\" stroke=\"black\" points=\"470.5,-27.5 470.5,-63.5 574.5,-63.5 574.5,-27.5 470.5,-27.5\"/>\n",
       "<text text-anchor=\"middle\" x=\"482.25\" y=\"-40.2\" font-family=\"Times New Roman,serif\" font-size=\"14.00\">d</text>\n",
       "<polyline fill=\"none\" stroke=\"black\" points=\"494,-27.75 494,-63.5\"/>\n",
       "<text text-anchor=\"middle\" x=\"534.25\" y=\"-40.2\" font-family=\"Times New Roman,serif\" font-size=\"14.00\">data 4.0000</text>\n",
       "</g>\n",
       "<!-- 1879629236352+&#45;&gt;1879629236352 -->\n",
       "<g id=\"edge1\" class=\"edge\">\n",
       "<title>1879629236352+&#45;&gt;1879629236352</title>\n",
       "<path fill=\"none\" stroke=\"black\" d=\"M434.99,-45.5C442.26,-45.5 450.46,-45.5 458.84,-45.5\"/>\n",
       "<polygon fill=\"black\" stroke=\"black\" points=\"458.8,-49 468.8,-45.5 458.8,-42 458.8,-49\"/>\n",
       "</g>\n",
       "<!-- 1879629243120 -->\n",
       "<g id=\"node5\" class=\"node\">\n",
       "<title>1879629243120</title>\n",
       "<polygon fill=\"none\" stroke=\"black\" points=\"236,-55.5 236,-91.5 343,-91.5 343,-55.5 236,-55.5\"/>\n",
       "<text text-anchor=\"middle\" x=\"247\" y=\"-68.2\" font-family=\"Times New Roman,serif\" font-size=\"14.00\">e</text>\n",
       "<polyline fill=\"none\" stroke=\"black\" points=\"258,-55.75 258,-91.5\"/>\n",
       "<text text-anchor=\"middle\" x=\"300.5\" y=\"-68.2\" font-family=\"Times New Roman,serif\" font-size=\"14.00\">data &#45;6.0000</text>\n",
       "</g>\n",
       "<!-- 1879629243120&#45;&gt;1879629236352+ -->\n",
       "<g id=\"edge6\" class=\"edge\">\n",
       "<title>1879629243120&#45;&gt;1879629236352+</title>\n",
       "<path fill=\"none\" stroke=\"black\" d=\"M343.41,-60.73C352.61,-58.51 361.98,-56.25 370.59,-54.17\"/>\n",
       "<polygon fill=\"black\" stroke=\"black\" points=\"371.4,-57.57 380.3,-51.82 369.76,-50.77 371.4,-57.57\"/>\n",
       "</g>\n",
       "<!-- 1879629243120*&#45;&gt;1879629243120 -->\n",
       "<g id=\"edge2\" class=\"edge\">\n",
       "<title>1879629243120*&#45;&gt;1879629243120</title>\n",
       "<path fill=\"none\" stroke=\"black\" d=\"M198.82,-73.5C206.53,-73.5 215.32,-73.5 224.3,-73.5\"/>\n",
       "<polygon fill=\"black\" stroke=\"black\" points=\"224.21,-77 234.21,-73.5 224.21,-70 224.21,-77\"/>\n",
       "</g>\n",
       "<!-- 1879629248880 -->\n",
       "<g id=\"node7\" class=\"node\">\n",
       "<title>1879629248880</title>\n",
       "<polygon fill=\"none\" stroke=\"black\" points=\"0,-28.5 0,-64.5 108.5,-64.5 108.5,-28.5 0,-28.5\"/>\n",
       "<text text-anchor=\"middle\" x=\"11.75\" y=\"-41.2\" font-family=\"Times New Roman,serif\" font-size=\"14.00\">b</text>\n",
       "<polyline fill=\"none\" stroke=\"black\" points=\"23.5,-28.75 23.5,-64.5\"/>\n",
       "<text text-anchor=\"middle\" x=\"66\" y=\"-41.2\" font-family=\"Times New Roman,serif\" font-size=\"14.00\">data &#45;3.0000</text>\n",
       "</g>\n",
       "<!-- 1879629248880&#45;&gt;1879629243120* -->\n",
       "<g id=\"edge4\" class=\"edge\">\n",
       "<title>1879629248880&#45;&gt;1879629243120*</title>\n",
       "<path fill=\"none\" stroke=\"black\" d=\"M108.83,-59.05C117.54,-61.09 126.37,-63.16 134.53,-65.07\"/>\n",
       "<polygon fill=\"black\" stroke=\"black\" points=\"133.52,-68.43 144.05,-67.3 135.11,-61.61 133.52,-68.43\"/>\n",
       "</g>\n",
       "</g>\n",
       "</svg>\n"
      ],
      "text/plain": [
       "<graphviz.graphs.Digraph at 0x1b5a2a237f0>"
      ]
     },
     "execution_count": 41,
     "metadata": {},
     "output_type": "execute_result"
    }
   ],
   "source": [
    "draw_dot(d)"
   ]
  },
  {
   "cell_type": "code",
   "execution_count": 42,
   "id": "45a41669",
   "metadata": {},
   "outputs": [
    {
     "data": {
      "image/svg+xml": [
       "<?xml version=\"1.0\" encoding=\"UTF-8\" standalone=\"no\"?>\n",
       "<!DOCTYPE svg PUBLIC \"-//W3C//DTD SVG 1.1//EN\"\n",
       " \"http://www.w3.org/Graphics/SVG/1.1/DTD/svg11.dtd\">\n",
       "<!-- Generated by graphviz version 10.0.1 (20240210.2158)\n",
       " -->\n",
       "<!-- Pages: 1 -->\n",
       "<svg width=\"819pt\" height=\"156pt\"\n",
       " viewBox=\"0.00 0.00 819.25 156.00\" xmlns=\"http://www.w3.org/2000/svg\" xmlns:xlink=\"http://www.w3.org/1999/xlink\">\n",
       "<g id=\"graph0\" class=\"graph\" transform=\"scale(1 1) rotate(0) translate(4 152)\">\n",
       "<polygon fill=\"white\" stroke=\"none\" points=\"-4,4 -4,-152 815.25,-152 815.25,4 -4,4\"/>\n",
       "<!-- 1879629244512 -->\n",
       "<g id=\"node1\" class=\"node\">\n",
       "<title>1879629244512</title>\n",
       "<polygon fill=\"none\" stroke=\"black\" points=\"3,-111.5 3,-147.5 105.5,-147.5 105.5,-111.5 3,-111.5\"/>\n",
       "<text text-anchor=\"middle\" x=\"14\" y=\"-124.2\" font-family=\"Times New Roman,serif\" font-size=\"14.00\">a</text>\n",
       "<polyline fill=\"none\" stroke=\"black\" points=\"25,-111.75 25,-147.5\"/>\n",
       "<text text-anchor=\"middle\" x=\"65.25\" y=\"-124.2\" font-family=\"Times New Roman,serif\" font-size=\"14.00\">data 2.0000</text>\n",
       "</g>\n",
       "<!-- 1879629243120* -->\n",
       "<g id=\"node6\" class=\"node\">\n",
       "<title>1879629243120*</title>\n",
       "<ellipse fill=\"none\" stroke=\"black\" cx=\"171.5\" cy=\"-101.5\" rx=\"27\" ry=\"18\"/>\n",
       "<text text-anchor=\"middle\" x=\"171.5\" y=\"-96.08\" font-family=\"Times New Roman,serif\" font-size=\"14.00\">*</text>\n",
       "</g>\n",
       "<!-- 1879629244512&#45;&gt;1879629243120* -->\n",
       "<g id=\"edge9\" class=\"edge\">\n",
       "<title>1879629244512&#45;&gt;1879629243120*</title>\n",
       "<path fill=\"none\" stroke=\"black\" d=\"M105.8,-117.22C115.5,-114.86 125.46,-112.44 134.58,-110.23\"/>\n",
       "<polygon fill=\"black\" stroke=\"black\" points=\"135.23,-113.67 144.12,-107.91 133.58,-106.87 135.23,-113.67\"/>\n",
       "</g>\n",
       "<!-- 1879629234288 -->\n",
       "<g id=\"node2\" class=\"node\">\n",
       "<title>1879629234288</title>\n",
       "<polygon fill=\"none\" stroke=\"black\" points=\"234.5,-28.5 234.5,-64.5 344.5,-64.5 344.5,-28.5 234.5,-28.5\"/>\n",
       "<text text-anchor=\"middle\" x=\"245.88\" y=\"-41.2\" font-family=\"Times New Roman,serif\" font-size=\"14.00\">c</text>\n",
       "<polyline fill=\"none\" stroke=\"black\" points=\"257.25,-28.75 257.25,-64.5\"/>\n",
       "<text text-anchor=\"middle\" x=\"300.88\" y=\"-41.2\" font-family=\"Times New Roman,serif\" font-size=\"14.00\">data 10.0000</text>\n",
       "</g>\n",
       "<!-- 1879629236352+ -->\n",
       "<g id=\"node4\" class=\"node\">\n",
       "<title>1879629236352+</title>\n",
       "<ellipse fill=\"none\" stroke=\"black\" cx=\"407.5\" cy=\"-73.5\" rx=\"27\" ry=\"18\"/>\n",
       "<text text-anchor=\"middle\" x=\"407.5\" y=\"-68.08\" font-family=\"Times New Roman,serif\" font-size=\"14.00\">+</text>\n",
       "</g>\n",
       "<!-- 1879629234288&#45;&gt;1879629236352+ -->\n",
       "<g id=\"edge4\" class=\"edge\">\n",
       "<title>1879629234288&#45;&gt;1879629236352+</title>\n",
       "<path fill=\"none\" stroke=\"black\" d=\"M344.76,-59.13C353.5,-61.16 362.35,-63.22 370.52,-65.12\"/>\n",
       "<polygon fill=\"black\" stroke=\"black\" points=\"369.52,-68.49 380.05,-67.34 371.1,-61.67 369.52,-68.49\"/>\n",
       "</g>\n",
       "<!-- 1879629236352 -->\n",
       "<g id=\"node3\" class=\"node\">\n",
       "<title>1879629236352</title>\n",
       "<polygon fill=\"none\" stroke=\"black\" points=\"471.25,-55.5 471.25,-91.5 575.25,-91.5 575.25,-55.5 471.25,-55.5\"/>\n",
       "<text text-anchor=\"middle\" x=\"483\" y=\"-68.2\" font-family=\"Times New Roman,serif\" font-size=\"14.00\">d</text>\n",
       "<polyline fill=\"none\" stroke=\"black\" points=\"494.75,-55.75 494.75,-91.5\"/>\n",
       "<text text-anchor=\"middle\" x=\"535\" y=\"-68.2\" font-family=\"Times New Roman,serif\" font-size=\"14.00\">data 4.0000</text>\n",
       "</g>\n",
       "<!-- 1879629242208* -->\n",
       "<g id=\"node8\" class=\"node\">\n",
       "<title>1879629242208*</title>\n",
       "<ellipse fill=\"none\" stroke=\"black\" cx=\"639\" cy=\"-45.5\" rx=\"27\" ry=\"18\"/>\n",
       "<text text-anchor=\"middle\" x=\"639\" y=\"-40.08\" font-family=\"Times New Roman,serif\" font-size=\"14.00\">*</text>\n",
       "</g>\n",
       "<!-- 1879629236352&#45;&gt;1879629242208* -->\n",
       "<g id=\"edge7\" class=\"edge\">\n",
       "<title>1879629236352&#45;&gt;1879629242208*</title>\n",
       "<path fill=\"none\" stroke=\"black\" d=\"M575.47,-60.89C584.47,-58.68 593.66,-56.41 602.13,-54.33\"/>\n",
       "<polygon fill=\"black\" stroke=\"black\" points=\"602.8,-57.77 611.67,-51.98 601.13,-50.97 602.8,-57.77\"/>\n",
       "</g>\n",
       "<!-- 1879629236352+&#45;&gt;1879629236352 -->\n",
       "<g id=\"edge1\" class=\"edge\">\n",
       "<title>1879629236352+&#45;&gt;1879629236352</title>\n",
       "<path fill=\"none\" stroke=\"black\" d=\"M434.88,-73.5C442.37,-73.5 450.85,-73.5 459.52,-73.5\"/>\n",
       "<polygon fill=\"black\" stroke=\"black\" points=\"459.44,-77 469.44,-73.5 459.44,-70 459.44,-77\"/>\n",
       "</g>\n",
       "<!-- 1879629243120 -->\n",
       "<g id=\"node5\" class=\"node\">\n",
       "<title>1879629243120</title>\n",
       "<polygon fill=\"none\" stroke=\"black\" points=\"236,-83.5 236,-119.5 343,-119.5 343,-83.5 236,-83.5\"/>\n",
       "<text text-anchor=\"middle\" x=\"247\" y=\"-96.2\" font-family=\"Times New Roman,serif\" font-size=\"14.00\">e</text>\n",
       "<polyline fill=\"none\" stroke=\"black\" points=\"258,-83.75 258,-119.5\"/>\n",
       "<text text-anchor=\"middle\" x=\"300.5\" y=\"-96.2\" font-family=\"Times New Roman,serif\" font-size=\"14.00\">data &#45;6.0000</text>\n",
       "</g>\n",
       "<!-- 1879629243120&#45;&gt;1879629236352+ -->\n",
       "<g id=\"edge5\" class=\"edge\">\n",
       "<title>1879629243120&#45;&gt;1879629236352+</title>\n",
       "<path fill=\"none\" stroke=\"black\" d=\"M343.41,-88.73C352.61,-86.51 361.98,-84.25 370.59,-82.17\"/>\n",
       "<polygon fill=\"black\" stroke=\"black\" points=\"371.4,-85.57 380.3,-79.82 369.76,-78.77 371.4,-85.57\"/>\n",
       "</g>\n",
       "<!-- 1879629243120*&#45;&gt;1879629243120 -->\n",
       "<g id=\"edge2\" class=\"edge\">\n",
       "<title>1879629243120*&#45;&gt;1879629243120</title>\n",
       "<path fill=\"none\" stroke=\"black\" d=\"M198.82,-101.5C206.53,-101.5 215.32,-101.5 224.3,-101.5\"/>\n",
       "<polygon fill=\"black\" stroke=\"black\" points=\"224.21,-105 234.21,-101.5 224.21,-98 224.21,-105\"/>\n",
       "</g>\n",
       "<!-- 1879629242208 -->\n",
       "<g id=\"node7\" class=\"node\">\n",
       "<title>1879629242208</title>\n",
       "<polygon fill=\"none\" stroke=\"black\" points=\"702,-27.5 702,-63.5 811.25,-63.5 811.25,-27.5 702,-27.5\"/>\n",
       "<text text-anchor=\"middle\" x=\"714.12\" y=\"-40.2\" font-family=\"Times New Roman,serif\" font-size=\"14.00\">L</text>\n",
       "<polyline fill=\"none\" stroke=\"black\" points=\"726.25,-27.75 726.25,-63.5\"/>\n",
       "<text text-anchor=\"middle\" x=\"768.75\" y=\"-40.2\" font-family=\"Times New Roman,serif\" font-size=\"14.00\">data &#45;8.0000</text>\n",
       "</g>\n",
       "<!-- 1879629242208*&#45;&gt;1879629242208 -->\n",
       "<g id=\"edge3\" class=\"edge\">\n",
       "<title>1879629242208*&#45;&gt;1879629242208</title>\n",
       "<path fill=\"none\" stroke=\"black\" d=\"M666.24,-45.5C673.56,-45.5 681.85,-45.5 690.36,-45.5\"/>\n",
       "<polygon fill=\"black\" stroke=\"black\" points=\"690.1,-49 700.1,-45.5 690.1,-42 690.1,-49\"/>\n",
       "</g>\n",
       "<!-- 1879629248880 -->\n",
       "<g id=\"node9\" class=\"node\">\n",
       "<title>1879629248880</title>\n",
       "<polygon fill=\"none\" stroke=\"black\" points=\"0,-56.5 0,-92.5 108.5,-92.5 108.5,-56.5 0,-56.5\"/>\n",
       "<text text-anchor=\"middle\" x=\"11.75\" y=\"-69.2\" font-family=\"Times New Roman,serif\" font-size=\"14.00\">b</text>\n",
       "<polyline fill=\"none\" stroke=\"black\" points=\"23.5,-56.75 23.5,-92.5\"/>\n",
       "<text text-anchor=\"middle\" x=\"66\" y=\"-69.2\" font-family=\"Times New Roman,serif\" font-size=\"14.00\">data &#45;3.0000</text>\n",
       "</g>\n",
       "<!-- 1879629248880&#45;&gt;1879629243120* -->\n",
       "<g id=\"edge8\" class=\"edge\">\n",
       "<title>1879629248880&#45;&gt;1879629243120*</title>\n",
       "<path fill=\"none\" stroke=\"black\" d=\"M108.83,-87.05C117.54,-89.09 126.37,-91.16 134.53,-93.07\"/>\n",
       "<polygon fill=\"black\" stroke=\"black\" points=\"133.52,-96.43 144.05,-95.3 135.11,-89.61 133.52,-96.43\"/>\n",
       "</g>\n",
       "<!-- 1879629249504 -->\n",
       "<g id=\"node10\" class=\"node\">\n",
       "<title>1879629249504</title>\n",
       "<polygon fill=\"none\" stroke=\"black\" points=\"470.5,-0.5 470.5,-36.5 576,-36.5 576,-0.5 470.5,-0.5\"/>\n",
       "<text text-anchor=\"middle\" x=\"480.75\" y=\"-13.2\" font-family=\"Times New Roman,serif\" font-size=\"14.00\">f</text>\n",
       "<polyline fill=\"none\" stroke=\"black\" points=\"491,-0.75 491,-36.5\"/>\n",
       "<text text-anchor=\"middle\" x=\"533.5\" y=\"-13.2\" font-family=\"Times New Roman,serif\" font-size=\"14.00\">data &#45;2.0000</text>\n",
       "</g>\n",
       "<!-- 1879629249504&#45;&gt;1879629242208* -->\n",
       "<g id=\"edge6\" class=\"edge\">\n",
       "<title>1879629249504&#45;&gt;1879629242208*</title>\n",
       "<path fill=\"none\" stroke=\"black\" d=\"M576.46,-30.89C585.12,-32.95 593.92,-35.04 602.05,-36.97\"/>\n",
       "<polygon fill=\"black\" stroke=\"black\" points=\"601.02,-40.32 611.55,-39.22 602.63,-33.51 601.02,-40.32\"/>\n",
       "</g>\n",
       "</g>\n",
       "</svg>\n"
      ],
      "text/plain": [
       "<graphviz.graphs.Digraph at 0x1b5a2a23a60>"
      ]
     },
     "execution_count": 42,
     "metadata": {},
     "output_type": "execute_result"
    }
   ],
   "source": [
    "draw_dot(L)"
   ]
  },
  {
   "cell_type": "code",
   "execution_count": 52,
   "id": "f80d74d7",
   "metadata": {},
   "outputs": [
    {
     "name": "stdout",
     "output_type": "stream",
     "text": [
      "digraph {\n",
      "\tgraph [rankdir=LR]\n",
      "\t1879629244944 [label=\"{ b | data -3.0000 | grad 0.0000 }\" shape=record]\n",
      "\t1879629244272 [label=\"{ L | data -8.0000 | grad 0.0000 }\" shape=record]\n",
      "\t\"1879629244272*\" [label=\"*\"]\n",
      "\t\"1879629244272*\" -> 1879629244272\n",
      "\t1879629237456 [label=\"{ a | data 2.0000 | grad 0.0000 }\" shape=record]\n",
      "\t1879629234912 [label=\"{ c | data 10.0000 | grad 0.0000 }\" shape=record]\n",
      "\t1879629236592 [label=\"{ e | data -6.0000 | grad 0.0000 }\" shape=record]\n",
      "\t\"1879629236592*\" [label=\"*\"]\n",
      "\t\"1879629236592*\" -> 1879629236592\n",
      "\t1879629237120 [label=\"{ d | data 4.0000 | grad 0.0000 }\" shape=record]\n",
      "\t\"1879629237120+\" [label=\"+\"]\n",
      "\t\"1879629237120+\" -> 1879629237120\n",
      "\t1879629244848 [label=\"{ f | data -2.0000 | grad 0.0000 }\" shape=record]\n",
      "\t1879629234912 -> \"1879629237120+\"\n",
      "\t1879629244944 -> \"1879629236592*\"\n",
      "\t1879629244848 -> \"1879629244272*\"\n",
      "\t1879629237120 -> \"1879629244272*\"\n",
      "\t1879629236592 -> \"1879629237120+\"\n",
      "\t1879629237456 -> \"1879629236592*\"\n",
      "}\n",
      "\n"
     ]
    }
   ],
   "source": [
    "print(draw_dot(L))"
   ]
  },
  {
   "cell_type": "code",
   "execution_count": null,
   "id": "b3da8f62",
   "metadata": {},
   "outputs": [],
   "source": []
  },
  {
   "cell_type": "markdown",
   "id": "86056c2b",
   "metadata": {},
   "source": [
    " "
   ]
  },
  {
   "cell_type": "code",
   "execution_count": 43,
   "id": "3bcd8e7f",
   "metadata": {},
   "outputs": [],
   "source": [
    "# Value Obj\n",
    "\n",
    "class Value:\n",
    "    \n",
    "    # _children as tuple because of unknown python efficiency\n",
    "    def __init__( self, data, _children=(), _operation='', label='' ):\n",
    "        self.data = data\n",
    "        self.grad = 0.0\n",
    "        self._prev = set(_children)\n",
    "        self._op = _operation\n",
    "        self.label = label\n",
    "        \n",
    "    # represents nicer looking expressions    \n",
    "    def __repr__(self):\n",
    "        return f\"Value(data={self.data})\"\n",
    "    \n",
    "    def __add__(self, otherObj):\n",
    "        # return NEW Value Obj \n",
    "        out = Value(self.data + otherObj.data, (self, otherObj), '+' )\n",
    "        return out\n",
    "    \n",
    "    def __mul__(self, otherObj):\n",
    "        out = Value(self.data * otherObj.data, (self, otherObj), '*')\n",
    "        return out\n",
    "    \n",
    "    def __sub__(self, otherObj):\n",
    "        out = Value(self.data - otherObj.data, (self, otherObj), '-')\n",
    "        return out"
   ]
  },
  {
   "cell_type": "code",
   "execution_count": 44,
   "id": "fb5b5fc6",
   "metadata": {},
   "outputs": [
    {
     "data": {
      "text/plain": [
       "Value(data=-8.0)"
      ]
     },
     "execution_count": 44,
     "metadata": {},
     "output_type": "execute_result"
    }
   ],
   "source": [
    "a = Value(2.0, label='a')\n",
    "b = Value(-3.0, label='b')\n",
    "c = Value(10.0, label='c')\n",
    "\n",
    "# expression\n",
    "e = a*b; e.label='e'\n",
    "d = e + c; d.label='d'\n",
    "f = Value(-2.0, label='f')\n",
    "\n",
    "L = d*f ; L.label='L'\n",
    "L"
   ]
  },
  {
   "cell_type": "code",
   "execution_count": 45,
   "id": "11aabb77",
   "metadata": {},
   "outputs": [],
   "source": [
    "from graphviz import Digraph\n",
    "\n",
    "def trace(root):\n",
    "    # builds a set of all nodes and edges in graph\n",
    "    nodes, edges = set(), set()\n",
    "    def build(v):\n",
    "        if v not in nodes:\n",
    "            nodes.add(v)\n",
    "            for child in v._prev:\n",
    "                edges.add((child, v))\n",
    "                build(child)\n",
    "    build(root)\n",
    "    return nodes, edges\n",
    "\n",
    "def draw_dot(root):\n",
    "    dot = Digraph(format='svg', graph_attr={'rankdir': 'LR'}) # LR = left to right, TB = Top to Bottom\n",
    "\n",
    "    nodes, edges = trace(root)\n",
    "    for n in nodes:\n",
    "        uid = str(id(n))\n",
    "        # for any value in the graph, create a rectangular ('record') node for it\n",
    "        dot.node(name = uid, label = \"{ %s | data %.4f | grad %.4f }\" % (n.label, n.data, n.grad ), shape='record')\n",
    "        if n._op:\n",
    "            # if this value is result of some operation , create an op node for it\n",
    "            dot.node(name = uid + n._op, label = n._op)\n",
    "            # and connect this node to it\n",
    "            dot.edge(uid + n._op, uid)\n",
    "            \n",
    "    for n1, n2 in edges:\n",
    "        # connect n1 node to op node of n2\n",
    "        dot.edge(str(id(n1)), str(id(n2)) + n2._op)\n",
    "    \n",
    "    return dot"
   ]
  },
  {
   "cell_type": "code",
   "execution_count": 46,
   "id": "8bc64024",
   "metadata": {
    "scrolled": true
   },
   "outputs": [
    {
     "data": {
      "image/svg+xml": [
       "<?xml version=\"1.0\" encoding=\"UTF-8\" standalone=\"no\"?>\n",
       "<!DOCTYPE svg PUBLIC \"-//W3C//DTD SVG 1.1//EN\"\n",
       " \"http://www.w3.org/Graphics/SVG/1.1/DTD/svg11.dtd\">\n",
       "<!-- Generated by graphviz version 10.0.1 (20240210.2158)\n",
       " -->\n",
       "<!-- Pages: 1 -->\n",
       "<svg width=\"1147pt\" height=\"156pt\"\n",
       " viewBox=\"0.00 0.00 1147.25 156.00\" xmlns=\"http://www.w3.org/2000/svg\" xmlns:xlink=\"http://www.w3.org/1999/xlink\">\n",
       "<g id=\"graph0\" class=\"graph\" transform=\"scale(1 1) rotate(0) translate(4 152)\">\n",
       "<polygon fill=\"white\" stroke=\"none\" points=\"-4,4 -4,-152 1143.25,-152 1143.25,4 -4,4\"/>\n",
       "<!-- 1879629244944 -->\n",
       "<g id=\"node1\" class=\"node\">\n",
       "<title>1879629244944</title>\n",
       "<polygon fill=\"none\" stroke=\"black\" points=\"0,-111.5 0,-147.5 190.5,-147.5 190.5,-111.5 0,-111.5\"/>\n",
       "<text text-anchor=\"middle\" x=\"11.75\" y=\"-124.2\" font-family=\"Times New Roman,serif\" font-size=\"14.00\">b</text>\n",
       "<polyline fill=\"none\" stroke=\"black\" points=\"23.5,-111.75 23.5,-147.5\"/>\n",
       "<text text-anchor=\"middle\" x=\"66\" y=\"-124.2\" font-family=\"Times New Roman,serif\" font-size=\"14.00\">data &#45;3.0000</text>\n",
       "<polyline fill=\"none\" stroke=\"black\" points=\"108.5,-111.75 108.5,-147.5\"/>\n",
       "<text text-anchor=\"middle\" x=\"149.5\" y=\"-124.2\" font-family=\"Times New Roman,serif\" font-size=\"14.00\">grad 0.0000</text>\n",
       "</g>\n",
       "<!-- 1879629236592* -->\n",
       "<g id=\"node7\" class=\"node\">\n",
       "<title>1879629236592*</title>\n",
       "<ellipse fill=\"none\" stroke=\"black\" cx=\"253.5\" cy=\"-101.5\" rx=\"27\" ry=\"18\"/>\n",
       "<text text-anchor=\"middle\" x=\"253.5\" y=\"-96.08\" font-family=\"Times New Roman,serif\" font-size=\"14.00\">*</text>\n",
       "</g>\n",
       "<!-- 1879629244944&#45;&gt;1879629236592* -->\n",
       "<g id=\"edge5\" class=\"edge\">\n",
       "<title>1879629244944&#45;&gt;1879629236592*</title>\n",
       "<path fill=\"none\" stroke=\"black\" d=\"M190.75,-112.57C199.54,-110.99 208.04,-109.47 215.78,-108.08\"/>\n",
       "<polygon fill=\"black\" stroke=\"black\" points=\"216.16,-111.57 225.39,-106.36 214.93,-104.68 216.16,-111.57\"/>\n",
       "</g>\n",
       "<!-- 1879629244272 -->\n",
       "<g id=\"node2\" class=\"node\">\n",
       "<title>1879629244272</title>\n",
       "<polygon fill=\"none\" stroke=\"black\" points=\"948,-27.5 948,-63.5 1139.25,-63.5 1139.25,-27.5 948,-27.5\"/>\n",
       "<text text-anchor=\"middle\" x=\"960.12\" y=\"-40.2\" font-family=\"Times New Roman,serif\" font-size=\"14.00\">L</text>\n",
       "<polyline fill=\"none\" stroke=\"black\" points=\"972.25,-27.75 972.25,-63.5\"/>\n",
       "<text text-anchor=\"middle\" x=\"1014.75\" y=\"-40.2\" font-family=\"Times New Roman,serif\" font-size=\"14.00\">data &#45;8.0000</text>\n",
       "<polyline fill=\"none\" stroke=\"black\" points=\"1057.25,-27.75 1057.25,-63.5\"/>\n",
       "<text text-anchor=\"middle\" x=\"1098.25\" y=\"-40.2\" font-family=\"Times New Roman,serif\" font-size=\"14.00\">grad 0.0000</text>\n",
       "</g>\n",
       "<!-- 1879629244272* -->\n",
       "<g id=\"node3\" class=\"node\">\n",
       "<title>1879629244272*</title>\n",
       "<ellipse fill=\"none\" stroke=\"black\" cx=\"885\" cy=\"-45.5\" rx=\"27\" ry=\"18\"/>\n",
       "<text text-anchor=\"middle\" x=\"885\" y=\"-40.08\" font-family=\"Times New Roman,serif\" font-size=\"14.00\">*</text>\n",
       "</g>\n",
       "<!-- 1879629244272*&#45;&gt;1879629244272 -->\n",
       "<g id=\"edge1\" class=\"edge\">\n",
       "<title>1879629244272*&#45;&gt;1879629244272</title>\n",
       "<path fill=\"none\" stroke=\"black\" d=\"M912.22,-45.5C919.38,-45.5 927.61,-45.5 936.37,-45.5\"/>\n",
       "<polygon fill=\"black\" stroke=\"black\" points=\"936.21,-49 946.21,-45.5 936.21,-42 936.21,-49\"/>\n",
       "</g>\n",
       "<!-- 1879629237456 -->\n",
       "<g id=\"node4\" class=\"node\">\n",
       "<title>1879629237456</title>\n",
       "<polygon fill=\"none\" stroke=\"black\" points=\"3,-56.5 3,-92.5 187.5,-92.5 187.5,-56.5 3,-56.5\"/>\n",
       "<text text-anchor=\"middle\" x=\"14\" y=\"-69.2\" font-family=\"Times New Roman,serif\" font-size=\"14.00\">a</text>\n",
       "<polyline fill=\"none\" stroke=\"black\" points=\"25,-56.75 25,-92.5\"/>\n",
       "<text text-anchor=\"middle\" x=\"65.25\" y=\"-69.2\" font-family=\"Times New Roman,serif\" font-size=\"14.00\">data 2.0000</text>\n",
       "<polyline fill=\"none\" stroke=\"black\" points=\"105.5,-56.75 105.5,-92.5\"/>\n",
       "<text text-anchor=\"middle\" x=\"146.5\" y=\"-69.2\" font-family=\"Times New Roman,serif\" font-size=\"14.00\">grad 0.0000</text>\n",
       "</g>\n",
       "<!-- 1879629237456&#45;&gt;1879629236592* -->\n",
       "<g id=\"edge9\" class=\"edge\">\n",
       "<title>1879629237456&#45;&gt;1879629236592*</title>\n",
       "<path fill=\"none\" stroke=\"black\" d=\"M187.59,-90.28C197.51,-92 207.14,-93.66 215.8,-95.16\"/>\n",
       "<polygon fill=\"black\" stroke=\"black\" points=\"215.02,-98.58 225.47,-96.83 216.22,-91.68 215.02,-98.58\"/>\n",
       "</g>\n",
       "<!-- 1879629234912 -->\n",
       "<g id=\"node5\" class=\"node\">\n",
       "<title>1879629234912</title>\n",
       "<polygon fill=\"none\" stroke=\"black\" points=\"316.5,-28.5 316.5,-64.5 508.5,-64.5 508.5,-28.5 316.5,-28.5\"/>\n",
       "<text text-anchor=\"middle\" x=\"327.88\" y=\"-41.2\" font-family=\"Times New Roman,serif\" font-size=\"14.00\">c</text>\n",
       "<polyline fill=\"none\" stroke=\"black\" points=\"339.25,-28.75 339.25,-64.5\"/>\n",
       "<text text-anchor=\"middle\" x=\"382.88\" y=\"-41.2\" font-family=\"Times New Roman,serif\" font-size=\"14.00\">data 10.0000</text>\n",
       "<polyline fill=\"none\" stroke=\"black\" points=\"426.5,-28.75 426.5,-64.5\"/>\n",
       "<text text-anchor=\"middle\" x=\"467.5\" y=\"-41.2\" font-family=\"Times New Roman,serif\" font-size=\"14.00\">grad 0.0000</text>\n",
       "</g>\n",
       "<!-- 1879629237120+ -->\n",
       "<g id=\"node9\" class=\"node\">\n",
       "<title>1879629237120+</title>\n",
       "<ellipse fill=\"none\" stroke=\"black\" cx=\"571.5\" cy=\"-73.5\" rx=\"27\" ry=\"18\"/>\n",
       "<text text-anchor=\"middle\" x=\"571.5\" y=\"-68.08\" font-family=\"Times New Roman,serif\" font-size=\"14.00\">+</text>\n",
       "</g>\n",
       "<!-- 1879629234912&#45;&gt;1879629237120+ -->\n",
       "<g id=\"edge4\" class=\"edge\">\n",
       "<title>1879629234912&#45;&gt;1879629237120+</title>\n",
       "<path fill=\"none\" stroke=\"black\" d=\"M508.9,-62.91C517.58,-64.4 525.97,-65.84 533.62,-67.16\"/>\n",
       "<polygon fill=\"black\" stroke=\"black\" points=\"533.03,-70.61 543.47,-68.85 534.21,-63.71 533.03,-70.61\"/>\n",
       "</g>\n",
       "<!-- 1879629236592 -->\n",
       "<g id=\"node6\" class=\"node\">\n",
       "<title>1879629236592</title>\n",
       "<polygon fill=\"none\" stroke=\"black\" points=\"318,-83.5 318,-119.5 507,-119.5 507,-83.5 318,-83.5\"/>\n",
       "<text text-anchor=\"middle\" x=\"329\" y=\"-96.2\" font-family=\"Times New Roman,serif\" font-size=\"14.00\">e</text>\n",
       "<polyline fill=\"none\" stroke=\"black\" points=\"340,-83.75 340,-119.5\"/>\n",
       "<text text-anchor=\"middle\" x=\"382.5\" y=\"-96.2\" font-family=\"Times New Roman,serif\" font-size=\"14.00\">data &#45;6.0000</text>\n",
       "<polyline fill=\"none\" stroke=\"black\" points=\"425,-83.75 425,-119.5\"/>\n",
       "<text text-anchor=\"middle\" x=\"466\" y=\"-96.2\" font-family=\"Times New Roman,serif\" font-size=\"14.00\">grad 0.0000</text>\n",
       "</g>\n",
       "<!-- 1879629236592&#45;&gt;1879629237120+ -->\n",
       "<g id=\"edge8\" class=\"edge\">\n",
       "<title>1879629236592&#45;&gt;1879629237120+</title>\n",
       "<path fill=\"none\" stroke=\"black\" d=\"M507.09,-84.81C516.56,-83.12 525.72,-81.49 533.99,-80.01\"/>\n",
       "<polygon fill=\"black\" stroke=\"black\" points=\"534.32,-83.51 543.55,-78.31 533.09,-76.62 534.32,-83.51\"/>\n",
       "</g>\n",
       "<!-- 1879629236592*&#45;&gt;1879629236592 -->\n",
       "<g id=\"edge2\" class=\"edge\">\n",
       "<title>1879629236592*&#45;&gt;1879629236592</title>\n",
       "<path fill=\"none\" stroke=\"black\" d=\"M280.78,-101.5C288.29,-101.5 296.96,-101.5 306.2,-101.5\"/>\n",
       "<polygon fill=\"black\" stroke=\"black\" points=\"306.2,-105 316.2,-101.5 306.2,-98 306.2,-105\"/>\n",
       "</g>\n",
       "<!-- 1879629237120 -->\n",
       "<g id=\"node8\" class=\"node\">\n",
       "<title>1879629237120</title>\n",
       "<polygon fill=\"none\" stroke=\"black\" points=\"635.25,-55.5 635.25,-91.5 821.25,-91.5 821.25,-55.5 635.25,-55.5\"/>\n",
       "<text text-anchor=\"middle\" x=\"647\" y=\"-68.2\" font-family=\"Times New Roman,serif\" font-size=\"14.00\">d</text>\n",
       "<polyline fill=\"none\" stroke=\"black\" points=\"658.75,-55.75 658.75,-91.5\"/>\n",
       "<text text-anchor=\"middle\" x=\"699\" y=\"-68.2\" font-family=\"Times New Roman,serif\" font-size=\"14.00\">data 4.0000</text>\n",
       "<polyline fill=\"none\" stroke=\"black\" points=\"739.25,-55.75 739.25,-91.5\"/>\n",
       "<text text-anchor=\"middle\" x=\"780.25\" y=\"-68.2\" font-family=\"Times New Roman,serif\" font-size=\"14.00\">grad 0.0000</text>\n",
       "</g>\n",
       "<!-- 1879629237120&#45;&gt;1879629244272* -->\n",
       "<g id=\"edge7\" class=\"edge\">\n",
       "<title>1879629237120&#45;&gt;1879629244272*</title>\n",
       "<path fill=\"none\" stroke=\"black\" d=\"M821.5,-56.81C830.64,-55.16 839.48,-53.56 847.5,-52.1\"/>\n",
       "<polygon fill=\"black\" stroke=\"black\" points=\"847.9,-55.59 857.12,-50.36 846.65,-48.7 847.9,-55.59\"/>\n",
       "</g>\n",
       "<!-- 1879629237120+&#45;&gt;1879629237120 -->\n",
       "<g id=\"edge3\" class=\"edge\">\n",
       "<title>1879629237120+&#45;&gt;1879629237120</title>\n",
       "<path fill=\"none\" stroke=\"black\" d=\"M598.75,-73.5C606.11,-73.5 614.58,-73.5 623.59,-73.5\"/>\n",
       "<polygon fill=\"black\" stroke=\"black\" points=\"623.3,-77 633.3,-73.5 623.3,-70 623.3,-77\"/>\n",
       "</g>\n",
       "<!-- 1879629244848 -->\n",
       "<g id=\"node10\" class=\"node\">\n",
       "<title>1879629244848</title>\n",
       "<polygon fill=\"none\" stroke=\"black\" points=\"634.5,-0.5 634.5,-36.5 822,-36.5 822,-0.5 634.5,-0.5\"/>\n",
       "<text text-anchor=\"middle\" x=\"644.75\" y=\"-13.2\" font-family=\"Times New Roman,serif\" font-size=\"14.00\">f</text>\n",
       "<polyline fill=\"none\" stroke=\"black\" points=\"655,-0.75 655,-36.5\"/>\n",
       "<text text-anchor=\"middle\" x=\"697.5\" y=\"-13.2\" font-family=\"Times New Roman,serif\" font-size=\"14.00\">data &#45;2.0000</text>\n",
       "<polyline fill=\"none\" stroke=\"black\" points=\"740,-0.75 740,-36.5\"/>\n",
       "<text text-anchor=\"middle\" x=\"781\" y=\"-13.2\" font-family=\"Times New Roman,serif\" font-size=\"14.00\">grad 0.0000</text>\n",
       "</g>\n",
       "<!-- 1879629244848&#45;&gt;1879629244272* -->\n",
       "<g id=\"edge6\" class=\"edge\">\n",
       "<title>1879629244848&#45;&gt;1879629244272*</title>\n",
       "<path fill=\"none\" stroke=\"black\" d=\"M822.39,-34.75C831.15,-36.28 839.63,-37.76 847.34,-39.1\"/>\n",
       "<polygon fill=\"black\" stroke=\"black\" points=\"846.47,-42.51 856.93,-40.78 847.68,-35.61 846.47,-42.51\"/>\n",
       "</g>\n",
       "</g>\n",
       "</svg>\n"
      ],
      "text/plain": [
       "<graphviz.graphs.Digraph at 0x1b5a29f61a0>"
      ]
     },
     "execution_count": 46,
     "metadata": {},
     "output_type": "execute_result"
    }
   ],
   "source": [
    "draw_dot(L)\n",
    "# grad represents derivative of o/p w.r.t these values\n",
    "# e.g: grad represents derivative of L w.r.t d as well as f"
   ]
  },
  {
   "cell_type": "code",
   "execution_count": 72,
   "id": "e9f96145",
   "metadata": {},
   "outputs": [
    {
     "name": "stdout",
     "output_type": "stream",
     "text": [
      "-2.000000000000668\n"
     ]
    }
   ],
   "source": [
    "def lol():\n",
    "    \n",
    "    h = 0.001\n",
    "    \n",
    "    a = Value(2.0,label=\"a\")\n",
    "    b = Value(-3.0,label=\"b\")\n",
    "    c = Value(10,label=\"c\")\n",
    "    e = a * b; e.label='e'\n",
    "    d = e + c; d.label='d'\n",
    "    f = Value(-2.0, label='f')\n",
    "    L = d * f; L.label='L'\n",
    "    L1 = L.data\n",
    "    \n",
    "    a = Value(2.0,label=\"a\") \n",
    "    b = Value(-3.0,label=\"b\")\n",
    "    c = Value(10,label=\"c\")\n",
    "    e = a * b; e.label='e'\n",
    "    d = e + c; d.label='d'\n",
    "    d.data += h; # small increment in d\n",
    "    f = Value(-2.0, label='f')\n",
    "    L = d * f; L.label='L'\n",
    "    L2 = L.data\n",
    "    \n",
    "    print((L2 - L1)/h)\n",
    "\n",
    "# derivative of 'L' w.r.t. 'd'\n",
    "lol()"
   ]
  },
  {
   "cell_type": "code",
   "execution_count": 76,
   "id": "c083d96d",
   "metadata": {},
   "outputs": [],
   "source": [
    "# L = d * f\n",
    "# derivative of L w.r.t. d: \n",
    "#     dL/dd = 1 * f\n",
    "#     dL/dd = -2\n",
    "\n",
    "# Also:\n",
    "#     (f(x+h) - f(x))/h\n",
    "#     ((d+h)*f - d*f)/h\n",
    "#     (d*f + h*f - d*f)/h\n",
    "#     (h*f)/h\n",
    "#     f\n",
    "#     -2"
   ]
  },
  {
   "cell_type": "code",
   "execution_count": 74,
   "id": "9f52f658",
   "metadata": {},
   "outputs": [
    {
     "data": {
      "image/svg+xml": [
       "<?xml version=\"1.0\" encoding=\"UTF-8\" standalone=\"no\"?>\n",
       "<!DOCTYPE svg PUBLIC \"-//W3C//DTD SVG 1.1//EN\"\n",
       " \"http://www.w3.org/Graphics/SVG/1.1/DTD/svg11.dtd\">\n",
       "<!-- Generated by graphviz version 10.0.1 (20240210.2158)\n",
       " -->\n",
       "<!-- Pages: 1 -->\n",
       "<svg width=\"1150pt\" height=\"156pt\"\n",
       " viewBox=\"0.00 0.00 1150.25 156.00\" xmlns=\"http://www.w3.org/2000/svg\" xmlns:xlink=\"http://www.w3.org/1999/xlink\">\n",
       "<g id=\"graph0\" class=\"graph\" transform=\"scale(1 1) rotate(0) translate(4 152)\">\n",
       "<polygon fill=\"white\" stroke=\"none\" points=\"-4,4 -4,-152 1146.25,-152 1146.25,4 -4,4\"/>\n",
       "<!-- 1879629244944 -->\n",
       "<g id=\"node1\" class=\"node\">\n",
       "<title>1879629244944</title>\n",
       "<polygon fill=\"none\" stroke=\"black\" points=\"0,-111.5 0,-147.5 190.5,-147.5 190.5,-111.5 0,-111.5\"/>\n",
       "<text text-anchor=\"middle\" x=\"11.75\" y=\"-124.2\" font-family=\"Times New Roman,serif\" font-size=\"14.00\">b</text>\n",
       "<polyline fill=\"none\" stroke=\"black\" points=\"23.5,-111.75 23.5,-147.5\"/>\n",
       "<text text-anchor=\"middle\" x=\"66\" y=\"-124.2\" font-family=\"Times New Roman,serif\" font-size=\"14.00\">data &#45;3.0000</text>\n",
       "<polyline fill=\"none\" stroke=\"black\" points=\"108.5,-111.75 108.5,-147.5\"/>\n",
       "<text text-anchor=\"middle\" x=\"149.5\" y=\"-124.2\" font-family=\"Times New Roman,serif\" font-size=\"14.00\">grad 0.0000</text>\n",
       "</g>\n",
       "<!-- 1879629236592* -->\n",
       "<g id=\"node7\" class=\"node\">\n",
       "<title>1879629236592*</title>\n",
       "<ellipse fill=\"none\" stroke=\"black\" cx=\"253.5\" cy=\"-101.5\" rx=\"27\" ry=\"18\"/>\n",
       "<text text-anchor=\"middle\" x=\"253.5\" y=\"-96.08\" font-family=\"Times New Roman,serif\" font-size=\"14.00\">*</text>\n",
       "</g>\n",
       "<!-- 1879629244944&#45;&gt;1879629236592* -->\n",
       "<g id=\"edge5\" class=\"edge\">\n",
       "<title>1879629244944&#45;&gt;1879629236592*</title>\n",
       "<path fill=\"none\" stroke=\"black\" d=\"M190.75,-112.57C199.54,-110.99 208.04,-109.47 215.78,-108.08\"/>\n",
       "<polygon fill=\"black\" stroke=\"black\" points=\"216.16,-111.57 225.39,-106.36 214.93,-104.68 216.16,-111.57\"/>\n",
       "</g>\n",
       "<!-- 1879629244272 -->\n",
       "<g id=\"node2\" class=\"node\">\n",
       "<title>1879629244272</title>\n",
       "<polygon fill=\"none\" stroke=\"black\" points=\"951,-27.5 951,-63.5 1142.25,-63.5 1142.25,-27.5 951,-27.5\"/>\n",
       "<text text-anchor=\"middle\" x=\"963.12\" y=\"-40.2\" font-family=\"Times New Roman,serif\" font-size=\"14.00\">L</text>\n",
       "<polyline fill=\"none\" stroke=\"black\" points=\"975.25,-27.75 975.25,-63.5\"/>\n",
       "<text text-anchor=\"middle\" x=\"1017.75\" y=\"-40.2\" font-family=\"Times New Roman,serif\" font-size=\"14.00\">data &#45;8.0000</text>\n",
       "<polyline fill=\"none\" stroke=\"black\" points=\"1060.25,-27.75 1060.25,-63.5\"/>\n",
       "<text text-anchor=\"middle\" x=\"1101.25\" y=\"-40.2\" font-family=\"Times New Roman,serif\" font-size=\"14.00\">grad 0.0000</text>\n",
       "</g>\n",
       "<!-- 1879629244272* -->\n",
       "<g id=\"node3\" class=\"node\">\n",
       "<title>1879629244272*</title>\n",
       "<ellipse fill=\"none\" stroke=\"black\" cx=\"888\" cy=\"-45.5\" rx=\"27\" ry=\"18\"/>\n",
       "<text text-anchor=\"middle\" x=\"888\" y=\"-40.08\" font-family=\"Times New Roman,serif\" font-size=\"14.00\">*</text>\n",
       "</g>\n",
       "<!-- 1879629244272*&#45;&gt;1879629244272 -->\n",
       "<g id=\"edge1\" class=\"edge\">\n",
       "<title>1879629244272*&#45;&gt;1879629244272</title>\n",
       "<path fill=\"none\" stroke=\"black\" d=\"M915.22,-45.5C922.38,-45.5 930.61,-45.5 939.37,-45.5\"/>\n",
       "<polygon fill=\"black\" stroke=\"black\" points=\"939.21,-49 949.21,-45.5 939.21,-42 939.21,-49\"/>\n",
       "</g>\n",
       "<!-- 1879629237456 -->\n",
       "<g id=\"node4\" class=\"node\">\n",
       "<title>1879629237456</title>\n",
       "<polygon fill=\"none\" stroke=\"black\" points=\"3,-56.5 3,-92.5 187.5,-92.5 187.5,-56.5 3,-56.5\"/>\n",
       "<text text-anchor=\"middle\" x=\"14\" y=\"-69.2\" font-family=\"Times New Roman,serif\" font-size=\"14.00\">a</text>\n",
       "<polyline fill=\"none\" stroke=\"black\" points=\"25,-56.75 25,-92.5\"/>\n",
       "<text text-anchor=\"middle\" x=\"65.25\" y=\"-69.2\" font-family=\"Times New Roman,serif\" font-size=\"14.00\">data 2.0000</text>\n",
       "<polyline fill=\"none\" stroke=\"black\" points=\"105.5,-56.75 105.5,-92.5\"/>\n",
       "<text text-anchor=\"middle\" x=\"146.5\" y=\"-69.2\" font-family=\"Times New Roman,serif\" font-size=\"14.00\">grad 0.0000</text>\n",
       "</g>\n",
       "<!-- 1879629237456&#45;&gt;1879629236592* -->\n",
       "<g id=\"edge9\" class=\"edge\">\n",
       "<title>1879629237456&#45;&gt;1879629236592*</title>\n",
       "<path fill=\"none\" stroke=\"black\" d=\"M187.59,-90.28C197.51,-92 207.14,-93.66 215.8,-95.16\"/>\n",
       "<polygon fill=\"black\" stroke=\"black\" points=\"215.02,-98.58 225.47,-96.83 216.22,-91.68 215.02,-98.58\"/>\n",
       "</g>\n",
       "<!-- 1879629234912 -->\n",
       "<g id=\"node5\" class=\"node\">\n",
       "<title>1879629234912</title>\n",
       "<polygon fill=\"none\" stroke=\"black\" points=\"316.5,-28.5 316.5,-64.5 508.5,-64.5 508.5,-28.5 316.5,-28.5\"/>\n",
       "<text text-anchor=\"middle\" x=\"327.88\" y=\"-41.2\" font-family=\"Times New Roman,serif\" font-size=\"14.00\">c</text>\n",
       "<polyline fill=\"none\" stroke=\"black\" points=\"339.25,-28.75 339.25,-64.5\"/>\n",
       "<text text-anchor=\"middle\" x=\"382.88\" y=\"-41.2\" font-family=\"Times New Roman,serif\" font-size=\"14.00\">data 10.0000</text>\n",
       "<polyline fill=\"none\" stroke=\"black\" points=\"426.5,-28.75 426.5,-64.5\"/>\n",
       "<text text-anchor=\"middle\" x=\"467.5\" y=\"-41.2\" font-family=\"Times New Roman,serif\" font-size=\"14.00\">grad 0.0000</text>\n",
       "</g>\n",
       "<!-- 1879629237120+ -->\n",
       "<g id=\"node9\" class=\"node\">\n",
       "<title>1879629237120+</title>\n",
       "<ellipse fill=\"none\" stroke=\"black\" cx=\"571.5\" cy=\"-73.5\" rx=\"27\" ry=\"18\"/>\n",
       "<text text-anchor=\"middle\" x=\"571.5\" y=\"-68.08\" font-family=\"Times New Roman,serif\" font-size=\"14.00\">+</text>\n",
       "</g>\n",
       "<!-- 1879629234912&#45;&gt;1879629237120+ -->\n",
       "<g id=\"edge4\" class=\"edge\">\n",
       "<title>1879629234912&#45;&gt;1879629237120+</title>\n",
       "<path fill=\"none\" stroke=\"black\" d=\"M508.9,-62.91C517.58,-64.4 525.97,-65.84 533.62,-67.16\"/>\n",
       "<polygon fill=\"black\" stroke=\"black\" points=\"533.03,-70.61 543.47,-68.85 534.21,-63.71 533.03,-70.61\"/>\n",
       "</g>\n",
       "<!-- 1879629236592 -->\n",
       "<g id=\"node6\" class=\"node\">\n",
       "<title>1879629236592</title>\n",
       "<polygon fill=\"none\" stroke=\"black\" points=\"318,-83.5 318,-119.5 507,-119.5 507,-83.5 318,-83.5\"/>\n",
       "<text text-anchor=\"middle\" x=\"329\" y=\"-96.2\" font-family=\"Times New Roman,serif\" font-size=\"14.00\">e</text>\n",
       "<polyline fill=\"none\" stroke=\"black\" points=\"340,-83.75 340,-119.5\"/>\n",
       "<text text-anchor=\"middle\" x=\"382.5\" y=\"-96.2\" font-family=\"Times New Roman,serif\" font-size=\"14.00\">data &#45;6.0000</text>\n",
       "<polyline fill=\"none\" stroke=\"black\" points=\"425,-83.75 425,-119.5\"/>\n",
       "<text text-anchor=\"middle\" x=\"466\" y=\"-96.2\" font-family=\"Times New Roman,serif\" font-size=\"14.00\">grad 0.0000</text>\n",
       "</g>\n",
       "<!-- 1879629236592&#45;&gt;1879629237120+ -->\n",
       "<g id=\"edge8\" class=\"edge\">\n",
       "<title>1879629236592&#45;&gt;1879629237120+</title>\n",
       "<path fill=\"none\" stroke=\"black\" d=\"M507.09,-84.81C516.56,-83.12 525.72,-81.49 533.99,-80.01\"/>\n",
       "<polygon fill=\"black\" stroke=\"black\" points=\"534.32,-83.51 543.55,-78.31 533.09,-76.62 534.32,-83.51\"/>\n",
       "</g>\n",
       "<!-- 1879629236592*&#45;&gt;1879629236592 -->\n",
       "<g id=\"edge2\" class=\"edge\">\n",
       "<title>1879629236592*&#45;&gt;1879629236592</title>\n",
       "<path fill=\"none\" stroke=\"black\" d=\"M280.78,-101.5C288.29,-101.5 296.96,-101.5 306.2,-101.5\"/>\n",
       "<polygon fill=\"black\" stroke=\"black\" points=\"306.2,-105 316.2,-101.5 306.2,-98 306.2,-105\"/>\n",
       "</g>\n",
       "<!-- 1879629237120 -->\n",
       "<g id=\"node8\" class=\"node\">\n",
       "<title>1879629237120</title>\n",
       "<polygon fill=\"none\" stroke=\"black\" points=\"634.5,-55.5 634.5,-91.5 825,-91.5 825,-55.5 634.5,-55.5\"/>\n",
       "<text text-anchor=\"middle\" x=\"646.25\" y=\"-68.2\" font-family=\"Times New Roman,serif\" font-size=\"14.00\">d</text>\n",
       "<polyline fill=\"none\" stroke=\"black\" points=\"658,-55.75 658,-91.5\"/>\n",
       "<text text-anchor=\"middle\" x=\"698.25\" y=\"-68.2\" font-family=\"Times New Roman,serif\" font-size=\"14.00\">data 4.0000</text>\n",
       "<polyline fill=\"none\" stroke=\"black\" points=\"738.5,-55.75 738.5,-91.5\"/>\n",
       "<text text-anchor=\"middle\" x=\"781.75\" y=\"-68.2\" font-family=\"Times New Roman,serif\" font-size=\"14.00\">grad &#45;2.0000</text>\n",
       "</g>\n",
       "<!-- 1879629237120&#45;&gt;1879629244272* -->\n",
       "<g id=\"edge7\" class=\"edge\">\n",
       "<title>1879629237120&#45;&gt;1879629244272*</title>\n",
       "<path fill=\"none\" stroke=\"black\" d=\"M825.25,-56.57C834.04,-54.99 842.54,-53.47 850.28,-52.08\"/>\n",
       "<polygon fill=\"black\" stroke=\"black\" points=\"850.66,-55.57 859.89,-50.36 849.43,-48.68 850.66,-55.57\"/>\n",
       "</g>\n",
       "<!-- 1879629237120+&#45;&gt;1879629237120 -->\n",
       "<g id=\"edge3\" class=\"edge\">\n",
       "<title>1879629237120+&#45;&gt;1879629237120</title>\n",
       "<path fill=\"none\" stroke=\"black\" d=\"M598.65,-73.5C605.8,-73.5 614.01,-73.5 622.75,-73.5\"/>\n",
       "<polygon fill=\"black\" stroke=\"black\" points=\"622.56,-77 632.56,-73.5 622.56,-70 622.56,-77\"/>\n",
       "</g>\n",
       "<!-- 1879629244848 -->\n",
       "<g id=\"node10\" class=\"node\">\n",
       "<title>1879629244848</title>\n",
       "<polygon fill=\"none\" stroke=\"black\" points=\"636,-0.5 636,-36.5 823.5,-36.5 823.5,-0.5 636,-0.5\"/>\n",
       "<text text-anchor=\"middle\" x=\"646.25\" y=\"-13.2\" font-family=\"Times New Roman,serif\" font-size=\"14.00\">f</text>\n",
       "<polyline fill=\"none\" stroke=\"black\" points=\"656.5,-0.75 656.5,-36.5\"/>\n",
       "<text text-anchor=\"middle\" x=\"699\" y=\"-13.2\" font-family=\"Times New Roman,serif\" font-size=\"14.00\">data &#45;2.0000</text>\n",
       "<polyline fill=\"none\" stroke=\"black\" points=\"741.5,-0.75 741.5,-36.5\"/>\n",
       "<text text-anchor=\"middle\" x=\"782.5\" y=\"-13.2\" font-family=\"Times New Roman,serif\" font-size=\"14.00\">grad 0.0000</text>\n",
       "</g>\n",
       "<!-- 1879629244848&#45;&gt;1879629244272* -->\n",
       "<g id=\"edge6\" class=\"edge\">\n",
       "<title>1879629244848&#45;&gt;1879629244272*</title>\n",
       "<path fill=\"none\" stroke=\"black\" d=\"M823.9,-34.6C833.12,-36.19 842.05,-37.73 850.15,-39.13\"/>\n",
       "<polygon fill=\"black\" stroke=\"black\" points=\"849.42,-42.56 859.87,-40.81 850.61,-35.66 849.42,-42.56\"/>\n",
       "</g>\n",
       "</g>\n",
       "</svg>\n"
      ],
      "text/plain": [
       "<graphviz.graphs.Digraph at 0x1b5a37e9db0>"
      ]
     },
     "execution_count": 74,
     "metadata": {},
     "output_type": "execute_result"
    }
   ],
   "source": [
    "# Therefore\n",
    "d.grad = -2.0\n",
    "draw_dot(L)"
   ]
  },
  {
   "cell_type": "code",
   "execution_count": 75,
   "id": "1d101039",
   "metadata": {},
   "outputs": [
    {
     "name": "stdout",
     "output_type": "stream",
     "text": [
      "-1.9999999999988916\n"
     ]
    }
   ],
   "source": [
    "# Similarly\n",
    "def lol():\n",
    "    \n",
    "    h = 0.001\n",
    "    \n",
    "    a = Value(2.0,label=\"a\")\n",
    "    b = Value(-3.0,label=\"b\")\n",
    "    c = Value(10,label=\"c\")\n",
    "    e = a * b; e.label='e'\n",
    "    d = e + c; d.label='d'\n",
    "    f = Value(-2.0, label='f')\n",
    "    L = d * f; L.label='L'\n",
    "    L1 = L.data\n",
    "    \n",
    "    a = Value(2.0,label=\"a\") \n",
    "    b = Value(-3.0,label=\"b\")\n",
    "    c = Value(10 + h,label=\"c\") # small increment in c\n",
    "    e = a * b; e.label='e'\n",
    "    d = e + c; d.label='d'\n",
    "    f = Value(-2.0, label='f')\n",
    "    L = d * f; L.label='L'\n",
    "    L2 = L.data\n",
    "    \n",
    "    print((L2 - L1)/h)\n",
    "\n",
    "# derivative of 'L' w.r.t. 'c'\n",
    "lol()"
   ]
  },
  {
   "cell_type": "code",
   "execution_count": 77,
   "id": "0ecbdd68",
   "metadata": {},
   "outputs": [],
   "source": [
    "# L = d * f\n",
    "# L = (e+c) * f\n",
    "# (by chain rule...)\n",
    "# derivative of L w.r.t. c: \n",
    "#     dL/dc = (dL/dd) * (dd/dc)\n",
    "#     dL/dc = -2 * (de/dc + dc/dc)\n",
    "#     dL/dc = -2 * (0 + 1)\n",
    "#     dL/dc = -2 \n",
    "\n",
    "# Also:\n",
    "#     (f(x+h) - f(x))/h\n",
    "#     ((e + (c+h))*f - ((e+c)*f))/h\n",
    "#     ((e*f+c*f+h*f) - (e*f + c*f))/h\n",
    "#     (h*f)/h\n",
    "#     f\n",
    "#     -2"
   ]
  },
  {
   "cell_type": "code",
   "execution_count": 78,
   "id": "f52dccb9",
   "metadata": {},
   "outputs": [
    {
     "data": {
      "image/svg+xml": [
       "<?xml version=\"1.0\" encoding=\"UTF-8\" standalone=\"no\"?>\n",
       "<!DOCTYPE svg PUBLIC \"-//W3C//DTD SVG 1.1//EN\"\n",
       " \"http://www.w3.org/Graphics/SVG/1.1/DTD/svg11.dtd\">\n",
       "<!-- Generated by graphviz version 10.0.1 (20240210.2158)\n",
       " -->\n",
       "<!-- Pages: 1 -->\n",
       "<svg width=\"1155pt\" height=\"156pt\"\n",
       " viewBox=\"0.00 0.00 1154.75 156.00\" xmlns=\"http://www.w3.org/2000/svg\" xmlns:xlink=\"http://www.w3.org/1999/xlink\">\n",
       "<g id=\"graph0\" class=\"graph\" transform=\"scale(1 1) rotate(0) translate(4 152)\">\n",
       "<polygon fill=\"white\" stroke=\"none\" points=\"-4,4 -4,-152 1150.75,-152 1150.75,4 -4,4\"/>\n",
       "<!-- 1879629244944 -->\n",
       "<g id=\"node1\" class=\"node\">\n",
       "<title>1879629244944</title>\n",
       "<polygon fill=\"none\" stroke=\"black\" points=\"0,-111.5 0,-147.5 190.5,-147.5 190.5,-111.5 0,-111.5\"/>\n",
       "<text text-anchor=\"middle\" x=\"11.75\" y=\"-124.2\" font-family=\"Times New Roman,serif\" font-size=\"14.00\">b</text>\n",
       "<polyline fill=\"none\" stroke=\"black\" points=\"23.5,-111.75 23.5,-147.5\"/>\n",
       "<text text-anchor=\"middle\" x=\"66\" y=\"-124.2\" font-family=\"Times New Roman,serif\" font-size=\"14.00\">data &#45;3.0000</text>\n",
       "<polyline fill=\"none\" stroke=\"black\" points=\"108.5,-111.75 108.5,-147.5\"/>\n",
       "<text text-anchor=\"middle\" x=\"149.5\" y=\"-124.2\" font-family=\"Times New Roman,serif\" font-size=\"14.00\">grad 0.0000</text>\n",
       "</g>\n",
       "<!-- 1879629236592* -->\n",
       "<g id=\"node7\" class=\"node\">\n",
       "<title>1879629236592*</title>\n",
       "<ellipse fill=\"none\" stroke=\"black\" cx=\"253.5\" cy=\"-101.5\" rx=\"27\" ry=\"18\"/>\n",
       "<text text-anchor=\"middle\" x=\"253.5\" y=\"-96.08\" font-family=\"Times New Roman,serif\" font-size=\"14.00\">*</text>\n",
       "</g>\n",
       "<!-- 1879629244944&#45;&gt;1879629236592* -->\n",
       "<g id=\"edge5\" class=\"edge\">\n",
       "<title>1879629244944&#45;&gt;1879629236592*</title>\n",
       "<path fill=\"none\" stroke=\"black\" d=\"M190.75,-112.57C199.54,-110.99 208.04,-109.47 215.78,-108.08\"/>\n",
       "<polygon fill=\"black\" stroke=\"black\" points=\"216.16,-111.57 225.39,-106.36 214.93,-104.68 216.16,-111.57\"/>\n",
       "</g>\n",
       "<!-- 1879629244272 -->\n",
       "<g id=\"node2\" class=\"node\">\n",
       "<title>1879629244272</title>\n",
       "<polygon fill=\"none\" stroke=\"black\" points=\"955.5,-27.5 955.5,-63.5 1146.75,-63.5 1146.75,-27.5 955.5,-27.5\"/>\n",
       "<text text-anchor=\"middle\" x=\"967.62\" y=\"-40.2\" font-family=\"Times New Roman,serif\" font-size=\"14.00\">L</text>\n",
       "<polyline fill=\"none\" stroke=\"black\" points=\"979.75,-27.75 979.75,-63.5\"/>\n",
       "<text text-anchor=\"middle\" x=\"1022.25\" y=\"-40.2\" font-family=\"Times New Roman,serif\" font-size=\"14.00\">data &#45;8.0000</text>\n",
       "<polyline fill=\"none\" stroke=\"black\" points=\"1064.75,-27.75 1064.75,-63.5\"/>\n",
       "<text text-anchor=\"middle\" x=\"1105.75\" y=\"-40.2\" font-family=\"Times New Roman,serif\" font-size=\"14.00\">grad 0.0000</text>\n",
       "</g>\n",
       "<!-- 1879629244272* -->\n",
       "<g id=\"node3\" class=\"node\">\n",
       "<title>1879629244272*</title>\n",
       "<ellipse fill=\"none\" stroke=\"black\" cx=\"892.5\" cy=\"-45.5\" rx=\"27\" ry=\"18\"/>\n",
       "<text text-anchor=\"middle\" x=\"892.5\" y=\"-40.08\" font-family=\"Times New Roman,serif\" font-size=\"14.00\">*</text>\n",
       "</g>\n",
       "<!-- 1879629244272*&#45;&gt;1879629244272 -->\n",
       "<g id=\"edge1\" class=\"edge\">\n",
       "<title>1879629244272*&#45;&gt;1879629244272</title>\n",
       "<path fill=\"none\" stroke=\"black\" d=\"M919.72,-45.5C926.88,-45.5 935.11,-45.5 943.87,-45.5\"/>\n",
       "<polygon fill=\"black\" stroke=\"black\" points=\"943.71,-49 953.71,-45.5 943.71,-42 943.71,-49\"/>\n",
       "</g>\n",
       "<!-- 1879629237456 -->\n",
       "<g id=\"node4\" class=\"node\">\n",
       "<title>1879629237456</title>\n",
       "<polygon fill=\"none\" stroke=\"black\" points=\"3,-56.5 3,-92.5 187.5,-92.5 187.5,-56.5 3,-56.5\"/>\n",
       "<text text-anchor=\"middle\" x=\"14\" y=\"-69.2\" font-family=\"Times New Roman,serif\" font-size=\"14.00\">a</text>\n",
       "<polyline fill=\"none\" stroke=\"black\" points=\"25,-56.75 25,-92.5\"/>\n",
       "<text text-anchor=\"middle\" x=\"65.25\" y=\"-69.2\" font-family=\"Times New Roman,serif\" font-size=\"14.00\">data 2.0000</text>\n",
       "<polyline fill=\"none\" stroke=\"black\" points=\"105.5,-56.75 105.5,-92.5\"/>\n",
       "<text text-anchor=\"middle\" x=\"146.5\" y=\"-69.2\" font-family=\"Times New Roman,serif\" font-size=\"14.00\">grad 0.0000</text>\n",
       "</g>\n",
       "<!-- 1879629237456&#45;&gt;1879629236592* -->\n",
       "<g id=\"edge9\" class=\"edge\">\n",
       "<title>1879629237456&#45;&gt;1879629236592*</title>\n",
       "<path fill=\"none\" stroke=\"black\" d=\"M187.59,-90.28C197.51,-92 207.14,-93.66 215.8,-95.16\"/>\n",
       "<polygon fill=\"black\" stroke=\"black\" points=\"215.02,-98.58 225.47,-96.83 216.22,-91.68 215.02,-98.58\"/>\n",
       "</g>\n",
       "<!-- 1879629234912 -->\n",
       "<g id=\"node5\" class=\"node\">\n",
       "<title>1879629234912</title>\n",
       "<polygon fill=\"none\" stroke=\"black\" points=\"316.5,-28.5 316.5,-64.5 513,-64.5 513,-28.5 316.5,-28.5\"/>\n",
       "<text text-anchor=\"middle\" x=\"327.88\" y=\"-41.2\" font-family=\"Times New Roman,serif\" font-size=\"14.00\">c</text>\n",
       "<polyline fill=\"none\" stroke=\"black\" points=\"339.25,-28.75 339.25,-64.5\"/>\n",
       "<text text-anchor=\"middle\" x=\"382.88\" y=\"-41.2\" font-family=\"Times New Roman,serif\" font-size=\"14.00\">data 10.0000</text>\n",
       "<polyline fill=\"none\" stroke=\"black\" points=\"426.5,-28.75 426.5,-64.5\"/>\n",
       "<text text-anchor=\"middle\" x=\"469.75\" y=\"-41.2\" font-family=\"Times New Roman,serif\" font-size=\"14.00\">grad &#45;2.0000</text>\n",
       "</g>\n",
       "<!-- 1879629237120+ -->\n",
       "<g id=\"node9\" class=\"node\">\n",
       "<title>1879629237120+</title>\n",
       "<ellipse fill=\"none\" stroke=\"black\" cx=\"576\" cy=\"-73.5\" rx=\"27\" ry=\"18\"/>\n",
       "<text text-anchor=\"middle\" x=\"576\" y=\"-68.08\" font-family=\"Times New Roman,serif\" font-size=\"14.00\">+</text>\n",
       "</g>\n",
       "<!-- 1879629234912&#45;&gt;1879629237120+ -->\n",
       "<g id=\"edge4\" class=\"edge\">\n",
       "<title>1879629234912&#45;&gt;1879629237120+</title>\n",
       "<path fill=\"none\" stroke=\"black\" d=\"M513.43,-63.06C522.13,-64.54 530.53,-65.96 538.18,-67.26\"/>\n",
       "<polygon fill=\"black\" stroke=\"black\" points=\"537.59,-70.71 548.03,-68.93 538.76,-63.81 537.59,-70.71\"/>\n",
       "</g>\n",
       "<!-- 1879629236592 -->\n",
       "<g id=\"node6\" class=\"node\">\n",
       "<title>1879629236592</title>\n",
       "<polygon fill=\"none\" stroke=\"black\" points=\"320.25,-83.5 320.25,-119.5 509.25,-119.5 509.25,-83.5 320.25,-83.5\"/>\n",
       "<text text-anchor=\"middle\" x=\"331.25\" y=\"-96.2\" font-family=\"Times New Roman,serif\" font-size=\"14.00\">e</text>\n",
       "<polyline fill=\"none\" stroke=\"black\" points=\"342.25,-83.75 342.25,-119.5\"/>\n",
       "<text text-anchor=\"middle\" x=\"384.75\" y=\"-96.2\" font-family=\"Times New Roman,serif\" font-size=\"14.00\">data &#45;6.0000</text>\n",
       "<polyline fill=\"none\" stroke=\"black\" points=\"427.25,-83.75 427.25,-119.5\"/>\n",
       "<text text-anchor=\"middle\" x=\"468.25\" y=\"-96.2\" font-family=\"Times New Roman,serif\" font-size=\"14.00\">grad 0.0000</text>\n",
       "</g>\n",
       "<!-- 1879629236592&#45;&gt;1879629237120+ -->\n",
       "<g id=\"edge8\" class=\"edge\">\n",
       "<title>1879629236592&#45;&gt;1879629237120+</title>\n",
       "<path fill=\"none\" stroke=\"black\" d=\"M509.31,-85.05C519.57,-83.25 529.51,-81.5 538.43,-79.93\"/>\n",
       "<polygon fill=\"black\" stroke=\"black\" points=\"538.76,-83.43 548,-78.25 537.55,-76.53 538.76,-83.43\"/>\n",
       "</g>\n",
       "<!-- 1879629236592*&#45;&gt;1879629236592 -->\n",
       "<g id=\"edge2\" class=\"edge\">\n",
       "<title>1879629236592*&#45;&gt;1879629236592</title>\n",
       "<path fill=\"none\" stroke=\"black\" d=\"M280.8,-101.5C288.97,-101.5 298.53,-101.5 308.72,-101.5\"/>\n",
       "<polygon fill=\"black\" stroke=\"black\" points=\"308.46,-105 318.46,-101.5 308.46,-98 308.46,-105\"/>\n",
       "</g>\n",
       "<!-- 1879629237120 -->\n",
       "<g id=\"node8\" class=\"node\">\n",
       "<title>1879629237120</title>\n",
       "<polygon fill=\"none\" stroke=\"black\" points=\"639,-55.5 639,-91.5 829.5,-91.5 829.5,-55.5 639,-55.5\"/>\n",
       "<text text-anchor=\"middle\" x=\"650.75\" y=\"-68.2\" font-family=\"Times New Roman,serif\" font-size=\"14.00\">d</text>\n",
       "<polyline fill=\"none\" stroke=\"black\" points=\"662.5,-55.75 662.5,-91.5\"/>\n",
       "<text text-anchor=\"middle\" x=\"702.75\" y=\"-68.2\" font-family=\"Times New Roman,serif\" font-size=\"14.00\">data 4.0000</text>\n",
       "<polyline fill=\"none\" stroke=\"black\" points=\"743,-55.75 743,-91.5\"/>\n",
       "<text text-anchor=\"middle\" x=\"786.25\" y=\"-68.2\" font-family=\"Times New Roman,serif\" font-size=\"14.00\">grad &#45;2.0000</text>\n",
       "</g>\n",
       "<!-- 1879629237120&#45;&gt;1879629244272* -->\n",
       "<g id=\"edge7\" class=\"edge\">\n",
       "<title>1879629237120&#45;&gt;1879629244272*</title>\n",
       "<path fill=\"none\" stroke=\"black\" d=\"M829.75,-56.57C838.54,-54.99 847.04,-53.47 854.78,-52.08\"/>\n",
       "<polygon fill=\"black\" stroke=\"black\" points=\"855.16,-55.57 864.39,-50.36 853.93,-48.68 855.16,-55.57\"/>\n",
       "</g>\n",
       "<!-- 1879629237120+&#45;&gt;1879629237120 -->\n",
       "<g id=\"edge3\" class=\"edge\">\n",
       "<title>1879629237120+&#45;&gt;1879629237120</title>\n",
       "<path fill=\"none\" stroke=\"black\" d=\"M603.15,-73.5C610.3,-73.5 618.51,-73.5 627.25,-73.5\"/>\n",
       "<polygon fill=\"black\" stroke=\"black\" points=\"627.06,-77 637.06,-73.5 627.06,-70 627.06,-77\"/>\n",
       "</g>\n",
       "<!-- 1879629244848 -->\n",
       "<g id=\"node10\" class=\"node\">\n",
       "<title>1879629244848</title>\n",
       "<polygon fill=\"none\" stroke=\"black\" points=\"640.5,-0.5 640.5,-36.5 828,-36.5 828,-0.5 640.5,-0.5\"/>\n",
       "<text text-anchor=\"middle\" x=\"650.75\" y=\"-13.2\" font-family=\"Times New Roman,serif\" font-size=\"14.00\">f</text>\n",
       "<polyline fill=\"none\" stroke=\"black\" points=\"661,-0.75 661,-36.5\"/>\n",
       "<text text-anchor=\"middle\" x=\"703.5\" y=\"-13.2\" font-family=\"Times New Roman,serif\" font-size=\"14.00\">data &#45;2.0000</text>\n",
       "<polyline fill=\"none\" stroke=\"black\" points=\"746,-0.75 746,-36.5\"/>\n",
       "<text text-anchor=\"middle\" x=\"787\" y=\"-13.2\" font-family=\"Times New Roman,serif\" font-size=\"14.00\">grad 0.0000</text>\n",
       "</g>\n",
       "<!-- 1879629244848&#45;&gt;1879629244272* -->\n",
       "<g id=\"edge6\" class=\"edge\">\n",
       "<title>1879629244848&#45;&gt;1879629244272*</title>\n",
       "<path fill=\"none\" stroke=\"black\" d=\"M828.4,-34.6C837.62,-36.19 846.55,-37.73 854.65,-39.13\"/>\n",
       "<polygon fill=\"black\" stroke=\"black\" points=\"853.92,-42.56 864.37,-40.81 855.11,-35.66 853.92,-42.56\"/>\n",
       "</g>\n",
       "</g>\n",
       "</svg>\n"
      ],
      "text/plain": [
       "<graphviz.graphs.Digraph at 0x1b5a3fa9570>"
      ]
     },
     "execution_count": 78,
     "metadata": {},
     "output_type": "execute_result"
    }
   ],
   "source": [
    "# Therefore\n",
    "c.grad = -2.0\n",
    "draw_dot(L)"
   ]
  },
  {
   "cell_type": "code",
   "execution_count": null,
   "id": "076e9fac",
   "metadata": {},
   "outputs": [],
   "source": []
  }
 ],
 "metadata": {
  "kernelspec": {
   "display_name": "Python 3 (ipykernel)",
   "language": "python",
   "name": "python3"
  },
  "language_info": {
   "codemirror_mode": {
    "name": "ipython",
    "version": 3
   },
   "file_extension": ".py",
   "mimetype": "text/x-python",
   "name": "python",
   "nbconvert_exporter": "python",
   "pygments_lexer": "ipython3",
   "version": "3.10.9"
  }
 },
 "nbformat": 4,
 "nbformat_minor": 5
}
