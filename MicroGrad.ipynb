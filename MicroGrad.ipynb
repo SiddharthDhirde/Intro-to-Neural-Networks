{
 "cells": [
  {
   "cell_type": "markdown",
   "id": "fec59295",
   "metadata": {},
   "source": [
    "# The Intro to Neural Network"
   ]
  },
  {
   "cell_type": "markdown",
   "id": "e4a59a4a",
   "metadata": {},
   "source": [
    "## Data Structure for Neural Network"
   ]
  },
  {
   "cell_type": "code",
   "execution_count": 1,
   "id": "0d59dc1b",
   "metadata": {},
   "outputs": [],
   "source": [
    "# Value Object\n",
    "\n",
    "class Value:\n",
    "    \n",
    "    def __init__(self,data):\n",
    "        self.data = data\n",
    "        \n",
    "    # represent nicer looking expressions    \n",
    "    def __repr__(self):\n",
    "        return f\"Value(data={self.data})\"\n",
    "    \n",
    "    def __add__(self, otherObj):\n",
    "        # return NEW Value Obj \n",
    "        out = Value(self.data + otherObj.data)\n",
    "        return out\n",
    "    \n",
    "    def __mul__(self, otherObj):\n",
    "        out = Value(self.data * otherObj.data)\n",
    "        return out\n",
    "    \n",
    "    def __sub__(self, otherObj):\n",
    "        out = Value(self.data - otherObj.data)\n",
    "        return out"
   ]
  },
  {
   "cell_type": "markdown",
   "id": "c58ba5fa",
   "metadata": {},
   "source": [
    "\n",
    "\n",
    "\n"
   ]
  },
  {
   "cell_type": "code",
   "execution_count": 2,
   "id": "b55010c9",
   "metadata": {},
   "outputs": [
    {
     "name": "stdout",
     "output_type": "stream",
     "text": [
      "Value(data=2.0) Value(data=-3.0)\n"
     ]
    }
   ],
   "source": [
    "a = Value(2.0)\n",
    "b = Value(-3.0)\n",
    "c = Value(10.0)\n",
    "print(a,b)"
   ]
  },
  {
   "cell_type": "code",
   "execution_count": 3,
   "id": "9c9aa016",
   "metadata": {},
   "outputs": [
    {
     "name": "stdout",
     "output_type": "stream",
     "text": [
      "Value(data=-1.0)\n"
     ]
    }
   ],
   "source": [
    "print(a + b) \n",
    "# internally python will call\n",
    "# a.__add__(b)"
   ]
  },
  {
   "cell_type": "code",
   "execution_count": 4,
   "id": "300b03af",
   "metadata": {},
   "outputs": [
    {
     "name": "stdout",
     "output_type": "stream",
     "text": [
      "Value(data=-1.0)\n"
     ]
    }
   ],
   "source": [
    "newObj = a + b\n",
    "print(newObj)"
   ]
  },
  {
   "cell_type": "code",
   "execution_count": 5,
   "id": "2149328a",
   "metadata": {},
   "outputs": [
    {
     "name": "stdout",
     "output_type": "stream",
     "text": [
      "Value(data=-6.0)\n"
     ]
    }
   ],
   "source": [
    "print(a * b)"
   ]
  },
  {
   "cell_type": "code",
   "execution_count": 6,
   "id": "ef0efadd",
   "metadata": {},
   "outputs": [
    {
     "name": "stdout",
     "output_type": "stream",
     "text": [
      "Value(data=5.0)\n"
     ]
    }
   ],
   "source": [
    "print(a - b)"
   ]
  },
  {
   "cell_type": "markdown",
   "id": "26a99e24",
   "metadata": {},
   "source": [
    "\n",
    "\n",
    "\n"
   ]
  },
  {
   "cell_type": "markdown",
   "id": "88bf72a5",
   "metadata": {},
   "source": [
    "\n",
    "\n",
    "\n"
   ]
  },
  {
   "cell_type": "markdown",
   "id": "be3cf3ae",
   "metadata": {},
   "source": [
    "\n",
    "\n",
    "\n"
   ]
  },
  {
   "cell_type": "code",
   "execution_count": 7,
   "id": "393809e6",
   "metadata": {},
   "outputs": [
    {
     "name": "stdout",
     "output_type": "stream",
     "text": [
      "Value(data=4.0)\n"
     ]
    }
   ],
   "source": [
    "print(a*b + c)"
   ]
  },
  {
   "cell_type": "code",
   "execution_count": 8,
   "id": "6ac945d2",
   "metadata": {
    "scrolled": true
   },
   "outputs": [
    {
     "name": "stdout",
     "output_type": "stream",
     "text": [
      "Value(data=4.0)\n"
     ]
    }
   ],
   "source": [
    "# internally\n",
    "print((a.__mul__(b)).__add__(c))"
   ]
  },
  {
   "cell_type": "markdown",
   "id": "499610a8",
   "metadata": {},
   "source": [
    "\n",
    "\n",
    "\n"
   ]
  },
  {
   "cell_type": "code",
   "execution_count": 9,
   "id": "4ec15926",
   "metadata": {},
   "outputs": [],
   "source": [
    "a = Value(2.0)\n",
    "b = Value(-3.0)\n",
    "c = Value(10.0)\n",
    "\n",
    "# expression\n",
    "d = a*b + c"
   ]
  },
  {
   "cell_type": "code",
   "execution_count": 10,
   "id": "2a2d24c3",
   "metadata": {},
   "outputs": [
    {
     "name": "stdout",
     "output_type": "stream",
     "text": [
      "Value(data=4.0)\n"
     ]
    }
   ],
   "source": [
    "print(d)"
   ]
  },
  {
   "cell_type": "markdown",
   "id": "2fa51d34",
   "metadata": {},
   "source": [
    "\n",
    "\n",
    "\n"
   ]
  },
  {
   "cell_type": "markdown",
   "id": "0feefd8c",
   "metadata": {},
   "source": [
    "\n",
    "\n",
    "\n"
   ]
  },
  {
   "cell_type": "markdown",
   "id": "18ce52f4",
   "metadata": {},
   "source": [
    "\n",
    "\n",
    "\n"
   ]
  },
  {
   "cell_type": "markdown",
   "id": "1d09b299",
   "metadata": {},
   "source": [
    "\n",
    "\n",
    "\n"
   ]
  },
  {
   "cell_type": "markdown",
   "id": "9307cbc3",
   "metadata": {},
   "source": [
    "\n",
    "\n",
    "\n"
   ]
  },
  {
   "cell_type": "markdown",
   "id": "8c8ab284",
   "metadata": {},
   "source": [
    "\n",
    "\n",
    "\n"
   ]
  },
  {
   "cell_type": "markdown",
   "id": "224e4058",
   "metadata": {},
   "source": [
    "\n",
    "\n",
    "\n"
   ]
  },
  {
   "cell_type": "markdown",
   "id": "74413de9",
   "metadata": {},
   "source": [
    "\n",
    "\n",
    "\n"
   ]
  },
  {
   "cell_type": "markdown",
   "id": "7119d25c",
   "metadata": {},
   "source": [
    "\n",
    "\n",
    "\n"
   ]
  },
  {
   "cell_type": "markdown",
   "id": "e21e97e6",
   "metadata": {},
   "source": [
    "\n",
    "\n",
    "\n"
   ]
  },
  {
   "cell_type": "markdown",
   "id": "373ee2fb",
   "metadata": {},
   "source": [
    "# Updating Value Obj"
   ]
  },
  {
   "cell_type": "markdown",
   "id": "82572d4f",
   "metadata": {},
   "source": [
    "### let's see connected tissue of expressions\n",
    "### i.e what value produce what another value"
   ]
  },
  {
   "cell_type": "code",
   "execution_count": 11,
   "id": "d0797a90",
   "metadata": {},
   "outputs": [],
   "source": [
    "# Value Obj\n",
    "\n",
    "class Value:\n",
    "    \n",
    "    def __init__( self, data, _children=(), _op='' ):\n",
    "        self.data = data\n",
    "        self._prev = set(_children)\n",
    "        self._op = _op # operation\n",
    "        \n",
    "    # represents nicer looking expressions    \n",
    "    def __repr__(self):\n",
    "        return f\"Value(data={self.data})\"\n",
    "    \n",
    "    def __add__(self, otherObj):\n",
    "        out = Value(self.data + otherObj.data, (self, otherObj), '+' )\n",
    "        return out\n",
    "    \n",
    "    def __mul__(self, otherObj):\n",
    "        out = Value(self.data * otherObj.data, (self, otherObj), '*')\n",
    "        return out\n",
    "    \n",
    "    def __sub__(self, otherObj):\n",
    "        out = Value(self.data - otherObj.data, (self, otherObj), '-')\n",
    "        return out"
   ]
  },
  {
   "cell_type": "code",
   "execution_count": 15,
   "id": "8b4dbf7d",
   "metadata": {},
   "outputs": [
    {
     "name": "stdout",
     "output_type": "stream",
     "text": [
      "Value(data=4.0)\n"
     ]
    }
   ],
   "source": [
    "a = Value(2.0)\n",
    "b = Value(-3.0)\n",
    "c = Value(10.0)\n",
    "\n",
    "# expression\n",
    "d = a*b + c\n",
    "print(d)"
   ]
  },
  {
   "cell_type": "code",
   "execution_count": 14,
   "id": "5b514056",
   "metadata": {},
   "outputs": [
    {
     "name": "stdout",
     "output_type": "stream",
     "text": [
      "{Value(data=-6.0), Value(data=10.0)}\n"
     ]
    }
   ],
   "source": [
    "print(d._prev)\n",
    "\n",
    "# a*b = -6,0\n",
    "# c = 10.0"
   ]
  },
  {
   "cell_type": "code",
   "execution_count": 17,
   "id": "3a2fb276",
   "metadata": {
    "scrolled": true
   },
   "outputs": [
    {
     "name": "stdout",
     "output_type": "stream",
     "text": [
      "+\n"
     ]
    }
   ],
   "source": [
    "print(d._op)"
   ]
  },
  {
   "cell_type": "code",
   "execution_count": 21,
   "id": "3711d771",
   "metadata": {
    "scrolled": false
   },
   "outputs": [
    {
     "name": "stdout",
     "output_type": "stream",
     "text": [
      "set()\n"
     ]
    }
   ],
   "source": [
    "print(a._prev)\n",
    "# empty set --> 'cause its not produce from previous expression"
   ]
  },
  {
   "cell_type": "code",
   "execution_count": 18,
   "id": "07dae2a9",
   "metadata": {},
   "outputs": [
    {
     "name": "stdout",
     "output_type": "stream",
     "text": [
      "Value(data=-6.0)\n",
      "*\n",
      "{Value(data=2.0), Value(data=-3.0)}\n"
     ]
    }
   ],
   "source": [
    "z = a*b\n",
    "print(z)\n",
    "print(z._op)\n",
    "print(z._prev)"
   ]
  },
  {
   "cell_type": "markdown",
   "id": "94465f89",
   "metadata": {},
   "source": [
    " "
   ]
  },
  {
   "cell_type": "markdown",
   "id": "87e542ae",
   "metadata": {},
   "source": [
    " "
   ]
  },
  {
   "cell_type": "markdown",
   "id": "7bf630bd",
   "metadata": {},
   "source": [
    " "
   ]
  },
  {
   "cell_type": "markdown",
   "id": "0f5b1ded",
   "metadata": {},
   "source": [
    " "
   ]
  },
  {
   "cell_type": "markdown",
   "id": "9857a711",
   "metadata": {},
   "source": [
    " "
   ]
  },
  {
   "cell_type": "markdown",
   "id": "35f15708",
   "metadata": {},
   "source": [
    " "
   ]
  },
  {
   "cell_type": "markdown",
   "id": "6d4010c1",
   "metadata": {},
   "source": [
    " "
   ]
  },
  {
   "cell_type": "markdown",
   "id": "e401b928",
   "metadata": {},
   "source": [
    " "
   ]
  },
  {
   "cell_type": "markdown",
   "id": "e98a2c55",
   "metadata": {},
   "source": [
    " "
   ]
  },
  {
   "cell_type": "markdown",
   "id": "48e9ce99",
   "metadata": {},
   "source": [
    " "
   ]
  },
  {
   "cell_type": "markdown",
   "id": "8748563b",
   "metadata": {},
   "source": [
    " "
   ]
  },
  {
   "cell_type": "markdown",
   "id": "88944481",
   "metadata": {},
   "source": [
    " "
   ]
  },
  {
   "cell_type": "markdown",
   "id": "1e22c792",
   "metadata": {},
   "source": [
    " "
   ]
  },
  {
   "cell_type": "markdown",
   "id": "827332e6",
   "metadata": {},
   "source": [
    " "
   ]
  },
  {
   "cell_type": "markdown",
   "id": "d38520ed",
   "metadata": {},
   "source": [
    " "
   ]
  },
  {
   "cell_type": "markdown",
   "id": "7c008950",
   "metadata": {},
   "source": [
    " "
   ]
  },
  {
   "cell_type": "markdown",
   "id": "5877671a",
   "metadata": {},
   "source": [
    " "
   ]
  },
  {
   "cell_type": "code",
   "execution_count": null,
   "id": "c439589b",
   "metadata": {},
   "outputs": [],
   "source": [
    "from graphviz import Digraph"
   ]
  },
  {
   "cell_type": "code",
   "execution_count": null,
   "id": "90f4590d",
   "metadata": {},
   "outputs": [],
   "source": [
    "def trace(root):\n",
    "    # builds a set of all nodes and edges in graph\n",
    "    nodes, edges = set(), set()\n",
    "    print(\"nodes: \", nodes)\n",
    "    print(\"edges: \", edges)\n",
    "    def build(value):\n",
    "        print(\"value: \", value)\n",
    "        if value not in nodes:\n",
    "            nodes.add(value)\n",
    "            print(\"nodes: \", nodes)\n",
    "            \n",
    "            for child in value._prev:\n",
    "                print(\"value._prev: \", value._prev)\n",
    "                print(\"child: \", child)\n",
    "                edges.add((child, value))\n",
    "                print(\"edges: \", edges)\n",
    "                build(child)\n",
    "                \n",
    "    build(root)\n",
    "    print(\"final nodes: \", nodes)\n",
    "    print(\"final edges: \", edges)\n",
    "    return nodes, edges"
   ]
  },
  {
   "cell_type": "code",
   "execution_count": null,
   "id": "3ab092e8",
   "metadata": {},
   "outputs": [],
   "source": [
    "complex_eg = a*b - c + b*c \n",
    "complex_eg"
   ]
  },
  {
   "cell_type": "code",
   "execution_count": null,
   "id": "ec032647",
   "metadata": {
    "scrolled": false
   },
   "outputs": [],
   "source": [
    "trace(complex_eg)"
   ]
  },
  {
   "cell_type": "code",
   "execution_count": null,
   "id": "4938b467",
   "metadata": {},
   "outputs": [],
   "source": [
    "trace(d)"
   ]
  },
  {
   "cell_type": "code",
   "execution_count": null,
   "id": "6ebfaa92",
   "metadata": {},
   "outputs": [],
   "source": [
    "trace(z)"
   ]
  },
  {
   "cell_type": "code",
   "execution_count": null,
   "id": "f7bbf314",
   "metadata": {},
   "outputs": [],
   "source": [
    "trace(a)"
   ]
  },
  {
   "cell_type": "code",
   "execution_count": null,
   "id": "a641528b",
   "metadata": {
    "scrolled": true
   },
   "outputs": [],
   "source": [
    "a"
   ]
  },
  {
   "cell_type": "code",
   "execution_count": null,
   "id": "c007db7d",
   "metadata": {},
   "outputs": [],
   "source": [
    "\n",
    "\n",
    "\n",
    "\n",
    "\n",
    "\n",
    "\n",
    "\n"
   ]
  },
  {
   "cell_type": "markdown",
   "id": "64f158a4",
   "metadata": {},
   "source": [
    "## Recursion is the process of defining a problem (or the solution to a problem) in terms of (a simpler version of) itself"
   ]
  },
  {
   "cell_type": "code",
   "execution_count": null,
   "id": "6dc00910",
   "metadata": {},
   "outputs": [],
   "source": [
    "# recursion\n",
    "def add(n):\n",
    "    print(n)    \n",
    "    if n < 100:\n",
    "        n += n\n",
    "        if n < 100:\n",
    "            add(n)"
   ]
  },
  {
   "cell_type": "code",
   "execution_count": null,
   "id": "c5c1a094",
   "metadata": {},
   "outputs": [],
   "source": [
    "add(2)"
   ]
  },
  {
   "cell_type": "code",
   "execution_count": null,
   "id": "db570503",
   "metadata": {},
   "outputs": [],
   "source": [
    "def lol(n):\n",
    "    while(n<100):\n",
    "        print(n)        \n",
    "        n += n"
   ]
  },
  {
   "cell_type": "code",
   "execution_count": null,
   "id": "fef937e8",
   "metadata": {},
   "outputs": [],
   "source": [
    "lol(2)"
   ]
  },
  {
   "cell_type": "code",
   "execution_count": null,
   "id": "1546bb57",
   "metadata": {},
   "outputs": [],
   "source": [
    "\n",
    "\n",
    "\n",
    "\n",
    "\n",
    "\n"
   ]
  },
  {
   "cell_type": "code",
   "execution_count": null,
   "id": "9d51c00f",
   "metadata": {
    "scrolled": true
   },
   "outputs": [],
   "source": [
    "print(type(id(a)))\n",
    "\n",
    "print(id(a))\n",
    "print(id(b))\n",
    "print(id(c))\n",
    "print(id(d))\n",
    "\n",
    "print(id(z))\n",
    "print(str(id(z)))\n",
    "\n",
    "print(type(id(z)))\n",
    "print(type(str(id(z))))"
   ]
  },
  {
   "cell_type": "code",
   "execution_count": null,
   "id": "88215ceb",
   "metadata": {},
   "outputs": [],
   "source": [
    "\n",
    "\n",
    "\n",
    "\n",
    "\n",
    "\n"
   ]
  },
  {
   "cell_type": "code",
   "execution_count": null,
   "id": "bdec0928",
   "metadata": {},
   "outputs": [],
   "source": [
    "# Value Obj\n",
    "\n",
    "class Value:\n",
    "    \n",
    "    # _children as tuple because of unknown python efficiency\n",
    "    def __init__( self, data, _children=(), _operation='' ):\n",
    "        self.data = data\n",
    "        self._prev = set(_children)\n",
    "        self._op = _operation\n",
    "        \n",
    "    # represents nicer looking expressions    \n",
    "    def __repr__(self):\n",
    "        return f\"Value(data={self.data})\"\n",
    "    \n",
    "    def __add__(self, otherObj):\n",
    "        # return NEW Value Obj \n",
    "        out = Value(self.data + otherObj.data, (self, otherObj), '+' )\n",
    "        return out\n",
    "    \n",
    "    def __mul__(self, otherObj):\n",
    "        out = Value(self.data * otherObj.data, (self, otherObj), '*')\n",
    "        return out\n",
    "    \n",
    "    def __sub__(self, otherObj):\n",
    "        out = Value(self.data - otherObj.data, (self, otherObj), '-')\n",
    "        return out"
   ]
  },
  {
   "cell_type": "code",
   "execution_count": null,
   "id": "4be74ef5",
   "metadata": {},
   "outputs": [],
   "source": [
    "from graphviz import Digraph\n",
    "\n",
    "def trace(root):\n",
    "    # builds a set of all nodes and edges in graph\n",
    "    nodes, edges = set(), set()\n",
    "    def build(v):\n",
    "        if v not in nodes:\n",
    "            nodes.add(v)\n",
    "            for child in v._prev:\n",
    "                edges.add((child, v))\n",
    "                build(child)\n",
    "    build(root)\n",
    "    return nodes, edges\n",
    "\n",
    "def draw_dot(root):\n",
    "    dot = Digraph(format='svg', graph_attr={'rankdir': 'LR'}) # LR = left to right\n",
    "\n",
    "    nodes, edges = trace(root)\n",
    "    for n in nodes:\n",
    "        uid = str(id(n))\n",
    "        # for any value in the graph, create a rectangular ('record') node for it\n",
    "        dot.node(name = uid, label = \"{ data %.4f }\" % (n.data, ), shape='record', color='orange', style=\"filled\")\n",
    "        if n._op:\n",
    "            # if this value is result of some operation , create an op node for it\n",
    "            dot.node(name = uid + n._op, label = n._op)\n",
    "            # and connect this node to it\n",
    "            dot.edge(uid + n._op, uid)\n",
    "            \n",
    "    for n1, n2 in edges:\n",
    "        # connect n1 node to op node of n2\n",
    "        dot.edge(str(id(n1)), str(id(n2)) + n2._op)\n",
    "    \n",
    "    return dot"
   ]
  },
  {
   "cell_type": "code",
   "execution_count": null,
   "id": "0b37bc22",
   "metadata": {},
   "outputs": [],
   "source": [
    "a = Value(2.0)\n",
    "b = Value(-3.0)\n",
    "c = Value(10.0)\n",
    "\n",
    "# expression\n",
    "d = a*b + c"
   ]
  },
  {
   "cell_type": "code",
   "execution_count": null,
   "id": "8d7509cc",
   "metadata": {},
   "outputs": [],
   "source": [
    "draw_dot(d)"
   ]
  },
  {
   "cell_type": "code",
   "execution_count": null,
   "id": "529aca72",
   "metadata": {},
   "outputs": [],
   "source": [
    "draw_dot(a)"
   ]
  },
  {
   "cell_type": "code",
   "execution_count": null,
   "id": "ea95ed71",
   "metadata": {},
   "outputs": [],
   "source": [
    "draw_dot(z)"
   ]
  },
  {
   "cell_type": "code",
   "execution_count": null,
   "id": "355dfd17",
   "metadata": {},
   "outputs": [],
   "source": [
    "draw_dot(complex_eg)"
   ]
  },
  {
   "cell_type": "code",
   "execution_count": null,
   "id": "4e5ae29c",
   "metadata": {},
   "outputs": [],
   "source": [
    "\n"
   ]
  },
  {
   "cell_type": "markdown",
   "id": "318b437c",
   "metadata": {},
   "source": [
    "# Updating Value Obj\n",
    "## assigning label"
   ]
  },
  {
   "cell_type": "code",
   "execution_count": null,
   "id": "82b60897",
   "metadata": {},
   "outputs": [],
   "source": [
    "# Value Obj\n",
    "\n",
    "class Value:\n",
    "    \n",
    "    # _children as tuple because of unknown python efficiency\n",
    "    def __init__( self, data, _children=(), _operation='', label='' ):\n",
    "        self.data = data\n",
    "        self._prev = set(_children)\n",
    "        self._op = _operation\n",
    "        self.label = label\n",
    "        \n",
    "    # represents nicer looking expressions    \n",
    "    def __repr__(self):\n",
    "        return f\"Value(data={self.data})\"\n",
    "    \n",
    "    def __add__(self, otherObj):\n",
    "        # return NEW Value Obj \n",
    "        out = Value(self.data + otherObj.data, (self, otherObj), '+' )\n",
    "        return out\n",
    "    \n",
    "    def __mul__(self, otherObj):\n",
    "        out = Value(self.data * otherObj.data, (self, otherObj), '*')\n",
    "        return out\n",
    "    \n",
    "    def __sub__(self, otherObj):\n",
    "        out = Value(self.data - otherObj.data, (self, otherObj), '-')\n",
    "        return out"
   ]
  },
  {
   "cell_type": "code",
   "execution_count": null,
   "id": "39e14cd4",
   "metadata": {},
   "outputs": [],
   "source": [
    "a = Value(2.0, label='a')\n",
    "b = Value(-3.0, label='b')\n",
    "c = Value(10.0, label='c')\n",
    "\n",
    "# expression\n",
    "e = a*b; e.label='e'\n",
    "d = e + c; d.label='d'\n",
    "f = Value(-2.0, label='f')\n",
    "\n",
    "L = d*f ; L.label='L'\n",
    "L"
   ]
  },
  {
   "cell_type": "code",
   "execution_count": null,
   "id": "15380293",
   "metadata": {},
   "outputs": [],
   "source": []
  },
  {
   "cell_type": "code",
   "execution_count": null,
   "id": "e130dcee",
   "metadata": {},
   "outputs": [],
   "source": []
  },
  {
   "cell_type": "code",
   "execution_count": null,
   "id": "46744edf",
   "metadata": {},
   "outputs": [],
   "source": [
    "from graphviz import Digraph\n",
    "\n",
    "def trace(root):\n",
    "    # builds a set of all nodes and edges in graph\n",
    "    nodes, edges = set(), set()\n",
    "    def build(v):\n",
    "        if v not in nodes:\n",
    "            nodes.add(v)\n",
    "            for child in v._prev:\n",
    "                edges.add((child, v))\n",
    "                build(child)\n",
    "    build(root)\n",
    "    return nodes, edges\n",
    "\n",
    "def draw_dot(root):\n",
    "    dot = Digraph(format='svg', graph_attr={'rankdir': 'LR'}) # LR = left to right, TB = Top to Bottom\n",
    "\n",
    "    nodes, edges = trace(root)\n",
    "    for n in nodes:\n",
    "        uid = str(id(n))\n",
    "        # for any value in the graph, create a rectangular ('record') node for it\n",
    "        dot.node(name = uid, label = \"{ %s | data %.4f }\" % (n.label, n.data, ), shape='record')\n",
    "        if n._op:\n",
    "            # if this value is result of some operation , create an op node for it\n",
    "            dot.node(name = uid + n._op, label = n._op)\n",
    "            # and connect this node to it\n",
    "            dot.edge(uid + n._op, uid)\n",
    "            \n",
    "    for n1, n2 in edges:\n",
    "        # connect n1 node to op node of n2\n",
    "        dot.edge(str(id(n1)), str(id(n2)) + n2._op)\n",
    "    \n",
    "    return dot"
   ]
  },
  {
   "cell_type": "code",
   "execution_count": null,
   "id": "f4d66e13",
   "metadata": {},
   "outputs": [],
   "source": [
    "draw_dot(d)"
   ]
  },
  {
   "cell_type": "code",
   "execution_count": null,
   "id": "45a41669",
   "metadata": {},
   "outputs": [],
   "source": [
    "draw_dot(L)"
   ]
  },
  {
   "cell_type": "code",
   "execution_count": null,
   "id": "b3da8f62",
   "metadata": {},
   "outputs": [],
   "source": []
  },
  {
   "cell_type": "code",
   "execution_count": null,
   "id": "bd927baf",
   "metadata": {},
   "outputs": [],
   "source": [
    "\n",
    "\n",
    "\n",
    "\n",
    "\n",
    "\n",
    "\n",
    "\n",
    "\n",
    "\n",
    "\n",
    "\n",
    "\n",
    "\n",
    "\n",
    "\n",
    "\n",
    "\n",
    "\n",
    "\n",
    "\n",
    "\n",
    "\n",
    "\n",
    "\n",
    "\n",
    "\n",
    "\n",
    "\n",
    "\n",
    "\n",
    "\n",
    "\n",
    "\n",
    "\n",
    "\n",
    "\n",
    "\n",
    "\n",
    "\n"
   ]
  },
  {
   "cell_type": "code",
   "execution_count": null,
   "id": "3bcd8e7f",
   "metadata": {},
   "outputs": [],
   "source": [
    "# Value Obj\n",
    "\n",
    "class Value:\n",
    "    \n",
    "    # _children as tuple because of unknown python efficiency\n",
    "    def __init__( self, data, _children=(), _operation='', label='' ):\n",
    "        self.data = data\n",
    "        self.grad = 0.0\n",
    "        self._prev = set(_children)\n",
    "        self._op = _operation\n",
    "        self.label = label\n",
    "        \n",
    "    # represents nicer looking expressions    \n",
    "    def __repr__(self):\n",
    "        return f\"Value(data={self.data})\"\n",
    "    \n",
    "    def __add__(self, otherObj):\n",
    "        # return NEW Value Obj \n",
    "        out = Value(self.data + otherObj.data, (self, otherObj), '+' )\n",
    "        return out\n",
    "    \n",
    "    def __mul__(self, otherObj):\n",
    "        out = Value(self.data * otherObj.data, (self, otherObj), '*')\n",
    "        return out\n",
    "    \n",
    "    def __sub__(self, otherObj):\n",
    "        out = Value(self.data - otherObj.data, (self, otherObj), '-')\n",
    "        return out"
   ]
  },
  {
   "cell_type": "code",
   "execution_count": null,
   "id": "fb5b5fc6",
   "metadata": {},
   "outputs": [],
   "source": [
    "a = Value(2.0, label='a')\n",
    "b = Value(-3.0, label='b')\n",
    "c = Value(10.0, label='c')\n",
    "\n",
    "# expression\n",
    "e = a*b; e.label='e'\n",
    "d = e + c; d.label='d'\n",
    "f = Value(-2.0, label='f')\n",
    "\n",
    "L = d*f ; L.label='L'\n",
    "L"
   ]
  },
  {
   "cell_type": "code",
   "execution_count": null,
   "id": "11aabb77",
   "metadata": {},
   "outputs": [],
   "source": [
    "from graphviz import Digraph\n",
    "\n",
    "def trace(root):\n",
    "    # builds a set of all nodes and edges in graph\n",
    "    nodes, edges = set(), set()\n",
    "    def build(v):\n",
    "        if v not in nodes:\n",
    "            nodes.add(v)\n",
    "            for child in v._prev:\n",
    "                edges.add((child, v))\n",
    "                build(child)\n",
    "    build(root)\n",
    "    return nodes, edges\n",
    "\n",
    "def draw_dot(root):\n",
    "    dot = Digraph(format='svg', graph_attr={'rankdir': 'LR'}) # LR = left to right, TB = Top to Bottom\n",
    "\n",
    "    nodes, edges = trace(root)\n",
    "    for n in nodes:\n",
    "        uid = str(id(n))\n",
    "        # for any value in the graph, create a rectangular ('record') node for it\n",
    "        dot.node(name = uid, label = \"{ %s | data %.4f | grad %.4f }\" % (n.label, n.data, n.grad ), shape='record')\n",
    "        if n._op:\n",
    "            # if this value is result of some operation , create an op node for it\n",
    "            dot.node(name = uid + n._op, label = n._op)\n",
    "            # and connect this node to it\n",
    "            dot.edge(uid + n._op, uid)\n",
    "            \n",
    "    for n1, n2 in edges:\n",
    "        # connect n1 node to op node of n2\n",
    "        dot.edge(str(id(n1)), str(id(n2)) + n2._op)\n",
    "    \n",
    "    return dot"
   ]
  },
  {
   "cell_type": "code",
   "execution_count": null,
   "id": "8bc64024",
   "metadata": {},
   "outputs": [],
   "source": [
    "draw_dot(L)\n",
    "# grad represents derivative of o/p w.r.t these values\n",
    "# e.g: grad represents derivative of L w.r.t d as well as f"
   ]
  }
 ],
 "metadata": {
  "kernelspec": {
   "display_name": "Python 3 (ipykernel)",
   "language": "python",
   "name": "python3"
  },
  "language_info": {
   "codemirror_mode": {
    "name": "ipython",
    "version": 3
   },
   "file_extension": ".py",
   "mimetype": "text/x-python",
   "name": "python",
   "nbconvert_exporter": "python",
   "pygments_lexer": "ipython3",
   "version": "3.10.9"
  }
 },
 "nbformat": 4,
 "nbformat_minor": 5
}
